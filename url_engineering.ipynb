{
 "cells": [
  {
   "cell_type": "code",
   "execution_count": 1,
   "metadata": {
    "collapsed": true
   },
   "outputs": [],
   "source": [
    "%matplotlib inline"
   ]
  },
  {
   "cell_type": "code",
   "execution_count": 190,
   "metadata": {
    "collapsed": false
   },
   "outputs": [],
   "source": [
    "import json\n",
    "import matplotlib.pyplot as plt\n",
    "import numpy as np\n",
    "import nltk\n",
    "nltk.data.path.append(\"/Users/Michel_home/Documents/Projects/PythonPlay/nltk_data\")\n",
    "from nltk.stem.snowball import SnowballStemmer\n",
    "#import nltk.corpus\n",
    "from nltk.corpus import stopwords\n",
    "\n",
    "import pandas as pd\n",
    "import pickle as pkl\n",
    "import pymysql as mdb\n",
    "import random\n",
    "import seaborn as sns; sns.set()\n",
    "\n",
    "from sklearn.feature_extraction.text import CountVectorizer\n",
    "from sklearn import metrics\n",
    "from sklearn.cluster import KMeans\n",
    "from sklearn.ensemble import RandomForestRegressor\n",
    "from sklearn.svm import SVR\n",
    "from sklearn.preprocessing import scale\n",
    "from sklearn.cross_validation import train_test_split\n",
    "from sklearn.feature_extraction.text import TfidfVectorizer\n",
    "from sklearn.metrics.pairwise import cosine_similarity\n",
    "\n",
    "import re\n",
    "import time"
   ]
  },
  {
   "cell_type": "code",
   "execution_count": 3,
   "metadata": {
    "collapsed": false
   },
   "outputs": [],
   "source": [
    "import datetime\n",
    "from pandas.tools.plotting import scatter_matrix"
   ]
  },
  {
   "cell_type": "raw",
   "metadata": {
    "collapsed": true
   },
   "source": [
    "from featureEngineering import Nsteps_to_N\n",
    "from featureEngineering import list_to_string\n",
    "from featureEngineering import Nsteps_to_N\n",
    "from featureEngineering import Nsteps_to_N\n",
    "from featureEngineering import Nsteps_to_N\n",
    "from featureEngineering import Nsteps_to_N\n",
    "from featureEngineering import "
   ]
  },
  {
   "cell_type": "markdown",
   "metadata": {
    "collapsed": true
   },
   "source": [
    "## ******************content engineering********************"
   ]
  },
  {
   "cell_type": "code",
   "execution_count": null,
   "metadata": {
    "collapsed": false
   },
   "outputs": [],
   "source": [
    "techDF = pd.read_json(\"Data/techno_content.json\")"
   ]
  },
  {
   "cell_type": "code",
   "execution_count": null,
   "metadata": {
    "collapsed": false
   },
   "outputs": [],
   "source": [
    "techDF.sort(\"title\")"
   ]
  },
  {
   "cell_type": "code",
   "execution_count": null,
   "metadata": {
    "collapsed": false
   },
   "outputs": [],
   "source": [
    "techDF.drop_duplicates(inplace=True)#subset = \"title\")\n",
    "#techDF.shape"
   ]
  },
  {
   "cell_type": "code",
   "execution_count": null,
   "metadata": {
    "collapsed": false
   },
   "outputs": [],
   "source": [
    "t = [d for d in techDF.descr if len(d)>12]\n",
    "len(t)"
   ]
  },
  {
   "cell_type": "code",
   "execution_count": null,
   "metadata": {
    "collapsed": false
   },
   "outputs": [],
   "source": [
    "tech_samp = techDF.copy()"
   ]
  },
  {
   "cell_type": "code",
   "execution_count": null,
   "metadata": {
    "collapsed": false
   },
   "outputs": [],
   "source": [
    "tech_samp.shape"
   ]
  },
  {
   "cell_type": "code",
   "execution_count": 389,
   "metadata": {
    "collapsed": false
   },
   "outputs": [],
   "source": [
    "def list_to_string(lista):\n",
    "    if isinstance(lista, list) and lista:\n",
    "        return lista[0]\n",
    "    else:\n",
    "        return lista if lista else \"\"\n",
    "\n",
    "    \n",
    "def descrlist_to_fulltext(string):\n",
    "    #tokenize text\n",
    "    pattern = re.compile('[^a-zA-Z]+')\n",
    "    fulltext = pattern.sub(' ', ' '.join(string))\n",
    "    return fulltext\n",
    "\n",
    "def urlExtract(url_string = \"\"):\n",
    "    pat = re.compile(\"\\/id\\/([\\w-]+)\\/\")\n",
    "    url = re.findall(pat, url_string)\n",
    "    if url:\n",
    "        return url[0]\n",
    "    else:\n",
    "        return \"Error 404: Page not found! The url provided is not of proper format\"\n",
    "\n",
    "\n",
    "\n",
    "def Nsteps_to_N(step_list):\n",
    "    if isinstance(step_list, list) and step_list:\n",
    "        num = re.findall('\\d+', step_list[0])[0]\n",
    "        return int(num)\n",
    "    else:\n",
    "        return 0\n",
    "\n",
    "def Nitem_to_N(alist):\n",
    "    return len(alist)\n",
    "   \n",
    "def meta_to_category(script):\n",
    "    string = script[0]\n",
    "    categ = re.findall('ibleCategory: \"([\\w\\-\\/]+)\"', string)\n",
    "    if not categ:\n",
    "        categ = [\"\"]\n",
    "    url = re.findall('ibleUrl: \"([\\w\\-\\/]+)\"', string)\n",
    "    if not url:\n",
    "        url = [\"\"]\n",
    "    channel = re.findall('ibleChannel: \"([\\w\\-\\/]+)\"', string)\n",
    "    if not channel:\n",
    "        channel = [\"\"]\n",
    "        \n",
    "    return pd.Series( {\"url\" : url[0], \"category\": categ[0], \"channel\":channel[0]})\n",
    "\n",
    "#not robust against unusual format\n",
    "def meta_to_views(script):\n",
    "    fav = script[0]\n",
    "    favorites = re.findall('favorites:(\\d+)', fav)\n",
    "    vw = script[1]\n",
    "    views = re.findall('views:(\\d+)', vw)\n",
    "    return pd.Series( {\"views\" : views[0], \"favorites\": favorites[0]})\n",
    "\n",
    "\n",
    "def date_to_datetime(datestring):\n",
    "    datestring = datestring[0]\n",
    "    delta = datetime.datetime.now() - datetime.datetime.strptime(datestring, \"%Y-%m-%d %H:%M:%S.%f\")\n",
    "    return np.round(delta.total_seconds()/86400)\n",
    "    \n",
    "def getSimProjects(chosen):\n",
    "    if 'bmatch' not in locals():\n",
    "        with open(\"../Data/matchlist.pickle\", 'rb') as f:\n",
    "            bmatch = pkl.load(f)\n",
    "    return bmatch[chosen]"
   ]
  },
  {
   "cell_type": "code",
   "execution_count": null,
   "metadata": {
    "collapsed": false
   },
   "outputs": [],
   "source": [
    "tech_samp.columns"
   ]
  },
  {
   "cell_type": "code",
   "execution_count": null,
   "metadata": {
    "collapsed": false
   },
   "outputs": [],
   "source": [
    "#WORKS\n",
    "s = slice(20389, 20400)\n",
    "testurl = [urlExtract(u) for u in df.loc[s, 'projectID']]\n",
    "testurl"
   ]
  },
  {
   "cell_type": "code",
   "execution_count": null,
   "metadata": {
    "collapsed": false
   },
   "outputs": [],
   "source": [
    "#FEATURE ENGINEEEEERING ###########\n",
    "df = tech_samp[[\"projectID\"]]\n",
    "\n",
    "df.loc[:, \"Nimg\"] = tech_samp[\"Nimages\"].apply(Nitem_to_N)\n",
    "df.loc[:, \"Nlnk\"] = tech_samp[\"Nlinks\"].apply(Nitem_to_N)\n",
    "df.loc[:, \"Nstp\"] = tech_samp[\"Nsteps\"].apply(Nsteps_to_N)\n",
    "df.loc[:,\"Nvid\"] = tech_samp[\"Nvideos\"].apply(Nitem_to_N)\n",
    "#df.loc[:,\"Ncmmt\"] = tech_samp[\"comments\"].apply(Nitem_to_N)\n",
    "df.loc[:, \"Nxtra\"] = tech_samp[\"contentExtra\"].apply(Nitem_to_N)\n",
    "#df.loc[:,\"author\"] = tech_samp[\"author\"].apply(list_to_string)\n",
    "df.loc[:, \"award\"] = tech_samp[\"award\"].apply(list_to_string)\n",
    "df.loc[:, \"scripts\"] = tech_samp[\"scripts\"].apply(Nitem_to_N)\n",
    "df.loc[:, \"keywords\"] = tech_samp[\"keywords\"].apply(list_to_string)\n",
    "df.loc[:, \"title\"] = tech_samp[\"title\"].apply(list_to_string)\n",
    "#df.loc[:,\"comments\"] = tech_samp[\"comments\"].apply(list_to_string)\n",
    "df.loc[:, \"fulltext\"] = tech_samp[\"descr\"].apply(descrlist_to_fulltext)\n",
    "df.loc[:, \"Ndscr\"] = df[\"fulltext\"].apply(len)\n",
    "df.loc[:, \"daysold\"] = tech_samp[\"date\"].apply(date_to_datetime)\n",
    "df.loc[:, \"tags\"] = tech_samp[\"tags\"].apply(list_to_string)\n",
    "\n",
    "# the \"category\" field actually has information on Channel, Category, URL\n",
    "catstring = tech_samp[\"category\"].apply(meta_to_category)\n",
    "df.loc[:,\"category\"] = catstring[\"category\"]\n",
    "df.loc[:,\"channel\"] = catstring[\"channel\"]\n",
    "df.loc[:,\"url\"] = catstring[\"url\"]\n",
    "\n",
    "# views and favorites stored in list in original column \"views\"\n",
    "#viewstring = tech_samp[\"views\"].apply(meta_to_views) \n",
    "#df.loc[:,\"favorites\"] = viewstring[\"favorites\"]\n",
    "#df.loc[:,\"views\"] = viewstring[\"views\"]\n",
    "\n",
    "df.convert_objects(convert_numeric=True)\n",
    "df.shape"
   ]
  },
  {
   "cell_type": "code",
   "execution_count": null,
   "metadata": {
    "collapsed": false
   },
   "outputs": [],
   "source": [
    "df = df[(df.Nstp >1) & (df.Ndscr >40) & (df.url != '') & (df.Nimg > 3) & (df.Nimg < 300)]\n",
    "\n",
    "df.loc[:,\"dscrPerImg\"] = df[\"Ndscr\"]/df[\"Nimg\"]\n",
    "df.loc[:,\"dscrPerStp\"] = df[\"Ndscr\"]/df[\"Nstp\"]\n",
    "df.loc[:,\"logNdscr\"] = df[\"Ndscr\"].apply(np.log)\n",
    "df.loc[:,\"logImg\"] = df[\"Nimg\"].apply(np.log)\n",
    "\n",
    "df = df[(df.dscrPerStp < 6000) & (df.dscrPerImg < 4500)]\n",
    "df.drop_duplicates(subset = \"url\", inplace = True)"
   ]
  },
  {
   "cell_type": "code",
   "execution_count": null,
   "metadata": {
    "collapsed": false
   },
   "outputs": [],
   "source": [
    "df[df.dscrPerImg > 4000].url"
   ]
  },
  {
   "cell_type": "code",
   "execution_count": null,
   "metadata": {
    "collapsed": false
   },
   "outputs": [],
   "source": [
    "print df.shape\n",
    "df.columns"
   ]
  },
  {
   "cell_type": "code",
   "execution_count": null,
   "metadata": {
    "collapsed": false
   },
   "outputs": [],
   "source": [
    "# NO URL longer than 60\n",
    "df[df.url.apply(len)>60].url"
   ]
  },
  {
   "cell_type": "code",
   "execution_count": null,
   "metadata": {
    "collapsed": false
   },
   "outputs": [],
   "source": [
    "df[df.logNdscr != 0].logNdscr.tail()"
   ]
  },
  {
   "cell_type": "markdown",
   "metadata": {},
   "source": [
    "# Start visualizing raw data\n"
   ]
  },
  {
   "cell_type": "code",
   "execution_count": null,
   "metadata": {
    "collapsed": false
   },
   "outputs": [],
   "source": [
    "df2 = df[df.Nimg > 3]\n",
    "df2 = df2.loc[:,[ \"Nstp\",\"Ndscr\", \"Nimg\", \"channel\"]]\n",
    "cor = df.corr()#[[\"Ndscr\", \"Nimg\",\"Nstp\"]].corr()\n",
    "sns.heatmap(cor, square=True)"
   ]
  },
  {
   "cell_type": "code",
   "execution_count": null,
   "metadata": {
    "collapsed": false
   },
   "outputs": [],
   "source": [
    "g = sns.PairGrid(df[[\"logNdscr\",\"dscrPerImg\",\"dscrPerStp\"]], size = 6 )\n",
    "g.map_diag(sns.kdeplot, lw=3)\n",
    "g.map_lower(sns.kdeplot, cmap=\"Blues_d\")"
   ]
  },
  {
   "cell_type": "code",
   "execution_count": null,
   "metadata": {
    "collapsed": false
   },
   "outputs": [],
   "source": [
    "df1 = df[df.channel == \"arduino\"]\n",
    "df3 = df[df.channel != \"arduino\"]\n",
    "\n",
    "randrows = random.sample(range(len(df)),2000)\n",
    "colors = df.loc[randrows,\"channel\"].map(lambda x: \"#0392cf\" if x==\"arduino\" else \"#7bc043\")\n",
    "colors[-12:]"
   ]
  },
  {
   "cell_type": "code",
   "execution_count": null,
   "metadata": {
    "collapsed": false
   },
   "outputs": [],
   "source": [
    "#This shows there is no easy answer like, \"all arduino\" projects always have more lengths then other channels\n",
    "scatter_matrix(df.loc[randrows,[\"logNdscr\",\"logImg\",\"Nstp\"]], color = colors, figsize=(12,9),alpha = 0.5,diagonal='kde')"
   ]
  },
  {
   "cell_type": "code",
   "execution_count": null,
   "metadata": {
    "collapsed": false
   },
   "outputs": [],
   "source": [
    "df.Nstp.describe()"
   ]
  },
  {
   "cell_type": "code",
   "execution_count": null,
   "metadata": {
    "collapsed": false
   },
   "outputs": [],
   "source": [
    "feat_corr = df[df.Nlnk==0].corr()\n",
    "sns.heatmap(feat_corr, square=True)"
   ]
  },
  {
   "cell_type": "code",
   "execution_count": null,
   "metadata": {
    "collapsed": false
   },
   "outputs": [],
   "source": [
    "df_temp = df[df[\"Nimg\"]>100 and df[\"Ndscr\"]<2]\n",
    "scatter_matrix(df_temp[[\"Nimg\", \"Ndscr\"]],figsize=(12,9),alpha = 0.5,diagonal='kde');"
   ]
  },
  {
   "cell_type": "code",
   "execution_count": null,
   "metadata": {
    "collapsed": false
   },
   "outputs": [],
   "source": [
    "df[df[\"Nxtra\"]>0].Nxtra.hist(bins=50)"
   ]
  },
  {
   "cell_type": "code",
   "execution_count": null,
   "metadata": {
    "collapsed": false
   },
   "outputs": [],
   "source": [
    "y = df[\"views\"].values"
   ]
  },
  {
   "cell_type": "markdown",
   "metadata": {},
   "source": [
    "df[\"descr\"] = tech_samp[\"descr\"].apply(list_to_string)\n",
    "df[\"\"] = tech_samp[\"date\"].apply()****\n",
    "df[\"\"] = tech_samp[\"relatedURL\"].apply()\n",
    "df[\"\"] = tech_samp[\"tags\"].apply()"
   ]
  },
  {
   "cell_type": "code",
   "execution_count": null,
   "metadata": {
    "collapsed": true
   },
   "outputs": [],
   "source": []
  },
  {
   "cell_type": "markdown",
   "metadata": {
    "collapsed": true
   },
   "source": [
    "# ####### Label engineering ########"
   ]
  },
  {
   "cell_type": "code",
   "execution_count": 20,
   "metadata": {
    "collapsed": false
   },
   "outputs": [
    {
     "name": "stdout",
     "output_type": "stream",
     "text": [
      "/id/Simple-LED-Circuit-1/\n"
     ]
    }
   ],
   "source": [
    "#df = dataDF.copy()\n",
    "print df.loc[7].url"
   ]
  },
  {
   "cell_type": "code",
   "execution_count": null,
   "metadata": {
    "collapsed": false
   },
   "outputs": [],
   "source": [
    "random.sample(range(len(df)), 300)"
   ]
  },
  {
   "cell_type": "code",
   "execution_count": 120,
   "metadata": {
    "collapsed": false
   },
   "outputs": [
    {
     "data": {
      "text/plain": [
       "Int64Index([72], dtype='int64')"
      ]
     },
     "execution_count": 120,
     "metadata": {},
     "output_type": "execute_result"
    }
   ],
   "source": [
    "row = df[df.url == \"/id/Super-Simple-Phone-Charger/\"].index\n",
    "row"
   ]
  },
  {
   "cell_type": "code",
   "execution_count": 121,
   "metadata": {
    "collapsed": false
   },
   "outputs": [
    {
     "name": "stdout",
     "output_type": "stream",
     "text": [
      "72   NaN\n",
      "Name: complex, dtype: float64\n"
     ]
    }
   ],
   "source": [
    "#row = 20043\n",
    "print df.loc[row].complex"
   ]
  },
  {
   "cell_type": "code",
   "execution_count": 122,
   "metadata": {
    "collapsed": false
   },
   "outputs": [
    {
     "data": {
      "text/plain": [
       "72    1\n",
       "Name: complex, dtype: float64"
      ]
     },
     "execution_count": 122,
     "metadata": {},
     "output_type": "execute_result"
    }
   ],
   "source": [
    "df.loc[row,\"complex\"]=1\n",
    "df.loc[row].complex"
   ]
  },
  {
   "cell_type": "code",
   "execution_count": 127,
   "metadata": {
    "collapsed": false
   },
   "outputs": [
    {
     "name": "stdout",
     "output_type": "stream",
     "text": [
      "82\n"
     ]
    }
   ],
   "source": [
    "print len(df[df.complex>0])"
   ]
  },
  {
   "cell_type": "code",
   "execution_count": null,
   "metadata": {
    "collapsed": true
   },
   "outputs": [],
   "source": []
  },
  {
   "cell_type": "raw",
   "metadata": {
    "collapsed": false
   },
   "source": [
    "# make vector of features\n",
    "dataRaw = df.loc[df[\"complex\"] > 0,[\"logNdscr\",\"logImg\",\"Nstp\",\"Nlnk\", \"Nvid\",\"dscrPerStp\", \"scripts\", \"dscrPerImg\"]]\n",
    "data = scale(dataRaw)\n",
    "\n",
    "label = df.loc[df[\"complex\"] > 0,\"complex\"]"
   ]
  },
  {
   "cell_type": "raw",
   "metadata": {
    "collapsed": false
   },
   "source": [
    "X_train, X_test, Y_train, Y_test = train_test_split(data, label, test_size = 0.3)"
   ]
  },
  {
   "cell_type": "raw",
   "metadata": {
    "collapsed": false
   },
   "source": [
    "linmodel = SVR(kernel='linear')\n",
    "linSVR = linmodel.fit(X_train,Y_train)\n",
    "rbfmodel = SVR(kernel='rbf')\n",
    "rbfSVR = rbfmodel.fit(X_train,Y_train)"
   ]
  },
  {
   "cell_type": "raw",
   "metadata": {
    "collapsed": false
   },
   "source": [
    "y_predlin = linSVR.predict(X_test)\n",
    "y_predrbf = rbfSVR.predict(X_test)"
   ]
  },
  {
   "cell_type": "code",
   "execution_count": null,
   "metadata": {
    "collapsed": false
   },
   "outputs": [],
   "source": [
    "plt.scatter(Y_test,y_predrbf)\n",
    "plt.xlabel(\"True complexity\")\n",
    "plt.ylabel(\"Estimated complexity\")\n",
    "plt.grid(b=False)"
   ]
  },
  {
   "cell_type": "code",
   "execution_count": null,
   "metadata": {
    "collapsed": false
   },
   "outputs": [],
   "source": [
    "raw = df.loc[:,[\"logNdscr\",\"logImg\",\"Nstp\",\"Nlnk\", \"Nstp\", \"Nvid\",\"dscrPerStp\",\"Ncmmt\", \"scripts\", \"dscrPerImg\"]].values\n",
    "raw"
   ]
  },
  {
   "cell_type": "code",
   "execution_count": null,
   "metadata": {
    "collapsed": false
   },
   "outputs": [],
   "source": [
    "ALLdata = scale(raw)\n",
    "df.loc[:,\"complexEst\"] = rbfSVR.predict(ALLdata)"
   ]
  },
  {
   "cell_type": "code",
   "execution_count": null,
   "metadata": {
    "collapsed": false
   },
   "outputs": [],
   "source": [
    "scatter_matrix(df.loc[:5000,[\"complexEst\",\"Nstp\"]])"
   ]
  },
  {
   "cell_type": "code",
   "execution_count": 128,
   "metadata": {
    "collapsed": true
   },
   "outputs": [],
   "source": [
    "#dont use this line as is....\n",
    "df.to_pickle(\"tech-with_complexity82.pickle\")"
   ]
  },
  {
   "cell_type": "code",
   "execution_count": 133,
   "metadata": {
    "collapsed": false
   },
   "outputs": [
    {
     "name": "stdout",
     "output_type": "stream",
     "text": [
      "47\n",
      "82\n"
     ]
    }
   ],
   "source": [
    "print len(dataDF[dataDF.complex>0])\n",
    "print len(df[df.complex>0])"
   ]
  },
  {
   "cell_type": "code",
   "execution_count": null,
   "metadata": {
    "collapsed": false
   },
   "outputs": [],
   "source": [
    "#df.to_pickle(\"Data/techno_features.pickle\")\n",
    "df.shape"
   ]
  },
  {
   "cell_type": "code",
   "execution_count": 4,
   "metadata": {
    "collapsed": true
   },
   "outputs": [],
   "source": [
    "dataDF = pd.read_pickle('../Data/techno_features.pickle')"
   ]
  },
  {
   "cell_type": "code",
   "execution_count": null,
   "metadata": {
    "collapsed": true
   },
   "outputs": [],
   "source": [
    "dataDF2 = pd.read_pickle('Data/techno_content-with_complexity.pickle')"
   ]
  },
  {
   "cell_type": "code",
   "execution_count": null,
   "metadata": {
    "collapsed": false
   },
   "outputs": [],
   "source": [
    "dataDF = dataDF.merge(df.loc[:,[\"url\",\"complex\"]], on=\"url\")\n",
    "dataDF.shape"
   ]
  },
  {
   "cell_type": "code",
   "execution_count": 124,
   "metadata": {
    "collapsed": false
   },
   "outputs": [
    {
     "data": {
      "text/plain": [
       "Index([      u'projectID',            u'Nimg',            u'Nlnk',\n",
       "                  u'Nstp',            u'Nvid',           u'Nxtra',\n",
       "                 u'award',         u'scripts',        u'keywords',\n",
       "                 u'title',        u'fulltext',           u'Ndscr',\n",
       "               u'daysold',            u'tags',        u'category',\n",
       "               u'channel',             u'url',      u'dscrPerImg',\n",
       "            u'dscrPerStp',        u'logNdscr',          u'logImg',\n",
       "               u'complex', u'complexEstimate'],\n",
       "      dtype='object')"
      ]
     },
     "execution_count": 124,
     "metadata": {},
     "output_type": "execute_result"
    }
   ],
   "source": [
    "dataDF.columns"
   ]
  },
  {
   "cell_type": "raw",
   "metadata": {},
   "source": [
    "Features for learning\n",
    "[\"logNdscr\",\"logImg\",\"Nstp\",\"Nlnk\", \"Nxtra\", \"Nvid\",\"dscrPerStp\", \"dscrPerImg\", \"scripts\"]"
   ]
  },
  {
   "cell_type": "code",
   "execution_count": 125,
   "metadata": {
    "collapsed": false
   },
   "outputs": [],
   "source": [
    "#make vector of features\n",
    "dataRaw = df.loc[df[\"complex\"] > 0, [\"logNdscr\",\"logImg\",\"Nstp\",\"Nlnk\", \"Nxtra\", \"Nvid\",\"dscrPerStp\", \"dscrPerImg\", \"scripts\"]]\n",
    "#dataRaw.fillna(value=0, inplace = True)\n",
    "\n",
    "label = df.loc[df[\"complex\"] > 0, \"complex\"]\n",
    "data = scale(dataRaw)\n",
    "data.shape"
   ]
  },
  {
   "cell_type": "code",
   "execution_count": 151,
   "metadata": {
    "collapsed": true
   },
   "outputs": [],
   "source": [
    "X_train, X_test, Y_train, Y_test = train_test_split(data, label, test_size = 0.25)"
   ]
  },
  {
   "cell_type": "code",
   "execution_count": 160,
   "metadata": {
    "collapsed": false
   },
   "outputs": [],
   "source": [
    "linmodel = SVR(kernel='linear')\n",
    "linSVR = linmodel.fit(X_train,Y_train)\n",
    "rbfmodel = SVR(kernel='rbf')\n",
    "rbfSVR = rbfmodel.fit(X_train,Y_train)\n",
    "rfmodel = RandomForestRegressor(n_estimators = 7)\n",
    "randForrest = rfmodel.fit(X_train,Y_train)\n",
    "\n",
    "y_predlin = linSVR.predict(X_test)\n",
    "y_predrbf = rbfSVR.predict(X_test)\n",
    "y_predrfr = randForrest.predict(X_test)"
   ]
  },
  {
   "cell_type": "code",
   "execution_count": 161,
   "metadata": {
    "collapsed": false
   },
   "outputs": [
    {
     "name": "stdout",
     "output_type": "stream",
     "text": [
      "random forrest: 0.750223595414\n",
      "linear SVR: 0.600604393408\n",
      "rbf SVR: 0.871583471116\n"
     ]
    }
   ],
   "source": [
    "print \"random forrest: \" + str(randForrest.score(X_test,Y_test))\n",
    "print \"linear SVR: \" + str(linSVR.score(X_test,Y_test))\n",
    "print \"rbf SVR: \" +  str(rbfSVR.score(X_test,Y_test))"
   ]
  },
  {
   "cell_type": "code",
   "execution_count": 184,
   "metadata": {
    "collapsed": false
   },
   "outputs": [
    {
     "data": {
      "image/png": "[encoded data removed]",
      "text/plain": [
       "<matplotlib.figure.Figure at 0x10c708050>"
      ]
     },
     "metadata": {},
     "output_type": "display_data"
    }
   ],
   "source": [
    "plt.scatter(Y_test,y_predrbf)\n",
    "plt.xlabel(\"True complexity\")\n",
    "plt.ylabel(\"Estimated complexity\")\n",
    "plt.grid(b=False)"
   ]
  },
  {
   "cell_type": "code",
   "execution_count": 164,
   "metadata": {
    "collapsed": true
   },
   "outputs": [],
   "source": [
    "ALLdata = df.loc[:, [\"logNdscr\",\"logImg\",\"Nstp\",\"Nlnk\", \"Nxtra\", \"Nvid\",\"dscrPerStp\", \"dscrPerImg\", \"scripts\"]]\n",
    "df.loc[:, \"complexEstimate\"] = rbfSVR.predict(scale(ALLdata))"
   ]
  },
  {
   "cell_type": "code",
   "execution_count": 165,
   "metadata": {
    "collapsed": false
   },
   "outputs": [
    {
     "data": {
      "text/html": [
       "<div style=\"max-height:1000px;max-width:1500px;overflow:auto;\">\n",
       "<table border=\"1\" class=\"dataframe\">\n",
       "  <thead>\n",
       "    <tr style=\"text-align: right;\">\n",
       "      <th></th>\n",
       "      <th>Nimg</th>\n",
       "      <th>Nlnk</th>\n",
       "      <th>Nstp</th>\n",
       "      <th>Nvid</th>\n",
       "      <th>Nxtra</th>\n",
       "      <th>scripts</th>\n",
       "      <th>Ndscr</th>\n",
       "      <th>daysold</th>\n",
       "      <th>dscrPerImg</th>\n",
       "      <th>dscrPerStp</th>\n",
       "      <th>logNdscr</th>\n",
       "      <th>logImg</th>\n",
       "      <th>complex</th>\n",
       "      <th>complexEstimate</th>\n",
       "    </tr>\n",
       "  </thead>\n",
       "  <tbody>\n",
       "    <tr>\n",
       "      <th>count</th>\n",
       "      <td>34406.000000</td>\n",
       "      <td>34406.000000</td>\n",
       "      <td>34406.000000</td>\n",
       "      <td>34406.000000</td>\n",
       "      <td>34406.000000</td>\n",
       "      <td>34406.000000</td>\n",
       "      <td>34406.000000</td>\n",
       "      <td>34406.000000</td>\n",
       "      <td>34406.000000</td>\n",
       "      <td>34406.000000</td>\n",
       "      <td>34406.000000</td>\n",
       "      <td>34406.000000</td>\n",
       "      <td>82.000000</td>\n",
       "      <td>34406.000000</td>\n",
       "    </tr>\n",
       "    <tr>\n",
       "      <th>mean</th>\n",
       "      <td>18.544789</td>\n",
       "      <td>1.183718</td>\n",
       "      <td>6.673284</td>\n",
       "      <td>0.125443</td>\n",
       "      <td>0.403098</td>\n",
       "      <td>0.374121</td>\n",
       "      <td>4810.203453</td>\n",
       "      <td>1088.720427</td>\n",
       "      <td>325.632479</td>\n",
       "      <td>728.295599</td>\n",
       "      <td>8.021400</td>\n",
       "      <td>2.615899</td>\n",
       "      <td>3.048780</td>\n",
       "      <td>2.670896</td>\n",
       "    </tr>\n",
       "    <tr>\n",
       "      <th>std</th>\n",
       "      <td>19.228082</td>\n",
       "      <td>3.934014</td>\n",
       "      <td>4.370750</td>\n",
       "      <td>0.536438</td>\n",
       "      <td>1.644449</td>\n",
       "      <td>5.960945</td>\n",
       "      <td>5543.738015</td>\n",
       "      <td>896.114678</td>\n",
       "      <td>334.958849</td>\n",
       "      <td>614.082739</td>\n",
       "      <td>0.989209</td>\n",
       "      <td>0.734312</td>\n",
       "      <td>1.350834</td>\n",
       "      <td>0.973135</td>\n",
       "    </tr>\n",
       "    <tr>\n",
       "      <th>min</th>\n",
       "      <td>4.000000</td>\n",
       "      <td>0.000000</td>\n",
       "      <td>2.000000</td>\n",
       "      <td>0.000000</td>\n",
       "      <td>0.000000</td>\n",
       "      <td>0.000000</td>\n",
       "      <td>41.000000</td>\n",
       "      <td>10.000000</td>\n",
       "      <td>1.452381</td>\n",
       "      <td>2.277778</td>\n",
       "      <td>3.713572</td>\n",
       "      <td>1.386294</td>\n",
       "      <td>1.000000</td>\n",
       "      <td>0.867731</td>\n",
       "    </tr>\n",
       "    <tr>\n",
       "      <th>25%</th>\n",
       "      <td>8.000000</td>\n",
       "      <td>0.000000</td>\n",
       "      <td>4.000000</td>\n",
       "      <td>0.000000</td>\n",
       "      <td>0.000000</td>\n",
       "      <td>0.000000</td>\n",
       "      <td>1628.000000</td>\n",
       "      <td>310.000000</td>\n",
       "      <td>127.125000</td>\n",
       "      <td>314.500000</td>\n",
       "      <td>7.395108</td>\n",
       "      <td>2.079442</td>\n",
       "      <td>2.000000</td>\n",
       "      <td>1.829036</td>\n",
       "    </tr>\n",
       "    <tr>\n",
       "      <th>50%</th>\n",
       "      <td>13.000000</td>\n",
       "      <td>0.000000</td>\n",
       "      <td>6.000000</td>\n",
       "      <td>0.000000</td>\n",
       "      <td>0.000000</td>\n",
       "      <td>0.000000</td>\n",
       "      <td>3159.000000</td>\n",
       "      <td>831.000000</td>\n",
       "      <td>225.843826</td>\n",
       "      <td>564.232143</td>\n",
       "      <td>8.058011</td>\n",
       "      <td>2.564949</td>\n",
       "      <td>3.000000</td>\n",
       "      <td>2.764326</td>\n",
       "    </tr>\n",
       "    <tr>\n",
       "      <th>75%</th>\n",
       "      <td>22.000000</td>\n",
       "      <td>0.000000</td>\n",
       "      <td>8.000000</td>\n",
       "      <td>0.000000</td>\n",
       "      <td>0.000000</td>\n",
       "      <td>0.000000</td>\n",
       "      <td>5966.750000</td>\n",
       "      <td>1736.000000</td>\n",
       "      <td>401.226010</td>\n",
       "      <td>948.718750</td>\n",
       "      <td>8.693958</td>\n",
       "      <td>3.091042</td>\n",
       "      <td>4.000000</td>\n",
       "      <td>3.479119</td>\n",
       "    </tr>\n",
       "    <tr>\n",
       "      <th>max</th>\n",
       "      <td>298.000000</td>\n",
       "      <td>132.000000</td>\n",
       "      <td>123.000000</td>\n",
       "      <td>17.000000</td>\n",
       "      <td>157.000000</td>\n",
       "      <td>470.000000</td>\n",
       "      <td>150632.000000</td>\n",
       "      <td>3706.000000</td>\n",
       "      <td>4377.500000</td>\n",
       "      <td>5973.222222</td>\n",
       "      <td>11.922595</td>\n",
       "      <td>5.697093</td>\n",
       "      <td>5.000000</td>\n",
       "      <td>4.816555</td>\n",
       "    </tr>\n",
       "  </tbody>\n",
       "</table>\n",
       "</div>"
      ],
      "text/plain": [
       "               Nimg          Nlnk          Nstp          Nvid         Nxtra  \\\n",
       "count  34406.000000  34406.000000  34406.000000  34406.000000  34406.000000   \n",
       "mean      18.544789      1.183718      6.673284      0.125443      0.403098   \n",
       "std       19.228082      3.934014      4.370750      0.536438      1.644449   \n",
       "min        4.000000      0.000000      2.000000      0.000000      0.000000   \n",
       "25%        8.000000      0.000000      4.000000      0.000000      0.000000   \n",
       "50%       13.000000      0.000000      6.000000      0.000000      0.000000   \n",
       "75%       22.000000      0.000000      8.000000      0.000000      0.000000   \n",
       "max      298.000000    132.000000    123.000000     17.000000    157.000000   \n",
       "\n",
       "            scripts          Ndscr       daysold    dscrPerImg    dscrPerStp  \\\n",
       "count  34406.000000   34406.000000  34406.000000  34406.000000  34406.000000   \n",
       "mean       0.374121    4810.203453   1088.720427    325.632479    728.295599   \n",
       "std        5.960945    5543.738015    896.114678    334.958849    614.082739   \n",
       "min        0.000000      41.000000     10.000000      1.452381      2.277778   \n",
       "25%        0.000000    1628.000000    310.000000    127.125000    314.500000   \n",
       "50%        0.000000    3159.000000    831.000000    225.843826    564.232143   \n",
       "75%        0.000000    5966.750000   1736.000000    401.226010    948.718750   \n",
       "max      470.000000  150632.000000   3706.000000   4377.500000   5973.222222   \n",
       "\n",
       "           logNdscr        logImg    complex  complexEstimate  \n",
       "count  34406.000000  34406.000000  82.000000     34406.000000  \n",
       "mean       8.021400      2.615899   3.048780         2.670896  \n",
       "std        0.989209      0.734312   1.350834         0.973135  \n",
       "min        3.713572      1.386294   1.000000         0.867731  \n",
       "25%        7.395108      2.079442   2.000000         1.829036  \n",
       "50%        8.058011      2.564949   3.000000         2.764326  \n",
       "75%        8.693958      3.091042   4.000000         3.479119  \n",
       "max       11.922595      5.697093   5.000000         4.816555  "
      ]
     },
     "execution_count": 165,
     "metadata": {},
     "output_type": "execute_result"
    }
   ],
   "source": [
    "df.describe()"
   ]
  },
  {
   "cell_type": "code",
   "execution_count": 166,
   "metadata": {
    "collapsed": false
   },
   "outputs": [],
   "source": [
    "f = open('rbfmodel.pickle','wb')\n",
    "s = pkl.dump(rbfmodel,f)\n",
    "f.close()\n",
    "#clf2 = pickle.load(s)\n",
    "# predict on [\"logNdscr\",\"logImg\",\"Nstp\",\"Nlnk\", \"Nvid\",\"dscrPerStp\", \"scripts\", \"dscrPerImg\"]"
   ]
  },
  {
   "cell_type": "code",
   "execution_count": 167,
   "metadata": {
    "collapsed": true
   },
   "outputs": [],
   "source": [
    "df.to_pickle('techno_df-with_estimates.pickle')"
   ]
  },
  {
   "cell_type": "code",
   "execution_count": null,
   "metadata": {
    "collapsed": true
   },
   "outputs": [],
   "source": [
    "dataDF.to_pickle('techno_data_with_estimates.pickle')"
   ]
  },
  {
   "cell_type": "code",
   "execution_count": null,
   "metadata": {
    "collapsed": true
   },
   "outputs": [],
   "source": []
  },
  {
   "cell_type": "code",
   "execution_count": 170,
   "metadata": {
    "collapsed": false
   },
   "outputs": [
    {
     "data": {
      "text/plain": [
       "Index([      u'projectID',            u'Nimg',            u'Nlnk',\n",
       "                  u'Nstp',            u'Nvid',           u'Nxtra',\n",
       "                 u'award',         u'scripts',        u'keywords',\n",
       "                 u'title',        u'fulltext',           u'Ndscr',\n",
       "               u'daysold',            u'tags',        u'category',\n",
       "               u'channel',             u'url',      u'dscrPerImg',\n",
       "            u'dscrPerStp',        u'logNdscr',          u'logImg',\n",
       "               u'complex', u'complexEstimate'],\n",
       "      dtype='object')"
      ]
     },
     "execution_count": 170,
     "metadata": {},
     "output_type": "execute_result"
    }
   ],
   "source": [
    "df.columns"
   ]
  },
  {
   "cell_type": "markdown",
   "metadata": {
    "collapsed": true
   },
   "source": [
    "# Send features to MySQL"
   ]
  },
  {
   "cell_type": "code",
   "execution_count": 9,
   "metadata": {
    "collapsed": false
   },
   "outputs": [
    {
     "data": {
      "text/plain": [
       "True"
      ]
     },
     "execution_count": 9,
     "metadata": {},
     "output_type": "execute_result"
    }
   ],
   "source": [
    "\"/id/Hexapod4-Spider-RobotInstruction-Manual/\" in dataDF.url.values"
   ]
  },
  {
   "cell_type": "code",
   "execution_count": 173,
   "metadata": {
    "collapsed": false
   },
   "outputs": [],
   "source": [
    "con = mdb.connect(user=\"root\", host=\"localhost\", db=\"instructables\",  charset='utf8', unix_socket='/tmp/mysql.sock', port='3307')"
   ]
  },
  {
   "cell_type": "code",
   "execution_count": null,
   "metadata": {
    "collapsed": true
   },
   "outputs": [],
   "source": []
  },
  {
   "cell_type": "code",
   "execution_count": 174,
   "metadata": {
    "collapsed": false
   },
   "outputs": [
    {
     "data": {
      "text/plain": [
       "(34406, 15)"
      ]
     },
     "execution_count": 174,
     "metadata": {},
     "output_type": "execute_result"
    }
   ],
   "source": [
    "#need to make sure these columns are there for modeling\n",
    "#[\"logNdscr\",\"logImg\",\"Nstp\",\"Nlnk\", \"Nxtra\", \"Nvid\",\"dscrPerStp\", \"dscrPerImg\", \"scripts\"]\n",
    "testDB = df.loc[:, [\"url\", \"title\", \"complexEstimate\", \"logNdscr\", \"logImg\", \"Nstp\", \"Nlnk\", \"Nxtra\", \"Nvid\", \"dscrPerStp\", \"dscrPerImg\", \"script\", \"channel\", \"tags\", \"keywords\"]]\n",
    "testDB.shape"
   ]
  },
  {
   "cell_type": "code",
   "execution_count": 175,
   "metadata": {
    "collapsed": false
   },
   "outputs": [
    {
     "name": "stderr",
     "output_type": "stream",
     "text": [
      "/Users/Michel_home/anaconda/lib/python2.7/site-packages/pymysql/cursors.py:134: Warning: Data truncated for column 'title' at row 34\n",
      "  result = self._query(query)\n",
      "/Users/Michel_home/anaconda/lib/python2.7/site-packages/pymysql/cursors.py:134: Warning: Data truncated for column 'title' at row 49\n",
      "  result = self._query(query)\n",
      "/Users/Michel_home/anaconda/lib/python2.7/site-packages/pymysql/cursors.py:134: Warning: Data truncated for column 'title' at row 58\n",
      "  result = self._query(query)\n",
      "/Users/Michel_home/anaconda/lib/python2.7/site-packages/pymysql/cursors.py:134: Warning: Data truncated for column 'title' at row 72\n",
      "  result = self._query(query)\n",
      "/Users/Michel_home/anaconda/lib/python2.7/site-packages/pymysql/cursors.py:134: Warning: Data truncated for column 'title' at row 75\n",
      "  result = self._query(query)\n",
      "/Users/Michel_home/anaconda/lib/python2.7/site-packages/pymysql/cursors.py:134: Warning: Data truncated for column 'title' at row 90\n",
      "  result = self._query(query)\n",
      "/Users/Michel_home/anaconda/lib/python2.7/site-packages/pymysql/cursors.py:134: Warning: Data truncated for column 'title' at row 115\n",
      "  result = self._query(query)\n",
      "/Users/Michel_home/anaconda/lib/python2.7/site-packages/pymysql/cursors.py:134: Warning: Data truncated for column 'title' at row 125\n",
      "  result = self._query(query)\n",
      "/Users/Michel_home/anaconda/lib/python2.7/site-packages/pymysql/cursors.py:134: Warning: Data truncated for column 'title' at row 130\n",
      "  result = self._query(query)\n",
      "/Users/Michel_home/anaconda/lib/python2.7/site-packages/pymysql/cursors.py:134: Warning: Data truncated for column 'title' at row 132\n",
      "  result = self._query(query)\n",
      "/Users/Michel_home/anaconda/lib/python2.7/site-packages/pymysql/cursors.py:134: Warning: Data truncated for column 'title' at row 148\n",
      "  result = self._query(query)\n",
      "/Users/Michel_home/anaconda/lib/python2.7/site-packages/pymysql/cursors.py:134: Warning: Data truncated for column 'title' at row 166\n",
      "  result = self._query(query)\n",
      "/Users/Michel_home/anaconda/lib/python2.7/site-packages/pymysql/cursors.py:134: Warning: Data truncated for column 'title' at row 218\n",
      "  result = self._query(query)\n",
      "/Users/Michel_home/anaconda/lib/python2.7/site-packages/pymysql/cursors.py:134: Warning: Data truncated for column 'title' at row 230\n",
      "  result = self._query(query)\n",
      "/Users/Michel_home/anaconda/lib/python2.7/site-packages/pymysql/cursors.py:134: Warning: Data truncated for column 'title' at row 231\n",
      "  result = self._query(query)\n",
      "/Users/Michel_home/anaconda/lib/python2.7/site-packages/pymysql/cursors.py:134: Warning: Data truncated for column 'title' at row 254\n",
      "  result = self._query(query)\n",
      "/Users/Michel_home/anaconda/lib/python2.7/site-packages/pymysql/cursors.py:134: Warning: Data truncated for column 'title' at row 264\n",
      "  result = self._query(query)\n",
      "/Users/Michel_home/anaconda/lib/python2.7/site-packages/pymysql/cursors.py:134: Warning: Data truncated for column 'title' at row 288\n",
      "  result = self._query(query)\n",
      "/Users/Michel_home/anaconda/lib/python2.7/site-packages/pymysql/cursors.py:134: Warning: Data truncated for column 'title' at row 290\n",
      "  result = self._query(query)\n",
      "/Users/Michel_home/anaconda/lib/python2.7/site-packages/pymysql/cursors.py:134: Warning: Data truncated for column 'title' at row 293\n",
      "  result = self._query(query)\n",
      "/Users/Michel_home/anaconda/lib/python2.7/site-packages/pymysql/cursors.py:134: Warning: Data truncated for column 'title' at row 337\n",
      "  result = self._query(query)\n",
      "/Users/Michel_home/anaconda/lib/python2.7/site-packages/pymysql/cursors.py:134: Warning: Data truncated for column 'title' at row 404\n",
      "  result = self._query(query)\n",
      "/Users/Michel_home/anaconda/lib/python2.7/site-packages/pymysql/cursors.py:134: Warning: Data truncated for column 'title' at row 407\n",
      "  result = self._query(query)\n",
      "/Users/Michel_home/anaconda/lib/python2.7/site-packages/pymysql/cursors.py:134: Warning: Data truncated for column 'title' at row 421\n",
      "  result = self._query(query)\n",
      "/Users/Michel_home/anaconda/lib/python2.7/site-packages/pymysql/cursors.py:134: Warning: Data truncated for column 'title' at row 427\n",
      "  result = self._query(query)\n",
      "/Users/Michel_home/anaconda/lib/python2.7/site-packages/pymysql/cursors.py:134: Warning: Data truncated for column 'title' at row 430\n",
      "  result = self._query(query)\n",
      "/Users/Michel_home/anaconda/lib/python2.7/site-packages/pymysql/cursors.py:134: Warning: Data truncated for column 'title' at row 477\n",
      "  result = self._query(query)\n",
      "/Users/Michel_home/anaconda/lib/python2.7/site-packages/pymysql/cursors.py:134: Warning: Data truncated for column 'title' at row 478\n",
      "  result = self._query(query)\n",
      "/Users/Michel_home/anaconda/lib/python2.7/site-packages/pymysql/cursors.py:134: Warning: Data truncated for column 'title' at row 484\n",
      "  result = self._query(query)\n",
      "/Users/Michel_home/anaconda/lib/python2.7/site-packages/pymysql/cursors.py:134: Warning: Data truncated for column 'title' at row 527\n",
      "  result = self._query(query)\n",
      "/Users/Michel_home/anaconda/lib/python2.7/site-packages/pymysql/cursors.py:134: Warning: Data truncated for column 'title' at row 540\n",
      "  result = self._query(query)\n",
      "/Users/Michel_home/anaconda/lib/python2.7/site-packages/pymysql/cursors.py:134: Warning: Data truncated for column 'title' at row 541\n",
      "  result = self._query(query)\n",
      "/Users/Michel_home/anaconda/lib/python2.7/site-packages/pymysql/cursors.py:134: Warning: Data truncated for column 'title' at row 542\n",
      "  result = self._query(query)\n",
      "/Users/Michel_home/anaconda/lib/python2.7/site-packages/pymysql/cursors.py:134: Warning: Data truncated for column 'title' at row 552\n",
      "  result = self._query(query)\n",
      "/Users/Michel_home/anaconda/lib/python2.7/site-packages/pymysql/cursors.py:134: Warning: Data truncated for column 'title' at row 586\n",
      "  result = self._query(query)\n",
      "/Users/Michel_home/anaconda/lib/python2.7/site-packages/pymysql/cursors.py:134: Warning: Data truncated for column 'title' at row 119\n",
      "  result = self._query(query)\n",
      "/Users/Michel_home/anaconda/lib/python2.7/site-packages/pymysql/cursors.py:134: Warning: Data truncated for column 'title' at row 178\n",
      "  result = self._query(query)\n",
      "/Users/Michel_home/anaconda/lib/python2.7/site-packages/pymysql/cursors.py:134: Warning: Data truncated for column 'title' at row 250\n",
      "  result = self._query(query)\n",
      "/Users/Michel_home/anaconda/lib/python2.7/site-packages/pymysql/cursors.py:134: Warning: Data truncated for column 'title' at row 283\n",
      "  result = self._query(query)\n",
      "/Users/Michel_home/anaconda/lib/python2.7/site-packages/pymysql/cursors.py:134: Warning: Data truncated for column 'title' at row 316\n",
      "  result = self._query(query)\n",
      "/Users/Michel_home/anaconda/lib/python2.7/site-packages/pymysql/cursors.py:134: Warning: Data truncated for column 'title' at row 317\n",
      "  result = self._query(query)\n",
      "/Users/Michel_home/anaconda/lib/python2.7/site-packages/pymysql/cursors.py:134: Warning: Data truncated for column 'title' at row 323\n",
      "  result = self._query(query)\n",
      "/Users/Michel_home/anaconda/lib/python2.7/site-packages/pymysql/cursors.py:134: Warning: Data truncated for column 'title' at row 342\n",
      "  result = self._query(query)\n",
      "/Users/Michel_home/anaconda/lib/python2.7/site-packages/pymysql/cursors.py:134: Warning: Data truncated for column 'title' at row 372\n",
      "  result = self._query(query)\n",
      "/Users/Michel_home/anaconda/lib/python2.7/site-packages/pymysql/cursors.py:134: Warning: Data truncated for column 'title' at row 408\n",
      "  result = self._query(query)\n",
      "/Users/Michel_home/anaconda/lib/python2.7/site-packages/pymysql/cursors.py:134: Warning: Data truncated for column 'title' at row 453\n",
      "  result = self._query(query)\n",
      "/Users/Michel_home/anaconda/lib/python2.7/site-packages/pymysql/cursors.py:134: Warning: Data truncated for column 'title' at row 498\n",
      "  result = self._query(query)\n",
      "/Users/Michel_home/anaconda/lib/python2.7/site-packages/pymysql/cursors.py:134: Warning: Data truncated for column 'title' at row 589\n",
      "  result = self._query(query)\n",
      "/Users/Michel_home/anaconda/lib/python2.7/site-packages/pymysql/cursors.py:134: Warning: Data truncated for column 'title' at row 699\n",
      "  result = self._query(query)\n",
      "/Users/Michel_home/anaconda/lib/python2.7/site-packages/pymysql/cursors.py:134: Warning: Data truncated for column 'title' at row 713\n",
      "  result = self._query(query)\n",
      "/Users/Michel_home/anaconda/lib/python2.7/site-packages/pymysql/cursors.py:134: Warning: Data truncated for column 'title' at row 803\n",
      "  result = self._query(query)\n",
      "/Users/Michel_home/anaconda/lib/python2.7/site-packages/pymysql/cursors.py:134: Warning: Data truncated for column 'title' at row 806\n",
      "  result = self._query(query)\n",
      "/Users/Michel_home/anaconda/lib/python2.7/site-packages/pymysql/cursors.py:134: Warning: Incorrect string value: '\\xE2\\x9D\\xA4 or...' for column 'title' at row 858\n",
      "  result = self._query(query)\n",
      "/Users/Michel_home/anaconda/lib/python2.7/site-packages/pymysql/cursors.py:134: Warning: Data truncated for column 'title' at row 874\n",
      "  result = self._query(query)\n",
      "/Users/Michel_home/anaconda/lib/python2.7/site-packages/pymysql/cursors.py:134: Warning: Data truncated for column 'title' at row 931\n",
      "  result = self._query(query)\n",
      "/Users/Michel_home/anaconda/lib/python2.7/site-packages/pymysql/cursors.py:134: Warning: Incorrect string value: '\\xEF\\xBC\\x9ALin...' for column 'title' at row 1017\n",
      "  result = self._query(query)\n",
      "/Users/Michel_home/anaconda/lib/python2.7/site-packages/pymysql/cursors.py:134: Warning: Data truncated for column 'title' at row 1060\n",
      "  result = self._query(query)\n",
      "/Users/Michel_home/anaconda/lib/python2.7/site-packages/pymysql/cursors.py:134: Warning: Data truncated for column 'title' at row 1074\n",
      "  result = self._query(query)\n",
      "/Users/Michel_home/anaconda/lib/python2.7/site-packages/pymysql/cursors.py:134: Warning: Data truncated for column 'title' at row 1093\n",
      "  result = self._query(query)\n",
      "/Users/Michel_home/anaconda/lib/python2.7/site-packages/pymysql/cursors.py:134: Warning: Data truncated for column 'title' at row 1168\n",
      "  result = self._query(query)\n",
      "/Users/Michel_home/anaconda/lib/python2.7/site-packages/pymysql/cursors.py:134: Warning: Data truncated for column 'title' at row 1169\n",
      "  result = self._query(query)\n",
      "/Users/Michel_home/anaconda/lib/python2.7/site-packages/pymysql/cursors.py:134: Warning: Data truncated for column 'title' at row 1170\n",
      "  result = self._query(query)\n",
      "/Users/Michel_home/anaconda/lib/python2.7/site-packages/pymysql/cursors.py:134: Warning: Incorrect string value: '\\xEF\\xBF\\xBDsic...' for column 'title' at row 1202\n",
      "  result = self._query(query)\n",
      "/Users/Michel_home/anaconda/lib/python2.7/site-packages/pymysql/cursors.py:134: Warning: Data truncated for column 'title' at row 1212\n",
      "  result = self._query(query)\n",
      "/Users/Michel_home/anaconda/lib/python2.7/site-packages/pymysql/cursors.py:134: Warning: Data truncated for column 'title' at row 1221\n",
      "  result = self._query(query)\n",
      "/Users/Michel_home/anaconda/lib/python2.7/site-packages/pymysql/cursors.py:134: Warning: Data truncated for column 'title' at row 1252\n",
      "  result = self._query(query)\n",
      "/Users/Michel_home/anaconda/lib/python2.7/site-packages/pymysql/cursors.py:134: Warning: Data truncated for column 'title' at row 1272\n",
      "  result = self._query(query)\n",
      "/Users/Michel_home/anaconda/lib/python2.7/site-packages/pymysql/cursors.py:134: Warning: Data truncated for column 'title' at row 1278\n",
      "  result = self._query(query)\n",
      "/Users/Michel_home/anaconda/lib/python2.7/site-packages/pymysql/cursors.py:134: Warning: Data truncated for column 'title' at row 1304\n",
      "  result = self._query(query)\n",
      "/Users/Michel_home/anaconda/lib/python2.7/site-packages/pymysql/cursors.py:134: Warning: Data truncated for column 'title' at row 1331\n",
      "  result = self._query(query)\n",
      "/Users/Michel_home/anaconda/lib/python2.7/site-packages/pymysql/cursors.py:134: Warning: Data truncated for column 'title' at row 1369\n",
      "  result = self._query(query)\n",
      "/Users/Michel_home/anaconda/lib/python2.7/site-packages/pymysql/cursors.py:134: Warning: Data truncated for column 'title' at row 1415\n",
      "  result = self._query(query)\n",
      "/Users/Michel_home/anaconda/lib/python2.7/site-packages/pymysql/cursors.py:134: Warning: Data truncated for column 'title' at row 1419\n",
      "  result = self._query(query)\n",
      "/Users/Michel_home/anaconda/lib/python2.7/site-packages/pymysql/cursors.py:134: Warning: Data truncated for column 'title' at row 98\n",
      "  result = self._query(query)\n",
      "/Users/Michel_home/anaconda/lib/python2.7/site-packages/pymysql/cursors.py:134: Warning: Data truncated for column 'title' at row 157\n",
      "  result = self._query(query)\n",
      "/Users/Michel_home/anaconda/lib/python2.7/site-packages/pymysql/cursors.py:134: Warning: Data truncated for column 'title' at row 204\n",
      "  result = self._query(query)\n",
      "/Users/Michel_home/anaconda/lib/python2.7/site-packages/pymysql/cursors.py:134: Warning: Data truncated for column 'title' at row 280\n",
      "  result = self._query(query)\n",
      "/Users/Michel_home/anaconda/lib/python2.7/site-packages/pymysql/cursors.py:134: Warning: Data truncated for column 'title' at row 334\n",
      "  result = self._query(query)\n",
      "/Users/Michel_home/anaconda/lib/python2.7/site-packages/pymysql/cursors.py:134: Warning: Data truncated for column 'title' at row 347\n",
      "  result = self._query(query)\n",
      "/Users/Michel_home/anaconda/lib/python2.7/site-packages/pymysql/cursors.py:134: Warning: Incorrect string value: '\\xC2\\x80\\xC2\\x9CSn...' for column 'title' at row 370\n",
      "  result = self._query(query)\n",
      "/Users/Michel_home/anaconda/lib/python2.7/site-packages/pymysql/cursors.py:134: Warning: Data truncated for column 'title' at row 458\n",
      "  result = self._query(query)\n",
      "/Users/Michel_home/anaconda/lib/python2.7/site-packages/pymysql/cursors.py:134: Warning: Data truncated for column 'title' at row 521\n",
      "  result = self._query(query)\n",
      "/Users/Michel_home/anaconda/lib/python2.7/site-packages/pymysql/cursors.py:134: Warning: Data truncated for column 'title' at row 526\n",
      "  result = self._query(query)\n",
      "/Users/Michel_home/anaconda/lib/python2.7/site-packages/pymysql/cursors.py:134: Warning: Incorrect string value: '\\xEF\\xBF\\xBD Li...' for column 'title' at row 531\n",
      "  result = self._query(query)\n",
      "/Users/Michel_home/anaconda/lib/python2.7/site-packages/pymysql/cursors.py:134: Warning: Data truncated for column 'title' at row 610\n",
      "  result = self._query(query)\n",
      "/Users/Michel_home/anaconda/lib/python2.7/site-packages/pymysql/cursors.py:134: Warning: Data truncated for column 'title' at row 637\n",
      "  result = self._query(query)\n",
      "/Users/Michel_home/anaconda/lib/python2.7/site-packages/pymysql/cursors.py:134: Warning: Incorrect string value: '\\xEF\\xBF\\xBD2' for column 'title' at row 674\n",
      "  result = self._query(query)\n",
      "/Users/Michel_home/anaconda/lib/python2.7/site-packages/pymysql/cursors.py:134: Warning: Data truncated for column 'title' at row 678\n",
      "  result = self._query(query)\n",
      "/Users/Michel_home/anaconda/lib/python2.7/site-packages/pymysql/cursors.py:134: Warning: Data truncated for column 'title' at row 680\n",
      "  result = self._query(query)\n",
      "/Users/Michel_home/anaconda/lib/python2.7/site-packages/pymysql/cursors.py:134: Warning: Data truncated for column 'title' at row 694\n",
      "  result = self._query(query)\n",
      "/Users/Michel_home/anaconda/lib/python2.7/site-packages/pymysql/cursors.py:134: Warning: Data truncated for column 'title' at row 710\n",
      "  result = self._query(query)\n",
      "/Users/Michel_home/anaconda/lib/python2.7/site-packages/pymysql/cursors.py:134: Warning: Data truncated for column 'title' at row 731\n",
      "  result = self._query(query)\n",
      "/Users/Michel_home/anaconda/lib/python2.7/site-packages/pymysql/cursors.py:134: Warning: Data truncated for column 'title' at row 778\n",
      "  result = self._query(query)\n",
      "/Users/Michel_home/anaconda/lib/python2.7/site-packages/pymysql/cursors.py:134: Warning: Data truncated for column 'title' at row 818\n",
      "  result = self._query(query)\n",
      "/Users/Michel_home/anaconda/lib/python2.7/site-packages/pymysql/cursors.py:134: Warning: Data truncated for column 'title' at row 829\n",
      "  result = self._query(query)\n",
      "/Users/Michel_home/anaconda/lib/python2.7/site-packages/pymysql/cursors.py:134: Warning: Data truncated for column 'title' at row 839\n",
      "  result = self._query(query)\n",
      "/Users/Michel_home/anaconda/lib/python2.7/site-packages/pymysql/cursors.py:134: Warning: Data truncated for column 'title' at row 862\n",
      "  result = self._query(query)\n",
      "/Users/Michel_home/anaconda/lib/python2.7/site-packages/pymysql/cursors.py:134: Warning: Data truncated for column 'title' at row 881\n",
      "  result = self._query(query)\n",
      "/Users/Michel_home/anaconda/lib/python2.7/site-packages/pymysql/cursors.py:134: Warning: Data truncated for column 'title' at row 900\n",
      "  result = self._query(query)\n",
      "/Users/Michel_home/anaconda/lib/python2.7/site-packages/pymysql/cursors.py:134: Warning: Data truncated for column 'title' at row 912\n",
      "  result = self._query(query)\n",
      "/Users/Michel_home/anaconda/lib/python2.7/site-packages/pymysql/cursors.py:134: Warning: Data truncated for column 'title' at row 952\n",
      "  result = self._query(query)\n",
      "/Users/Michel_home/anaconda/lib/python2.7/site-packages/pymysql/cursors.py:134: Warning: Data truncated for column 'title' at row 1003\n",
      "  result = self._query(query)\n",
      "/Users/Michel_home/anaconda/lib/python2.7/site-packages/pymysql/cursors.py:134: Warning: Data truncated for column 'title' at row 1021\n",
      "  result = self._query(query)\n",
      "/Users/Michel_home/anaconda/lib/python2.7/site-packages/pymysql/cursors.py:134: Warning: Data truncated for column 'title' at row 1080\n",
      "  result = self._query(query)\n",
      "/Users/Michel_home/anaconda/lib/python2.7/site-packages/pymysql/cursors.py:134: Warning: Data truncated for column 'title' at row 1084\n",
      "  result = self._query(query)\n",
      "/Users/Michel_home/anaconda/lib/python2.7/site-packages/pymysql/cursors.py:134: Warning: Data truncated for column 'title' at row 1097\n",
      "  result = self._query(query)\n",
      "/Users/Michel_home/anaconda/lib/python2.7/site-packages/pymysql/cursors.py:134: Warning: Data truncated for column 'title' at row 1161\n",
      "  result = self._query(query)\n",
      "/Users/Michel_home/anaconda/lib/python2.7/site-packages/pymysql/cursors.py:134: Warning: Data truncated for column 'title' at row 1167\n",
      "  result = self._query(query)\n",
      "/Users/Michel_home/anaconda/lib/python2.7/site-packages/pymysql/cursors.py:134: Warning: Data truncated for column 'title' at row 1205\n",
      "  result = self._query(query)\n",
      "/Users/Michel_home/anaconda/lib/python2.7/site-packages/pymysql/cursors.py:134: Warning: Data truncated for column 'title' at row 1211\n",
      "  result = self._query(query)\n",
      "/Users/Michel_home/anaconda/lib/python2.7/site-packages/pymysql/cursors.py:134: Warning: Data truncated for column 'tags' at row 1214\n",
      "  result = self._query(query)\n",
      "/Users/Michel_home/anaconda/lib/python2.7/site-packages/pymysql/cursors.py:134: Warning: Data truncated for column 'title' at row 1219\n",
      "  result = self._query(query)\n",
      "/Users/Michel_home/anaconda/lib/python2.7/site-packages/pymysql/cursors.py:134: Warning: Data truncated for column 'title' at row 5\n",
      "  result = self._query(query)\n",
      "/Users/Michel_home/anaconda/lib/python2.7/site-packages/pymysql/cursors.py:134: Warning: Data truncated for column 'title' at row 51\n",
      "  result = self._query(query)\n",
      "/Users/Michel_home/anaconda/lib/python2.7/site-packages/pymysql/cursors.py:134: Warning: Data truncated for column 'title' at row 60\n",
      "  result = self._query(query)\n",
      "/Users/Michel_home/anaconda/lib/python2.7/site-packages/pymysql/cursors.py:134: Warning: Data truncated for column 'title' at row 73\n",
      "  result = self._query(query)\n",
      "/Users/Michel_home/anaconda/lib/python2.7/site-packages/pymysql/cursors.py:134: Warning: Data truncated for column 'title' at row 92\n",
      "  result = self._query(query)\n",
      "/Users/Michel_home/anaconda/lib/python2.7/site-packages/pymysql/cursors.py:134: Warning: Data truncated for column 'title' at row 107\n",
      "  result = self._query(query)\n",
      "/Users/Michel_home/anaconda/lib/python2.7/site-packages/pymysql/cursors.py:134: Warning: Data truncated for column 'title' at row 163\n",
      "  result = self._query(query)\n",
      "/Users/Michel_home/anaconda/lib/python2.7/site-packages/pymysql/cursors.py:134: Warning: Data truncated for column 'title' at row 174\n",
      "  result = self._query(query)\n",
      "/Users/Michel_home/anaconda/lib/python2.7/site-packages/pymysql/cursors.py:134: Warning: Data truncated for column 'title' at row 257\n",
      "  result = self._query(query)\n",
      "/Users/Michel_home/anaconda/lib/python2.7/site-packages/pymysql/cursors.py:134: Warning: Data truncated for column 'title' at row 258\n",
      "  result = self._query(query)\n",
      "/Users/Michel_home/anaconda/lib/python2.7/site-packages/pymysql/cursors.py:134: Warning: Data truncated for column 'title' at row 294\n",
      "  result = self._query(query)\n",
      "/Users/Michel_home/anaconda/lib/python2.7/site-packages/pymysql/cursors.py:134: Warning: Data truncated for column 'title' at row 339\n",
      "  result = self._query(query)\n",
      "/Users/Michel_home/anaconda/lib/python2.7/site-packages/pymysql/cursors.py:134: Warning: Data truncated for column 'title' at row 340\n",
      "  result = self._query(query)\n",
      "/Users/Michel_home/anaconda/lib/python2.7/site-packages/pymysql/cursors.py:134: Warning: Data truncated for column 'title' at row 379\n",
      "  result = self._query(query)\n",
      "/Users/Michel_home/anaconda/lib/python2.7/site-packages/pymysql/cursors.py:134: Warning: Data truncated for column 'title' at row 413\n",
      "  result = self._query(query)\n",
      "/Users/Michel_home/anaconda/lib/python2.7/site-packages/pymysql/cursors.py:134: Warning: Data truncated for column 'title' at row 489\n",
      "  result = self._query(query)\n",
      "/Users/Michel_home/anaconda/lib/python2.7/site-packages/pymysql/cursors.py:134: Warning: Data truncated for column 'tags' at row 560\n",
      "  result = self._query(query)\n",
      "/Users/Michel_home/anaconda/lib/python2.7/site-packages/pymysql/cursors.py:134: Warning: Data truncated for column 'title' at row 587\n",
      "  result = self._query(query)\n",
      "/Users/Michel_home/anaconda/lib/python2.7/site-packages/pymysql/cursors.py:134: Warning: Data truncated for column 'title' at row 612\n",
      "  result = self._query(query)\n",
      "/Users/Michel_home/anaconda/lib/python2.7/site-packages/pymysql/cursors.py:134: Warning: Data truncated for column 'title' at row 614\n",
      "  result = self._query(query)\n",
      "/Users/Michel_home/anaconda/lib/python2.7/site-packages/pymysql/cursors.py:134: Warning: Data truncated for column 'title' at row 618\n",
      "  result = self._query(query)\n",
      "/Users/Michel_home/anaconda/lib/python2.7/site-packages/pymysql/cursors.py:134: Warning: Data truncated for column 'title' at row 716\n",
      "  result = self._query(query)\n",
      "/Users/Michel_home/anaconda/lib/python2.7/site-packages/pymysql/cursors.py:134: Warning: Data truncated for column 'title' at row 796\n",
      "  result = self._query(query)\n",
      "/Users/Michel_home/anaconda/lib/python2.7/site-packages/pymysql/cursors.py:134: Warning: Data truncated for column 'title' at row 802\n",
      "  result = self._query(query)\n",
      "/Users/Michel_home/anaconda/lib/python2.7/site-packages/pymysql/cursors.py:134: Warning: Data truncated for column 'tags' at row 836\n",
      "  result = self._query(query)\n",
      "/Users/Michel_home/anaconda/lib/python2.7/site-packages/pymysql/cursors.py:134: Warning: Data truncated for column 'title' at row 845\n",
      "  result = self._query(query)\n",
      "/Users/Michel_home/anaconda/lib/python2.7/site-packages/pymysql/cursors.py:134: Warning: Data truncated for column 'title' at row 865\n",
      "  result = self._query(query)\n",
      "/Users/Michel_home/anaconda/lib/python2.7/site-packages/pymysql/cursors.py:134: Warning: Data truncated for column 'title' at row 904\n",
      "  result = self._query(query)\n",
      "/Users/Michel_home/anaconda/lib/python2.7/site-packages/pymysql/cursors.py:134: Warning: Data truncated for column 'title' at row 915\n",
      "  result = self._query(query)\n",
      "/Users/Michel_home/anaconda/lib/python2.7/site-packages/pymysql/cursors.py:134: Warning: Data truncated for column 'title' at row 919\n",
      "  result = self._query(query)\n",
      "/Users/Michel_home/anaconda/lib/python2.7/site-packages/pymysql/cursors.py:134: Warning: Data truncated for column 'title' at row 938\n",
      "  result = self._query(query)\n",
      "/Users/Michel_home/anaconda/lib/python2.7/site-packages/pymysql/cursors.py:134: Warning: Data truncated for column 'title' at row 957\n",
      "  result = self._query(query)\n",
      "/Users/Michel_home/anaconda/lib/python2.7/site-packages/pymysql/cursors.py:134: Warning: Data truncated for column 'title' at row 959\n",
      "  result = self._query(query)\n",
      "/Users/Michel_home/anaconda/lib/python2.7/site-packages/pymysql/cursors.py:134: Warning: Data truncated for column 'title' at row 960\n",
      "  result = self._query(query)\n",
      "/Users/Michel_home/anaconda/lib/python2.7/site-packages/pymysql/cursors.py:134: Warning: Data truncated for column 'title' at row 978\n",
      "  result = self._query(query)\n",
      "/Users/Michel_home/anaconda/lib/python2.7/site-packages/pymysql/cursors.py:134: Warning: Data truncated for column 'title' at row 981\n",
      "  result = self._query(query)\n",
      "/Users/Michel_home/anaconda/lib/python2.7/site-packages/pymysql/cursors.py:134: Warning: Data truncated for column 'title' at row 29\n",
      "  result = self._query(query)\n",
      "/Users/Michel_home/anaconda/lib/python2.7/site-packages/pymysql/cursors.py:134: Warning: Data truncated for column 'title' at row 36\n",
      "  result = self._query(query)\n",
      "/Users/Michel_home/anaconda/lib/python2.7/site-packages/pymysql/cursors.py:134: Warning: Data truncated for column 'title' at row 140\n",
      "  result = self._query(query)\n",
      "/Users/Michel_home/anaconda/lib/python2.7/site-packages/pymysql/cursors.py:134: Warning: Data truncated for column 'title' at row 159\n",
      "  result = self._query(query)\n",
      "/Users/Michel_home/anaconda/lib/python2.7/site-packages/pymysql/cursors.py:134: Warning: Data truncated for column 'title' at row 172\n",
      "  result = self._query(query)\n",
      "/Users/Michel_home/anaconda/lib/python2.7/site-packages/pymysql/cursors.py:134: Warning: Data truncated for column 'title' at row 177\n",
      "  result = self._query(query)\n",
      "/Users/Michel_home/anaconda/lib/python2.7/site-packages/pymysql/cursors.py:134: Warning: Data truncated for column 'title' at row 232\n",
      "  result = self._query(query)\n",
      "/Users/Michel_home/anaconda/lib/python2.7/site-packages/pymysql/cursors.py:134: Warning: Data truncated for column 'title' at row 256\n",
      "  result = self._query(query)\n",
      "/Users/Michel_home/anaconda/lib/python2.7/site-packages/pymysql/cursors.py:134: Warning: Data truncated for column 'tags' at row 350\n",
      "  result = self._query(query)\n",
      "/Users/Michel_home/anaconda/lib/python2.7/site-packages/pymysql/cursors.py:134: Warning: Data truncated for column 'title' at row 351\n",
      "  result = self._query(query)\n",
      "/Users/Michel_home/anaconda/lib/python2.7/site-packages/pymysql/cursors.py:134: Warning: Incorrect string value: '\\xE2\\x80\\xB3 i2...' for column 'title' at row 370\n",
      "  result = self._query(query)\n",
      "/Users/Michel_home/anaconda/lib/python2.7/site-packages/pymysql/cursors.py:134: Warning: Data truncated for column 'title' at row 446\n",
      "  result = self._query(query)\n",
      "/Users/Michel_home/anaconda/lib/python2.7/site-packages/pymysql/cursors.py:134: Warning: Data truncated for column 'title' at row 462\n",
      "  result = self._query(query)\n",
      "/Users/Michel_home/anaconda/lib/python2.7/site-packages/pymysql/cursors.py:134: Warning: Data truncated for column 'title' at row 571\n",
      "  result = self._query(query)\n",
      "/Users/Michel_home/anaconda/lib/python2.7/site-packages/pymysql/cursors.py:134: Warning: Data truncated for column 'title' at row 582\n",
      "  result = self._query(query)\n",
      "/Users/Michel_home/anaconda/lib/python2.7/site-packages/pymysql/cursors.py:134: Warning: Data truncated for column 'title' at row 598\n",
      "  result = self._query(query)\n",
      "/Users/Michel_home/anaconda/lib/python2.7/site-packages/pymysql/cursors.py:134: Warning: Data truncated for column 'title' at row 603\n",
      "  result = self._query(query)\n",
      "/Users/Michel_home/anaconda/lib/python2.7/site-packages/pymysql/cursors.py:134: Warning: Data truncated for column 'title' at row 646\n",
      "  result = self._query(query)\n",
      "/Users/Michel_home/anaconda/lib/python2.7/site-packages/pymysql/cursors.py:134: Warning: Data truncated for column 'title' at row 696\n",
      "  result = self._query(query)\n",
      "/Users/Michel_home/anaconda/lib/python2.7/site-packages/pymysql/cursors.py:134: Warning: Data truncated for column 'title' at row 698\n",
      "  result = self._query(query)\n",
      "/Users/Michel_home/anaconda/lib/python2.7/site-packages/pymysql/cursors.py:134: Warning: Data truncated for column 'title' at row 785\n",
      "  result = self._query(query)\n",
      "/Users/Michel_home/anaconda/lib/python2.7/site-packages/pymysql/cursors.py:134: Warning: Data truncated for column 'title' at row 800\n",
      "  result = self._query(query)\n",
      "/Users/Michel_home/anaconda/lib/python2.7/site-packages/pymysql/cursors.py:134: Warning: Incorrect string value: '\\xE2\\x82\\xB9100...' for column 'title' at row 821\n",
      "  result = self._query(query)\n",
      "/Users/Michel_home/anaconda/lib/python2.7/site-packages/pymysql/cursors.py:134: Warning: Data truncated for column 'title' at row 828\n",
      "  result = self._query(query)\n",
      "/Users/Michel_home/anaconda/lib/python2.7/site-packages/pymysql/cursors.py:134: Warning: Data truncated for column 'title' at row 10\n",
      "  result = self._query(query)\n",
      "/Users/Michel_home/anaconda/lib/python2.7/site-packages/pymysql/cursors.py:134: Warning: Data truncated for column 'title' at row 17\n",
      "  result = self._query(query)\n",
      "/Users/Michel_home/anaconda/lib/python2.7/site-packages/pymysql/cursors.py:134: Warning: Data truncated for column 'title' at row 18\n",
      "  result = self._query(query)\n",
      "/Users/Michel_home/anaconda/lib/python2.7/site-packages/pymysql/cursors.py:134: Warning: Data truncated for column 'title' at row 33\n",
      "  result = self._query(query)\n",
      "/Users/Michel_home/anaconda/lib/python2.7/site-packages/pymysql/cursors.py:134: Warning: Data truncated for column 'title' at row 39\n",
      "  result = self._query(query)\n",
      "/Users/Michel_home/anaconda/lib/python2.7/site-packages/pymysql/cursors.py:134: Warning: Data truncated for column 'title' at row 55\n",
      "  result = self._query(query)\n",
      "/Users/Michel_home/anaconda/lib/python2.7/site-packages/pymysql/cursors.py:134: Warning: Data truncated for column 'title' at row 182\n",
      "  result = self._query(query)\n",
      "/Users/Michel_home/anaconda/lib/python2.7/site-packages/pymysql/cursors.py:134: Warning: Data truncated for column 'title' at row 237\n",
      "  result = self._query(query)\n",
      "/Users/Michel_home/anaconda/lib/python2.7/site-packages/pymysql/cursors.py:134: Warning: Data truncated for column 'title' at row 262\n",
      "  result = self._query(query)\n",
      "/Users/Michel_home/anaconda/lib/python2.7/site-packages/pymysql/cursors.py:134: Warning: Data truncated for column 'title' at row 311\n",
      "  result = self._query(query)\n",
      "/Users/Michel_home/anaconda/lib/python2.7/site-packages/pymysql/cursors.py:134: Warning: Data truncated for column 'title' at row 344\n",
      "  result = self._query(query)\n",
      "/Users/Michel_home/anaconda/lib/python2.7/site-packages/pymysql/cursors.py:134: Warning: Data truncated for column 'title' at row 350\n",
      "  result = self._query(query)\n",
      "/Users/Michel_home/anaconda/lib/python2.7/site-packages/pymysql/cursors.py:134: Warning: Data truncated for column 'title' at row 391\n",
      "  result = self._query(query)\n",
      "/Users/Michel_home/anaconda/lib/python2.7/site-packages/pymysql/cursors.py:134: Warning: Data truncated for column 'title' at row 403\n",
      "  result = self._query(query)\n",
      "/Users/Michel_home/anaconda/lib/python2.7/site-packages/pymysql/cursors.py:134: Warning: Data truncated for column 'title' at row 419\n",
      "  result = self._query(query)\n",
      "/Users/Michel_home/anaconda/lib/python2.7/site-packages/pymysql/cursors.py:134: Warning: Data truncated for column 'title' at row 432\n",
      "  result = self._query(query)\n",
      "/Users/Michel_home/anaconda/lib/python2.7/site-packages/pymysql/cursors.py:134: Warning: Data truncated for column 'title' at row 459\n",
      "  result = self._query(query)\n",
      "/Users/Michel_home/anaconda/lib/python2.7/site-packages/pymysql/cursors.py:134: Warning: Data truncated for column 'title' at row 507\n",
      "  result = self._query(query)\n",
      "/Users/Michel_home/anaconda/lib/python2.7/site-packages/pymysql/cursors.py:134: Warning: Data truncated for column 'title' at row 529\n",
      "  result = self._query(query)\n",
      "/Users/Michel_home/anaconda/lib/python2.7/site-packages/pymysql/cursors.py:134: Warning: Data truncated for column 'title' at row 535\n",
      "  result = self._query(query)\n",
      "/Users/Michel_home/anaconda/lib/python2.7/site-packages/pymysql/cursors.py:134: Warning: Data truncated for column 'title' at row 537\n",
      "  result = self._query(query)\n",
      "/Users/Michel_home/anaconda/lib/python2.7/site-packages/pymysql/cursors.py:134: Warning: Data truncated for column 'title' at row 568\n",
      "  result = self._query(query)\n",
      "/Users/Michel_home/anaconda/lib/python2.7/site-packages/pymysql/cursors.py:134: Warning: Data truncated for column 'title' at row 658\n",
      "  result = self._query(query)\n",
      "/Users/Michel_home/anaconda/lib/python2.7/site-packages/pymysql/cursors.py:134: Warning: Data truncated for column 'title' at row 685\n",
      "  result = self._query(query)\n",
      "/Users/Michel_home/anaconda/lib/python2.7/site-packages/pymysql/cursors.py:134: Warning: Data truncated for column 'title' at row 695\n",
      "  result = self._query(query)\n",
      "/Users/Michel_home/anaconda/lib/python2.7/site-packages/pymysql/cursors.py:134: Warning: Data truncated for column 'title' at row 726\n",
      "  result = self._query(query)\n",
      "/Users/Michel_home/anaconda/lib/python2.7/site-packages/pymysql/cursors.py:134: Warning: Data truncated for column 'title' at row 753\n",
      "  result = self._query(query)\n",
      "/Users/Michel_home/anaconda/lib/python2.7/site-packages/pymysql/cursors.py:134: Warning: Data truncated for column 'title' at row 771\n",
      "  result = self._query(query)\n",
      "/Users/Michel_home/anaconda/lib/python2.7/site-packages/pymysql/cursors.py:134: Warning: Data truncated for column 'title' at row 787\n",
      "  result = self._query(query)\n",
      "/Users/Michel_home/anaconda/lib/python2.7/site-packages/pymysql/cursors.py:134: Warning: Data truncated for column 'title' at row 13\n",
      "  result = self._query(query)\n",
      "/Users/Michel_home/anaconda/lib/python2.7/site-packages/pymysql/cursors.py:134: Warning: Data truncated for column 'title' at row 62\n",
      "  result = self._query(query)\n",
      "/Users/Michel_home/anaconda/lib/python2.7/site-packages/pymysql/cursors.py:134: Warning: Data truncated for column 'title' at row 150\n",
      "  result = self._query(query)\n",
      "/Users/Michel_home/anaconda/lib/python2.7/site-packages/pymysql/cursors.py:134: Warning: Data truncated for column 'title' at row 180\n",
      "  result = self._query(query)\n",
      "/Users/Michel_home/anaconda/lib/python2.7/site-packages/pymysql/cursors.py:134: Warning: Data truncated for column 'title' at row 186\n",
      "  result = self._query(query)\n",
      "/Users/Michel_home/anaconda/lib/python2.7/site-packages/pymysql/cursors.py:134: Warning: Data truncated for column 'title' at row 194\n",
      "  result = self._query(query)\n",
      "/Users/Michel_home/anaconda/lib/python2.7/site-packages/pymysql/cursors.py:134: Warning: Data truncated for column 'title' at row 210\n",
      "  result = self._query(query)\n",
      "/Users/Michel_home/anaconda/lib/python2.7/site-packages/pymysql/cursors.py:134: Warning: Data truncated for column 'tags' at row 214\n",
      "  result = self._query(query)\n",
      "/Users/Michel_home/anaconda/lib/python2.7/site-packages/pymysql/cursors.py:134: Warning: Data truncated for column 'tags' at row 232\n",
      "  result = self._query(query)\n",
      "/Users/Michel_home/anaconda/lib/python2.7/site-packages/pymysql/cursors.py:134: Warning: Data truncated for column 'title' at row 236\n",
      "  result = self._query(query)\n",
      "/Users/Michel_home/anaconda/lib/python2.7/site-packages/pymysql/cursors.py:134: Warning: Data truncated for column 'title' at row 238\n",
      "  result = self._query(query)\n",
      "/Users/Michel_home/anaconda/lib/python2.7/site-packages/pymysql/cursors.py:134: Warning: Data truncated for column 'title' at row 274\n",
      "  result = self._query(query)\n",
      "/Users/Michel_home/anaconda/lib/python2.7/site-packages/pymysql/cursors.py:134: Warning: Data truncated for column 'title' at row 305\n",
      "  result = self._query(query)\n",
      "/Users/Michel_home/anaconda/lib/python2.7/site-packages/pymysql/cursors.py:134: Warning: Data truncated for column 'title' at row 338\n",
      "  result = self._query(query)\n",
      "/Users/Michel_home/anaconda/lib/python2.7/site-packages/pymysql/cursors.py:134: Warning: Data truncated for column 'title' at row 341\n",
      "  result = self._query(query)\n",
      "/Users/Michel_home/anaconda/lib/python2.7/site-packages/pymysql/cursors.py:134: Warning: Data truncated for column 'title' at row 349\n",
      "  result = self._query(query)\n",
      "/Users/Michel_home/anaconda/lib/python2.7/site-packages/pymysql/cursors.py:134: Warning: Data truncated for column 'title' at row 393\n",
      "  result = self._query(query)\n",
      "/Users/Michel_home/anaconda/lib/python2.7/site-packages/pymysql/cursors.py:134: Warning: Data truncated for column 'title' at row 424\n",
      "  result = self._query(query)\n",
      "/Users/Michel_home/anaconda/lib/python2.7/site-packages/pymysql/cursors.py:134: Warning: Data truncated for column 'title' at row 468\n",
      "  result = self._query(query)\n",
      "/Users/Michel_home/anaconda/lib/python2.7/site-packages/pymysql/cursors.py:134: Warning: Data truncated for column 'title' at row 476\n",
      "  result = self._query(query)\n",
      "/Users/Michel_home/anaconda/lib/python2.7/site-packages/pymysql/cursors.py:134: Warning: Data truncated for column 'title' at row 482\n",
      "  result = self._query(query)\n",
      "/Users/Michel_home/anaconda/lib/python2.7/site-packages/pymysql/cursors.py:134: Warning: Data truncated for column 'title' at row 495\n",
      "  result = self._query(query)\n",
      "/Users/Michel_home/anaconda/lib/python2.7/site-packages/pymysql/cursors.py:134: Warning: Data truncated for column 'title' at row 522\n",
      "  result = self._query(query)\n",
      "/Users/Michel_home/anaconda/lib/python2.7/site-packages/pymysql/cursors.py:134: Warning: Data truncated for column 'tags' at row 548\n",
      "  result = self._query(query)\n",
      "/Users/Michel_home/anaconda/lib/python2.7/site-packages/pymysql/cursors.py:134: Warning: Data truncated for column 'title' at row 611\n",
      "  result = self._query(query)\n",
      "/Users/Michel_home/anaconda/lib/python2.7/site-packages/pymysql/cursors.py:134: Warning: Data truncated for column 'title' at row 627\n",
      "  result = self._query(query)\n",
      "/Users/Michel_home/anaconda/lib/python2.7/site-packages/pymysql/cursors.py:134: Warning: Data truncated for column 'title' at row 632\n",
      "  result = self._query(query)\n",
      "/Users/Michel_home/anaconda/lib/python2.7/site-packages/pymysql/cursors.py:134: Warning: Data truncated for column 'title' at row 682\n",
      "  result = self._query(query)\n",
      "/Users/Michel_home/anaconda/lib/python2.7/site-packages/pymysql/cursors.py:134: Warning: Incorrect string value: '\\xE3\\x81\\xAF\\xE3\\x81\\x98...' for column 'title' at row 697\n",
      "  result = self._query(query)\n",
      "/Users/Michel_home/anaconda/lib/python2.7/site-packages/pymysql/cursors.py:134: Warning: Data truncated for column 'title' at row 718\n",
      "  result = self._query(query)\n",
      "/Users/Michel_home/anaconda/lib/python2.7/site-packages/pymysql/cursors.py:134: Warning: Data truncated for column 'title' at row 727\n",
      "  result = self._query(query)\n",
      "/Users/Michel_home/anaconda/lib/python2.7/site-packages/pymysql/cursors.py:134: Warning: Data truncated for column 'title' at row 730\n",
      "  result = self._query(query)\n"
     ]
    }
   ],
   "source": [
    "testDB.to_sql(con=con, name='technoFeatures', if_exists='replace', flavor='mysql');\n",
    "con.close()"
   ]
  },
  {
   "cell_type": "code",
   "execution_count": null,
   "metadata": {
    "collapsed": true
   },
   "outputs": [],
   "source": []
  },
  {
   "cell_type": "markdown",
   "metadata": {
    "collapsed": false
   },
   "source": [
    "# READ DATA FROM PICKLED FILE"
   ]
  },
  {
   "cell_type": "code",
   "execution_count": 14,
   "metadata": {
    "collapsed": false
   },
   "outputs": [
    {
     "name": "stdout",
     "output_type": "stream",
     "text": [
      "Index([      u'projectID',            u'Nimg',            u'Nlnk',\n",
      "                  u'Nstp',            u'Nvid',           u'Nxtra',\n",
      "                 u'award',         u'scripts',        u'keywords',\n",
      "                 u'title',        u'fulltext',           u'Ndscr',\n",
      "               u'daysold',            u'tags',        u'category',\n",
      "               u'channel',             u'url',      u'dscrPerImg',\n",
      "            u'dscrPerStp',        u'logNdscr',          u'logImg',\n",
      "               u'complex', u'complexEstimate'],\n",
      "      dtype='object')\n"
     ]
    },
    {
     "data": {
      "text/plain": [
       "(34406, 23)"
      ]
     },
     "execution_count": 14,
     "metadata": {},
     "output_type": "execute_result"
    }
   ],
   "source": [
    "dataDF = pd.read_pickle(\"../Data/techno_data_with_estimates.pickle\")\n",
    "print dataDF.columns\n",
    "dataDF.shape"
   ]
  },
  {
   "cell_type": "code",
   "execution_count": 189,
   "metadata": {
    "collapsed": false
   },
   "outputs": [
    {
     "data": {
      "text/plain": [
       "34406"
      ]
     },
     "execution_count": 189,
     "metadata": {},
     "output_type": "execute_result"
    }
   ],
   "source": [
    "textList = [tex for tex in df.fulltext.values]\n",
    "len(textList)"
   ]
  },
  {
   "cell_type": "code",
   "execution_count": null,
   "metadata": {
    "collapsed": false
   },
   "outputs": [],
   "source": [
    "#################### TOKENIZATION ##################"
   ]
  },
  {
   "cell_type": "code",
   "execution_count": 70,
   "metadata": {
    "collapsed": false
   },
   "outputs": [
    {
     "data": {
      "text/plain": [
       "'taggers/maxent_treebank_pos_tagger/english.pickle'"
      ]
     },
     "execution_count": 70,
     "metadata": {},
     "output_type": "execute_result"
    }
   ],
   "source": [
    "import nltk.corpus\n",
    "from nltk.corpus import stopwords\n",
    "nltk.tag._POS_TAGGER\n"
   ]
  },
  {
   "cell_type": "code",
   "execution_count": 192,
   "metadata": {
    "collapsed": false
   },
   "outputs": [
    {
     "name": "stdout",
     "output_type": "stream",
     "text": [
      "127\n"
     ]
    },
    {
     "data": {
      "text/plain": [
       "139"
      ]
     },
     "execution_count": 192,
     "metadata": {},
     "output_type": "execute_result"
    }
   ],
   "source": [
    "mystopwords =  stopwords.words(\"english\")\n",
    "print len(mystopwords)\n",
    "extrawords = [\"make\",\"need\",\"using\",\"get\", \"see\",\"x\", \"m\", \"v\",\"want\", \"d\", \"www\", \"org\"]\n",
    "for xtra in extrawords:\n",
    "    mystopwords.append(xtra)\n",
    "len(mystopwords)"
   ]
  },
  {
   "cell_type": "code",
   "execution_count": 103,
   "metadata": {
    "collapsed": false
   },
   "outputs": [],
   "source": [
    "corpa = ' '.join(textList[:50])\n",
    "tokens = nltk.word_tokenize(corpa.lower())\n",
    "pos = nltk.pos_tag(tokens)"
   ]
  },
  {
   "cell_type": "code",
   "execution_count": 104,
   "metadata": {
    "collapsed": false
   },
   "outputs": [
    {
     "data": {
      "text/plain": [
       "26976"
      ]
     },
     "execution_count": 104,
     "metadata": {},
     "output_type": "execute_result"
    }
   ],
   "source": [
    "#verbs = [v[0] for v in pos if v[1] in ['VB','VBN','VBG','VBP'] ]\n",
    "#nouns = [v[0] for v in pos if v[1] in ['NN', 'NNP', 'NNPS', 'NNS'] ]\n",
    "corpus = [v[0] for v in pos if (v[1] in ['NN', 'NNP', 'NNPS', 'NNS','VB','VBN','VBG','VBP']) and (v[0] not in mystopwords)]\n",
    "len(corpus)"
   ]
  },
  {
   "cell_type": "code",
   "execution_count": 63,
   "metadata": {
    "collapsed": false
   },
   "outputs": [
    {
     "name": "stdout",
     "output_type": "stream",
     "text": [
      "['JJS', 'IN', 'PRP', 'VBP', 'RB', 'VB', 'NN', 'DT', 'VBN', 'WDT', 'MD', 'WRB', 'CC', 'JJ', 'VBZ', 'VBG', 'TO', 'NNS', 'NNP', 'RP', 'PRP$', 'VBD', 'JJR', 'NNPS', 'RBR', 'CD', 'EX', 'RBS', 'WP', 'WP$', 'PDT', 'FW']\n"
     ]
    }
   ],
   "source": [
    "tags = [v for w,v in pos]\n",
    "unique = []\n",
    "for tag in tags:\n",
    "    if tag not in unique:\n",
    "        unique.append(tag)\n",
    "print unique"
   ]
  },
  {
   "cell_type": "code",
   "execution_count": 64,
   "metadata": {
    "collapsed": false
   },
   "outputs": [
    {
     "name": "stdout",
     "output_type": "stream",
     "text": [
      "(u'De', 'FW')\n",
      "(u'de', 'FW')\n"
     ]
    }
   ],
   "source": [
    "for v in pos:\n",
    "    if v[1] == 'FW':\n",
    "        print v "
   ]
  },
  {
   "cell_type": "markdown",
   "metadata": {},
   "source": [
    "# stem and lemma"
   ]
  },
  {
   "cell_type": "code",
   "execution_count": 108,
   "metadata": {
    "collapsed": false
   },
   "outputs": [],
   "source": [
    "from nltk.stem.snowball import SnowballStemmer"
   ]
  },
  {
   "cell_type": "code",
   "execution_count": 122,
   "metadata": {
    "collapsed": false
   },
   "outputs": [],
   "source": [
    "stemmer = SnowballStemmer(\"english\")"
   ]
  },
  {
   "cell_type": "code",
   "execution_count": 123,
   "metadata": {
    "collapsed": false
   },
   "outputs": [
    {
     "name": "stdout",
     "output_type": "stream",
     "text": [
      "[u'In', u'this', u'project', u'we', u'will', u'be', u'making', u'a', u'wireless', u'side', u'lamp', u'that', u'can', u'be', u'controlled']\n"
     ]
    },
    {
     "data": {
      "text/plain": [
       "[u'in',\n",
       " u'this',\n",
       " u'project',\n",
       " u'we',\n",
       " u'will',\n",
       " u'be',\n",
       " u'make',\n",
       " u'a',\n",
       " u'wireless',\n",
       " u'side',\n",
       " u'lamp',\n",
       " u'that',\n",
       " u'can',\n",
       " u'be',\n",
       " u'control']"
      ]
     },
     "execution_count": 123,
     "metadata": {},
     "output_type": "execute_result"
    }
   ],
   "source": [
    "test = [stemmer.stem(word) for word in textList[5].split()]\n",
    "print textList[5].split()[:15]\n",
    "test[:15]"
   ]
  },
  {
   "cell_type": "code",
   "execution_count": 274,
   "metadata": {
    "collapsed": false
   },
   "outputs": [],
   "source": [
    "# for every text, process them with stop words\n",
    "stemmer = SnowballStemmer(\"english\")\n",
    "newdocumentO =[] \n",
    "for document in textList[34405:34406]:\n",
    "    tokens = nltk.word_tokenize(document.lower())\n",
    "    pos = nltk.pos_tag(tokens)\n",
    "    relevant = [v[0] for v in pos if (v[1] in ['NN', 'NNP', 'NNPS', 'NNS','VB','VBN','VBG','VBP']) and (v[0] not in mystopwords)]\n",
    "    stemmed = [stemmer.stem(word) for word in relevant]\n",
    "    newdocumentO.append(' '.join(stemmed))"
   ]
  },
  {
   "cell_type": "code",
   "execution_count": 275,
   "metadata": {
    "collapsed": false
   },
   "outputs": [
    {
     "data": {
      "text/plain": [
       "1"
      ]
     },
     "execution_count": 275,
     "metadata": {},
     "output_type": "execute_result"
    }
   ],
   "source": [
    "len(newdocumentO)#[7031][:100]\n",
    "#textList[9999][:200]"
   ]
  },
  {
   "cell_type": "code",
   "execution_count": 267,
   "metadata": {
    "collapsed": false
   },
   "outputs": [
    {
     "data": {
      "text/plain": [
       "u'music store mp player pattern convert vibrat headphon coil vibrat turn creat vibrat field perman magnet insid coil interact caus movement creat sound wave vibrat air step process send output mp player laser pointer headphon pick signal depend resisto'"
      ]
     },
     "execution_count": 267,
     "metadata": {},
     "output_type": "execute_result"
    }
   ],
   "source": [
    "newdocumentK[0][:250]"
   ]
  },
  {
   "cell_type": "code",
   "execution_count": 276,
   "metadata": {
    "collapsed": false
   },
   "outputs": [
    {
     "data": {
      "text/plain": [
       "34406"
      ]
     },
     "execution_count": 276,
     "metadata": {},
     "output_type": "execute_result"
    }
   ],
   "source": [
    "testL = testL2+newdocumentH+newdocumentI+newdocumentJ+newdocumentK+newdocumentL+newdocumentM+newdocumentN+newdocumentO\n",
    "len(testL)#newdocumentC[999][:100]#textList[7031][:200]"
   ]
  },
  {
   "cell_type": "code",
   "execution_count": 277,
   "metadata": {
    "collapsed": false
   },
   "outputs": [],
   "source": [
    "with open(\"corpus_stemmed.pickle\", 'wb') as f:\n",
    "    pkl.dump(testL, f)"
   ]
  },
  {
   "cell_type": "code",
   "execution_count": 266,
   "metadata": {
    "collapsed": false
   },
   "outputs": [
    {
     "name": "stdout",
     "output_type": "stream",
     "text": [
      "15500\n"
     ]
    },
    {
     "data": {
      "text/plain": [
       "u'warm touch screen glove go buy glove acryl spandex note materi work check comment lick lick tip take'"
      ]
     },
     "execution_count": 266,
     "metadata": {},
     "output_type": "execute_result"
    }
   ],
   "source": [
    "# retrieve dumped parsed documents\n",
    "with open(\"../Data/newdocumentABCDEFG.pickle\", 'rb') as f:\n",
    "    testL2 = pkl.load(f)\n",
    "print len(testL2)\n",
    "testL2[9999][:100]"
   ]
  },
  {
   "cell_type": "markdown",
   "metadata": {},
   "source": [
    "# Stemmed TF-IDF MATRIX\n"
   ]
  },
  {
   "cell_type": "code",
   "execution_count": 278,
   "metadata": {
    "collapsed": false
   },
   "outputs": [
    {
     "data": {
      "text/plain": [
       "(34406, 50024)"
      ]
     },
     "execution_count": 278,
     "metadata": {},
     "output_type": "execute_result"
    }
   ],
   "source": [
    "\n",
    "tfidf_vectorizer = TfidfVectorizer(max_df = .95, min_df= 2)\n",
    "tfidf_matrix_stem = tfidf_vectorizer.fit_transform(testL)\n",
    "tfidf_matrix_stem.shape"
   ]
  },
  {
   "cell_type": "code",
   "execution_count": 295,
   "metadata": {
    "collapsed": false
   },
   "outputs": [
    {
     "data": {
      "text/plain": [
       "[2, 28789, 23254, 24633, 29418, 31320, 34020, 927, 20613, 28606]"
      ]
     },
     "execution_count": 295,
     "metadata": {},
     "output_type": "execute_result"
    }
   ],
   "source": [
    "doc_distance = cosine_similarity(tfidf_matrix_stem[:7000], tfidf_matrix_stem)\n",
    "s = doc_distance[2]\n",
    "indices = sorted(range(len(s)), reverse = True, key=lambda k: s[k])\n",
    "indices[:10]"
   ]
  },
  {
   "cell_type": "code",
   "execution_count": 373,
   "metadata": {
    "collapsed": true
   },
   "outputs": [],
   "source": [
    "indexes = []\n",
    "doc_distance = cosine_similarity(tfidf_matrix_stem[30000:], tfidf_matrix_stem)\n",
    "\n",
    "for cos in doc_distance:\n",
    "    indices = sorted(range(len(cos)), reverse = True, key=lambda k: cos[k])\n",
    "    indexes.append(indices[:15])\n",
    "    \n",
    "with open(\"matchlist30000-34400.pickle\", 'wb') as f:\n",
    "    pkl.dump(indexes,f)    ##### THis gives the index of the closest 9 projects"
   ]
  },
  {
   "cell_type": "code",
   "execution_count": 374,
   "metadata": {
    "collapsed": false
   },
   "outputs": [],
   "source": [
    "bestmatch = bestmatch +indexes"
   ]
  },
  {
   "cell_type": "code",
   "execution_count": 378,
   "metadata": {
    "collapsed": false
   },
   "outputs": [],
   "source": [
    "with open(\"../Data/matchlist.pickle\", 'rb') as f:\n",
    "    bmatch = pkl.load(f)"
   ]
  },
  {
   "cell_type": "code",
   "execution_count": 395,
   "metadata": {
    "collapsed": false
   },
   "outputs": [
    {
     "data": {
      "text/plain": [
       "[2,\n",
       " 28789,\n",
       " 23254,\n",
       " 24633,\n",
       " 29418,\n",
       " 31320,\n",
       " 34020,\n",
       " 927,\n",
       " 20613,\n",
       " 28606,\n",
       " 2751,\n",
       " 7734,\n",
       " 27263,\n",
       " 17248,\n",
       " 26050]"
      ]
     },
     "execution_count": 395,
     "metadata": {},
     "output_type": "execute_result"
    }
   ],
   "source": [
    "bestmatch[2]"
   ]
  },
  {
   "cell_type": "code",
   "execution_count": null,
   "metadata": {
    "collapsed": true
   },
   "outputs": [],
   "source": []
  },
  {
   "cell_type": "code",
   "execution_count": 297,
   "metadata": {
    "collapsed": true
   },
   "outputs": [
    {
     "data": {
      "text/plain": [
       "[1.0000000000000002,\n",
       " 0.40286128134239357,\n",
       " 0.40069547187196441,\n",
       " 0.39615158301679276,\n",
       " 0.3932603444891497,\n",
       " 0.38876697680868938,\n",
       " 0.38528204726151777,\n",
       " 0.37510993218431643,\n",
       " 0.3648278014208447,\n",
       " 0.35879946405737911,\n",
       " 0.35629211300378683,\n",
       " 0.3550916279459661,\n",
       " 0.3520134068413675,\n",
       " 0.35026610042132972,\n",
       " 0.34840518069409615,\n",
       " 0.34784501365523762,\n",
       " 0.34771193931796796,\n",
       " 0.34735407851312206,\n",
       " 0.34728018315436776,\n",
       " 0.34646895502958724,\n",
       " 0.34300919650830336,\n",
       " 0.3413788847483078,\n",
       " 0.34095793217027703,\n",
       " 0.34040102881034617,\n",
       " 0.3401135951118312,\n",
       " 0.33862841995183501,\n",
       " 0.33860460643074136,\n",
       " 0.3385562059694906,\n",
       " 0.33807694203922056,\n",
       " 0.33781518364634772,\n",
       " 0.33484384795325728,\n",
       " 0.33012812234260841,\n",
       " 0.32946027729261057,\n",
       " 0.32737573591663643,\n",
       " 0.32733818217110133,\n",
       " 0.3251645356123064,\n",
       " 0.32343848081992305,\n",
       " 0.32326134989808719,\n",
       " 0.32296278702297748,\n",
       " 0.32272238666506053,\n",
       " 0.32219663242110291,\n",
       " 0.32211965789175062,\n",
       " 0.32004313425597813,\n",
       " 0.31995227321070507,\n",
       " 0.31896312051558667,\n",
       " 0.3179725799966982,\n",
       " 0.31684522002506144,\n",
       " 0.31657628562669021,\n",
       " 0.31618695646567013,\n",
       " 0.31423549561963954,\n",
       " 0.31264350611464525,\n",
       " 0.31225616058576972,\n",
       " 0.31160731796009217,\n",
       " 0.31109551860038526,\n",
       " 0.31099584334088842,\n",
       " 0.30971110698774096,\n",
       " 0.30970468892702629,\n",
       " 0.3093039936999083,\n",
       " 0.30903368890748412,\n",
       " 0.30775509255986877,\n",
       " 0.30669760082574071,\n",
       " 0.30645505844771492,\n",
       " 0.30638429470364709,\n",
       " 0.3060509259058441,\n",
       " 0.30540790197031331,\n",
       " 0.30463909471881756,\n",
       " 0.30446860117999153,\n",
       " 0.30410264971963119,\n",
       " 0.30376731981119931,\n",
       " 0.3035964220076493,\n",
       " 0.30258154900587719,\n",
       " 0.30214551257529698,\n",
       " 0.30171046314111744,\n",
       " 0.30160146874453791,\n",
       " 0.30155144198098888,\n",
       " 0.30109041128924474,\n",
       " 0.30098141310314597,\n",
       " 0.29956069456528067,\n",
       " 0.2992702261729685,\n",
       " 0.29891500867321502,\n",
       " 0.29866532941687562,\n",
       " 0.29789697682180466,\n",
       " 0.29740310861442848,\n",
       " 0.29616962305142053,\n",
       " 0.29607323065878294,\n",
       " 0.29597499167466856,\n",
       " 0.29483647514524636,\n",
       " 0.29483560783331092,\n",
       " 0.29462800954339302,\n",
       " 0.29429722187867752,\n",
       " 0.29402469977767093,\n",
       " 0.29402276789717702,\n",
       " 0.29400865985759073,\n",
       " 0.29370072163956223,\n",
       " 0.29365909310683064,\n",
       " 0.29207746185916011,\n",
       " 0.29156437448208422,\n",
       " 0.29041519271679772,\n",
       " 0.2904125613672599,\n",
       " 0.29036370841421805,\n",
       " 0.28992083379350742,\n",
       " 0.2894775715433997,\n",
       " 0.28940096697782264,\n",
       " 0.28939182171153671,\n",
       " 0.2892296756717444,\n",
       " 0.28916446731031209,\n",
       " 0.28904352414950313,\n",
       " 0.28852305545855556,\n",
       " 0.28834753118262807,\n",
       " 0.28728995353851267,\n",
       " 0.28691568494709152,\n",
       " 0.28667105693455963,\n",
       " 0.28642920417835216,\n",
       " 0.28590311281937836,\n",
       " 0.28554499327217614,\n",
       " 0.28531011243452131,\n",
       " 0.28493184783003978,\n",
       " 0.28489596104945691,\n",
       " 0.28485535120081762,\n",
       " 0.2847764552888144,\n",
       " 0.28467594904538879,\n",
       " 0.28405755176219655,\n",
       " 0.28354753958803613,\n",
       " 0.28340634708792911,\n",
       " 0.28337831680224873,\n",
       " 0.28168934179003213,\n",
       " 0.28128257034372894,\n",
       " 0.28095379698230166,\n",
       " 0.28085142932425816,\n",
       " 0.28081149019839607,\n",
       " 0.28068655772658785,\n",
       " 0.28049650894775324,\n",
       " 0.28037565478941479,\n",
       " 0.27997228732915869,\n",
       " 0.27963292294441555,\n",
       " 0.27945695919661129,\n",
       " 0.2794478763096947,\n",
       " 0.27918660898218944,\n",
       " 0.27800003667160939,\n",
       " 0.27798169615805945,\n",
       " 0.27776171030346791,\n",
       " 0.27739886167375555,\n",
       " 0.27701948905318946,\n",
       " 0.27694981236798144,\n",
       " 0.27673192550407549,\n",
       " 0.27672280186601833,\n",
       " 0.27630631838100445,\n",
       " 0.27560783970204056,\n",
       " 0.27532035045862852,\n",
       " 0.27519411957554962,\n",
       " 0.27496480374697779,\n",
       " 0.27471809066941127,\n",
       " 0.27466640697863254,\n",
       " 0.27437503411064212,\n",
       " 0.27402640593581168,\n",
       " 0.27396123154070218,\n",
       " 0.27368038569058567,\n",
       " 0.27363115239885039,\n",
       " 0.27335835380402668,\n",
       " 0.272715030294506,\n",
       " 0.27241986533099399,\n",
       " 0.27236984904117834,\n",
       " 0.2721651014009881,\n",
       " 0.2717524677175146,\n",
       " 0.27162393165388038,\n",
       " 0.27161650862417397,\n",
       " 0.27150257786329984,\n",
       " 0.27129726470427451,\n",
       " 0.27115328585749526,\n",
       " 0.27070127275792977,\n",
       " 0.27030926612937439,\n",
       " 0.27014114234020292,\n",
       " 0.26897365935882894,\n",
       " 0.26842550080137384,\n",
       " 0.26780994004574854,\n",
       " 0.26776726315076843,\n",
       " 0.26758691383364208,\n",
       " 0.26757022177892192,\n",
       " 0.26681986560579418,\n",
       " 0.26667849490387796,\n",
       " 0.26622874928718809,\n",
       " 0.26608986605538182,\n",
       " 0.26603554740907814,\n",
       " 0.26595098741039436,\n",
       " 0.26593658675806409,\n",
       " 0.26554289313977686,\n",
       " 0.26531872594166106,\n",
       " 0.2652581259717901,\n",
       " 0.26486795197174129,\n",
       " 0.26468161997033157,\n",
       " 0.26455908028564445,\n",
       " 0.26446092829142109,\n",
       " 0.26382100946416742,\n",
       " 0.26378283056863716,\n",
       " 0.26305737919326677,\n",
       " 0.26240764242851117,\n",
       " 0.26223166018716482,\n",
       " 0.26188578607439617,\n",
       " 0.26181160744896004,\n",
       " 0.2615137023769884,\n",
       " 0.26086185069607443,\n",
       " 0.26082918977939679,\n",
       " 0.26042966273674489,\n",
       " 0.26028005829022244,\n",
       " 0.26022159347177209,\n",
       " 0.2601490460740683,\n",
       " 0.25985731714395205,\n",
       " 0.25984182105325138,\n",
       " 0.2597743593301029,\n",
       " 0.25950386803963249,\n",
       " 0.2588641193603245,\n",
       " 0.25884629708707046,\n",
       " 0.25860549483906836,\n",
       " 0.25855515871537171,\n",
       " 0.25829512100197588,\n",
       " 0.25821257021292804,\n",
       " 0.25805926271641066,\n",
       " 0.25786550607502923,\n",
       " 0.25784352290379825,\n",
       " 0.2567405135900403,\n",
       " 0.25666746063450896,\n",
       " 0.25663287273938229,\n",
       " 0.25635126897711563,\n",
       " 0.2562427223299753,\n",
       " 0.25615569286413076,\n",
       " 0.25586124108870112,\n",
       " 0.25578671346191656,\n",
       " 0.25530083955440996,\n",
       " 0.25523071510871692,\n",
       " 0.25520074428333261,\n",
       " 0.25491418272838295,\n",
       " 0.2548213420357443,\n",
       " 0.25479778988766971,\n",
       " 0.25450350811964667,\n",
       " 0.2543728395350473,\n",
       " 0.25437069648293847,\n",
       " 0.25423944867628262,\n",
       " 0.2542209845678684,\n",
       " 0.25412175355642858,\n",
       " 0.25397372534782486,\n",
       " 0.25378764510295615,\n",
       " 0.25362055246177001,\n",
       " 0.2532794366236813,\n",
       " 0.25325644739641701,\n",
       " 0.2531303544999669,\n",
       " 0.25282863855288357,\n",
       " 0.25278438714625939,\n",
       " 0.25275195761937264,\n",
       " 0.25231138838872252,\n",
       " 0.25160247052113605,\n",
       " 0.25159800362082779,\n",
       " 0.25157848097811747,\n",
       " 0.25130061193379261,\n",
       " 0.25118342474138733,\n",
       " 0.25113887521669376,\n",
       " 0.25109973328343799,\n",
       " 0.25105829268628677,\n",
       " 0.2509296738854252,\n",
       " 0.250833646956997,\n",
       " 0.25078204379334879,\n",
       " 0.25064158617349974,\n",
       " 0.2503011828611309,\n",
       " 0.25018098925960569,\n",
       " 0.2500273101978453,\n",
       " 0.24983825089961875,\n",
       " 0.2498146236744847,\n",
       " 0.24939884705306856,\n",
       " 0.24935772151530475,\n",
       " 0.24923202713806605,\n",
       " 0.2491861808369415,\n",
       " 0.24881468373653212,\n",
       " 0.24878829510352246,\n",
       " 0.24847015331200054,\n",
       " 0.24832804419460716,\n",
       " 0.2480133032210235,\n",
       " 0.24782004386988377,\n",
       " 0.24761150314031355,\n",
       " 0.24744628133345858,\n",
       " 0.24708775054314969,\n",
       " 0.24702587730618067,\n",
       " 0.24693351492407312,\n",
       " 0.24647928729417365,\n",
       " 0.24622431491415842,\n",
       " 0.24603801151574595,\n",
       " 0.24584892749168483,\n",
       " 0.24530166296392786,\n",
       " 0.24518967001802539,\n",
       " 0.24503767118263531,\n",
       " 0.24477711884704811,\n",
       " 0.2446115804262588,\n",
       " 0.24458843618693579,\n",
       " 0.24452460257192218,\n",
       " 0.24449751023237062,\n",
       " 0.24422057028771321,\n",
       " 0.24363989372724187,\n",
       " 0.24360657473934427,\n",
       " 0.24358330434064351,\n",
       " 0.24356278533041067,\n",
       " 0.24341470282387401,\n",
       " 0.24337949033995107,\n",
       " 0.24321252981588781,\n",
       " 0.24317764727565705,\n",
       " 0.24306460290170864,\n",
       " 0.24299962321722737,\n",
       " 0.24295360355582749,\n",
       " 0.242950128317452,\n",
       " 0.24263309777134223,\n",
       " 0.24220927712393991,\n",
       " 0.24154731340212923,\n",
       " 0.24125704959304381,\n",
       " 0.24120515658875041,\n",
       " 0.24102704720466947,\n",
       " 0.24100978922050803,\n",
       " 0.24097721182016779,\n",
       " 0.24096470399117392,\n",
       " 0.24089845631163043,\n",
       " 0.2404692412490147,\n",
       " 0.24044549469471996,\n",
       " 0.24033012629717221,\n",
       " 0.24032200128592893,\n",
       " 0.24029015671762008,\n",
       " 0.24027044484246426,\n",
       " 0.23993161048280962,\n",
       " 0.23956622414550155,\n",
       " 0.23952033368197312,\n",
       " 0.23940207535203217,\n",
       " 0.23930369947841623,\n",
       " 0.23921412676780335,\n",
       " 0.23915715058610523,\n",
       " 0.23907355466672014,\n",
       " 0.2388322184561909,\n",
       " 0.23881353835848376,\n",
       " 0.23860774519562433,\n",
       " 0.23849418779970821,\n",
       " 0.23835355509520248,\n",
       " 0.23822111186707287,\n",
       " 0.23796635112430095,\n",
       " 0.23781245340546175,\n",
       " 0.23767263159150334,\n",
       " 0.23746917427454342,\n",
       " 0.2370480953878002,\n",
       " 0.23702592122064009,\n",
       " 0.23683571134415901,\n",
       " 0.2367620847768786,\n",
       " 0.23672622288915524,\n",
       " 0.23664763693683563,\n",
       " 0.23618350298809185,\n",
       " 0.23596128737729877,\n",
       " 0.23579114114228342,\n",
       " 0.23577869344566571,\n",
       " 0.23560883579242364,\n",
       " 0.2355797420706453,\n",
       " 0.23555875213892544,\n",
       " 0.23542697597655671,\n",
       " 0.23537557294161596,\n",
       " 0.23523201137343855,\n",
       " 0.23516628548909432,\n",
       " 0.2349749211134628,\n",
       " 0.2349366745160158,\n",
       " 0.23458327346589924,\n",
       " 0.23453389482817327,\n",
       " 0.23451819327424217,\n",
       " 0.23443451376425789,\n",
       " 0.23442206933314041,\n",
       " 0.2341514315273909,\n",
       " 0.23409677774561791,\n",
       " 0.23388035580725175,\n",
       " 0.2336205600599903,\n",
       " 0.23354816531253678,\n",
       " 0.23343957028142839,\n",
       " 0.23332617191611865,\n",
       " 0.23331463366075664,\n",
       " 0.23326853205352047,\n",
       " 0.23322210306139879,\n",
       " 0.2331706386845657,\n",
       " 0.23308020452294123,\n",
       " 0.23300686590406475,\n",
       " 0.23283935721459098,\n",
       " 0.23272593601741259,\n",
       " 0.23252140689501882,\n",
       " 0.23222243757011768,\n",
       " 0.23220971560470574,\n",
       " 0.23216936353737316,\n",
       " 0.23213889946476396,\n",
       " 0.2320509953751814,\n",
       " 0.23203917711352709,\n",
       " 0.23189805252735571,\n",
       " 0.23182633122456087,\n",
       " 0.23176005629856733,\n",
       " 0.23174114747885105,\n",
       " 0.2315760973543334,\n",
       " 0.23146092947006194,\n",
       " 0.23143138527110388,\n",
       " 0.23134701011947315,\n",
       " 0.23132615917424545,\n",
       " 0.23131008882978843,\n",
       " 0.23130140631679846,\n",
       " 0.23123153940966998,\n",
       " 0.23111318443343926,\n",
       " 0.23109976898934287,\n",
       " 0.23103447921779666,\n",
       " 0.23088518563149019,\n",
       " 0.23074097544522965,\n",
       " 0.23071028304623509,\n",
       " 0.23054043574052713,\n",
       " 0.23050723266931095,\n",
       " 0.23032440826315503,\n",
       " 0.22999596116243151,\n",
       " 0.22978684571197164,\n",
       " 0.22964340939502656,\n",
       " 0.22951371677084731,\n",
       " 0.22949790649865676,\n",
       " 0.22926285515252959,\n",
       " 0.22924968488753603,\n",
       " 0.22923965420188558,\n",
       " 0.22923057963452675,\n",
       " 0.22919159071361089,\n",
       " 0.22905732073798613,\n",
       " 0.2289345834811132,\n",
       " 0.22877388081046565,\n",
       " 0.22861171314958045,\n",
       " 0.22848797094995998,\n",
       " 0.22841976042563186,\n",
       " 0.22840194978119002,\n",
       " 0.22826386868500603,\n",
       " 0.2281905086533734,\n",
       " 0.2281323053192785,\n",
       " 0.22800506534717185,\n",
       " 0.22790749763418283,\n",
       " 0.2276040690174097,\n",
       " 0.22745283021704316,\n",
       " 0.2273030184613033,\n",
       " 0.22705812154904814,\n",
       " 0.22704439267416132,\n",
       " 0.22683036343263105,\n",
       " 0.22681651695785054,\n",
       " 0.22676176015646726,\n",
       " 0.22663024511061539,\n",
       " 0.22649590511655568,\n",
       " 0.22633650356572529,\n",
       " 0.22626606797366669,\n",
       " 0.22618762117899258,\n",
       " 0.22612566045368623,\n",
       " 0.22573454636815007,\n",
       " 0.22565585045657791,\n",
       " 0.2256378081787446,\n",
       " 0.22561909627780141,\n",
       " 0.22540997091001699,\n",
       " 0.22538573381658417,\n",
       " 0.22536656728634635,\n",
       " 0.22515339080847999,\n",
       " 0.22502451817051924,\n",
       " 0.22495479771412608,\n",
       " 0.22464725277019565,\n",
       " 0.22447629331573032,\n",
       " 0.22443860020159528,\n",
       " 0.2243605788766711,\n",
       " 0.22435379912257525,\n",
       " 0.22428651682828965,\n",
       " 0.22427254465641089,\n",
       " 0.22422463087236078,\n",
       " 0.22421960237313096,\n",
       " 0.22402183165565215,\n",
       " 0.22382272899690353,\n",
       " 0.22379283800396685,\n",
       " 0.22373448701276352,\n",
       " 0.22363507548411801,\n",
       " 0.22360728498206012,\n",
       " 0.22355315152807251,\n",
       " 0.2234941810007465,\n",
       " 0.22346884334813816,\n",
       " 0.22343730244574497,\n",
       " 0.22332783467456874,\n",
       " 0.22331658877972096,\n",
       " 0.2233020830503783,\n",
       " 0.22301026697769802,\n",
       " 0.22296796739040847,\n",
       " 0.22283386216578907,\n",
       " 0.22276991423990286,\n",
       " 0.22252694003359039,\n",
       " 0.22249042942621908,\n",
       " 0.22237993060586317,\n",
       " 0.22235237549645892,\n",
       " 0.22219826457141331,\n",
       " 0.22219654460885099,\n",
       " 0.22212868473483824,\n",
       " 0.22179824405478349,\n",
       " 0.22144317479776865,\n",
       " 0.2212825647890401,\n",
       " 0.22122474059388644,\n",
       " 0.22113153484564402,\n",
       " 0.2211125760692331,\n",
       " 0.22103603122944424,\n",
       " 0.22098852112974721,\n",
       " 0.22086931502925114,\n",
       " 0.2207449753644046,\n",
       " 0.22069216762657531,\n",
       " 0.22060878742612927,\n",
       " 0.22052481283871167,\n",
       " 0.22046504917992787,\n",
       " 0.22040242255817191,\n",
       " 0.22038523842487526,\n",
       " 0.22028695917390198,\n",
       " 0.22014639864333516,\n",
       " 0.22014299752924624,\n",
       " 0.21993014537953709,\n",
       " 0.21988683992298808,\n",
       " 0.21983037766136279,\n",
       " 0.21980439585791006,\n",
       " 0.21957217000409057,\n",
       " 0.21935149067640258,\n",
       " 0.21931139080954312,\n",
       " 0.21929083044478123,\n",
       " 0.21927216625113988,\n",
       " 0.21921999843057802,\n",
       " 0.21916947732528608,\n",
       " 0.21911924868128582,\n",
       " 0.21890929895657346,\n",
       " 0.21880044879780983,\n",
       " 0.21876423734367365,\n",
       " 0.21876192542123965,\n",
       " 0.2186671262969454,\n",
       " 0.21818759112484837,\n",
       " 0.21815781899816553,\n",
       " 0.21813094209018499,\n",
       " 0.21811272250496286,\n",
       " 0.21805469407719835,\n",
       " 0.21802858316187165,\n",
       " 0.21782088004113945,\n",
       " 0.21776288345715289,\n",
       " 0.21769024074236651,\n",
       " 0.21756366125673954,\n",
       " 0.21746978862908595,\n",
       " 0.21737795213661854,\n",
       " 0.21732325117149109,\n",
       " 0.21729916236233676,\n",
       " 0.21727664654142925,\n",
       " 0.21699036747555644,\n",
       " 0.21687808861355559,\n",
       " 0.21677923878381092,\n",
       " 0.21674502226020992,\n",
       " 0.21671631092746216,\n",
       " 0.21651434103222392,\n",
       " 0.21640958426206283,\n",
       " 0.21620687680367526,\n",
       " 0.21611783356467984,\n",
       " 0.21590073344163754,\n",
       " 0.21586904428031187,\n",
       " 0.21584764924569697,\n",
       " 0.21557026649021263,\n",
       " 0.21554586864491382,\n",
       " 0.21541904246343427,\n",
       " 0.21535099747626171,\n",
       " 0.21522252451325657,\n",
       " 0.2151914878957103,\n",
       " 0.21518761313566903,\n",
       " 0.21494649887962253,\n",
       " 0.21481478517263075,\n",
       " 0.21479229720875587,\n",
       " 0.21471499640814257,\n",
       " 0.214575385845098,\n",
       " 0.21453115094504424,\n",
       " 0.21436823749162001,\n",
       " 0.21411750237884708,\n",
       " 0.21410361891919444,\n",
       " 0.21409421444638699,\n",
       " 0.21371038459692396,\n",
       " 0.2136125194994348,\n",
       " 0.21351115820077995,\n",
       " 0.21350420496135022,\n",
       " 0.21345082455871725,\n",
       " 0.21327902857569611,\n",
       " 0.21324149014308122,\n",
       " 0.21322619054514835,\n",
       " 0.21311542972831068,\n",
       " 0.2130845059427704,\n",
       " 0.2130519430373897,\n",
       " 0.21303702868403041,\n",
       " 0.21300526838916609,\n",
       " 0.21300525459527392,\n",
       " 0.21260381440323892,\n",
       " 0.2123843747152161,\n",
       " 0.21225327728924984,\n",
       " 0.21214421335115097,\n",
       " 0.21212702155534216,\n",
       " 0.21201049796122906,\n",
       " 0.21200576233884016,\n",
       " 0.21198618916706241,\n",
       " 0.21187923183737956,\n",
       " 0.21186398098844345,\n",
       " 0.21184206996981206,\n",
       " 0.21177581368115098,\n",
       " 0.21166304939610495,\n",
       " 0.21146273298974436,\n",
       " 0.21145706176937892,\n",
       " 0.21145487695073489,\n",
       " 0.21138836222561991,\n",
       " 0.21135496899234421,\n",
       " 0.21130680333965762,\n",
       " 0.2108907434232607,\n",
       " 0.21087375159283558,\n",
       " 0.21084014996559375,\n",
       " 0.21055675603913565,\n",
       " 0.21043608669117542,\n",
       " 0.21036721970019814,\n",
       " 0.21034975772248335,\n",
       " 0.21027724637052034,\n",
       " 0.21024741722939708,\n",
       " 0.21021329157003643,\n",
       " 0.2100832471936124,\n",
       " 0.21000305874420816,\n",
       " 0.20997712025376386,\n",
       " 0.20988179642280744,\n",
       " 0.20980260626684483,\n",
       " 0.20958155500397627,\n",
       " 0.20946721675272051,\n",
       " 0.2094652679425798,\n",
       " 0.20943006195610814,\n",
       " 0.2094216247511099,\n",
       " 0.20929629780857181,\n",
       " 0.20928580251804135,\n",
       " 0.20901293519896327,\n",
       " 0.20897617016816944,\n",
       " 0.20891853878572988,\n",
       " 0.20878740207850888,\n",
       " 0.20872235993841071,\n",
       " 0.20860954359377507,\n",
       " 0.20858097967475278,\n",
       " 0.20855376949803558,\n",
       " 0.20849788689861171,\n",
       " 0.20848982227642796,\n",
       " 0.20841344189890834,\n",
       " 0.2083896335697113,\n",
       " 0.20838306614424729,\n",
       " 0.20834077888405486,\n",
       " 0.20826545328429982,\n",
       " 0.20825353546806083,\n",
       " 0.20821728900031361,\n",
       " 0.2081690858886325,\n",
       " 0.20816749885350885,\n",
       " 0.20815257941449433,\n",
       " 0.20805875727112838,\n",
       " 0.20800363942742969,\n",
       " 0.20793151163938126,\n",
       " 0.2079113220053197,\n",
       " 0.20786048337059473,\n",
       " 0.20770852135724602,\n",
       " 0.20756352223789598,\n",
       " 0.20754824947145539,\n",
       " 0.20748751878933364,\n",
       " 0.20745998850523417,\n",
       " 0.20730151423112864,\n",
       " 0.20715865085818483,\n",
       " 0.20712371021898968,\n",
       " 0.2071109185066109,\n",
       " 0.20708165776659748,\n",
       " 0.20702514196986346,\n",
       " 0.20699384839081841,\n",
       " 0.20699298653873172,\n",
       " 0.20672678442402423,\n",
       " 0.20670204226715092,\n",
       " 0.20651341205306131,\n",
       " 0.20634646258311035,\n",
       " 0.20629382334844701,\n",
       " 0.20629145762691273,\n",
       " 0.20605911488534254,\n",
       " 0.2057378582797191,\n",
       " 0.20569345194993677,\n",
       " 0.20563355579457188,\n",
       " 0.20560661996623056,\n",
       " 0.20557282655864148,\n",
       " 0.20546234595555826,\n",
       " 0.20537565729121607,\n",
       " 0.20510303804337543,\n",
       " 0.20506610990069488,\n",
       " 0.20506153897389948,\n",
       " 0.20494434429735511,\n",
       " 0.20487811080625296,\n",
       " 0.20481150518935032,\n",
       " 0.20477770177306087,\n",
       " 0.2047077139457954,\n",
       " 0.20470335492861638,\n",
       " 0.20469382810293218,\n",
       " 0.20468660863873969,\n",
       " 0.2046820808921769,\n",
       " 0.20450000445414643,\n",
       " 0.20444827138136756,\n",
       " 0.20444030388609966,\n",
       " 0.20438152243481947,\n",
       " 0.204365604291153,\n",
       " 0.20412919458621642,\n",
       " 0.20412535376387467,\n",
       " 0.20404380031323199,\n",
       " 0.20401898214543818,\n",
       " 0.20400100738641985,\n",
       " 0.20393426212517135,\n",
       " 0.20391508870272304,\n",
       " 0.20385055184451262,\n",
       " 0.20384379301136887,\n",
       " 0.20378797232444448,\n",
       " 0.2036830091022945,\n",
       " 0.2036749047436795,\n",
       " 0.20367037202108113,\n",
       " 0.2036361842585149,\n",
       " 0.20355027799545872,\n",
       " 0.20336835274784681,\n",
       " 0.20335105463836914,\n",
       " 0.20330193026360313,\n",
       " 0.20323352102924638,\n",
       " 0.20306607369895618,\n",
       " 0.20283817488989767,\n",
       " 0.20282289064264583,\n",
       " 0.20282127471898001,\n",
       " 0.20270448964284746,\n",
       " 0.20260509520697503,\n",
       " 0.20256260784374686,\n",
       " 0.20248847757223548,\n",
       " 0.20243310183561994,\n",
       " 0.20237374011873693,\n",
       " 0.20235759100704193,\n",
       " 0.20233659735973925,\n",
       " 0.20230946199980657,\n",
       " 0.20218763003708656,\n",
       " 0.20214819861986666,\n",
       " 0.20184831535726253,\n",
       " 0.20176717863335861,\n",
       " 0.20163755814106368,\n",
       " 0.20156110308165157,\n",
       " 0.20145754271122274,\n",
       " 0.20144463476851543,\n",
       " 0.20138978823271911,\n",
       " 0.20135520146262775,\n",
       " 0.20125329159812033,\n",
       " 0.2011637781412218,\n",
       " 0.20116088883247477,\n",
       " 0.20115072194831135,\n",
       " 0.20107212650066911,\n",
       " 0.20103909105849177,\n",
       " 0.20101501706307978,\n",
       " 0.20085291059288179,\n",
       " 0.20077292141324829,\n",
       " 0.20069585552795116,\n",
       " 0.20062188547018767,\n",
       " 0.2006138273595314,\n",
       " 0.2003602696589511,\n",
       " 0.20028224574207618,\n",
       " 0.2001901417631147,\n",
       " 0.20015062754461513,\n",
       " 0.20013074974279146,\n",
       " 0.20008764145151137,\n",
       " 0.20006669114282116,\n",
       " 0.20003794378573808,\n",
       " 0.19983842576645439,\n",
       " 0.19983335116859757,\n",
       " 0.19974906695051023,\n",
       " 0.19974441298988146,\n",
       " 0.19973458189431886,\n",
       " 0.19949396173706962,\n",
       " 0.1994773502115415,\n",
       " 0.19945691049020664,\n",
       " 0.1994517844064343,\n",
       " 0.19939689103842473,\n",
       " 0.19936130997711698,\n",
       " 0.19934012078818197,\n",
       " 0.19934012078818197,\n",
       " 0.19932999446700014,\n",
       " 0.1992357228720133,\n",
       " 0.19916527484622606,\n",
       " 0.19913221065233064,\n",
       " 0.19912519134205336,\n",
       " 0.19911676754129978,\n",
       " 0.19892738385971387,\n",
       " 0.19886135515845127,\n",
       " 0.19873390397457094,\n",
       " 0.19871378118780941,\n",
       " 0.19871359749694162,\n",
       " 0.1986014820504198,\n",
       " 0.19859479877209785,\n",
       " 0.19847413481780715,\n",
       " 0.19836161964551241,\n",
       " 0.19834289573522237,\n",
       " 0.19827314233339444,\n",
       " 0.19825755879647372,\n",
       " 0.19798910617356932,\n",
       " 0.19783515751359157,\n",
       " 0.19781961088238942,\n",
       " 0.19780150105325683,\n",
       " 0.19765941588463445,\n",
       " 0.19762698705577891,\n",
       " 0.19761586901546224,\n",
       " 0.197613189464936,\n",
       " 0.19760430757456596,\n",
       " 0.19758436267409218,\n",
       " 0.19752432932597333,\n",
       " 0.19751587490079589,\n",
       " 0.19751130084871762,\n",
       " 0.19748960663816187,\n",
       " 0.19737121907157729,\n",
       " 0.19713868428977513,\n",
       " 0.19705039695901838,\n",
       " 0.19697166981037662,\n",
       " 0.19695228873630574,\n",
       " 0.19692068238117807,\n",
       " 0.19686539220637275,\n",
       " 0.19684421352805573,\n",
       " 0.1967127831671214,\n",
       " 0.19636485996172964,\n",
       " 0.19635655624001652,\n",
       " 0.19635584168963982,\n",
       " 0.19631654618703576,\n",
       " 0.19623701194337045,\n",
       " 0.19618774401127054,\n",
       " 0.19616062049996388,\n",
       " 0.19615343463122978,\n",
       " 0.19612664296529653,\n",
       " 0.19606863599595967,\n",
       " 0.19605697082309309,\n",
       " 0.19595234528100694,\n",
       " 0.1958664081035919,\n",
       " 0.19581598065768543,\n",
       " 0.19556690451399647,\n",
       " 0.19543659794440199,\n",
       " 0.19535834495984486,\n",
       " 0.19532861903057583,\n",
       " 0.19530825082524145,\n",
       " 0.19527076750305356,\n",
       " 0.19517836799183491,\n",
       " 0.19511259410270057,\n",
       " 0.19510990970430289,\n",
       " 0.19507081134127749,\n",
       " 0.19505346118105721,\n",
       " 0.19505225408033,\n",
       " 0.1950188068236193,\n",
       " 0.19497723684825419,\n",
       " 0.19489331280388236,\n",
       " 0.19478885504527391,\n",
       " 0.1947157012724072,\n",
       " 0.19469294993453204,\n",
       " 0.19467042873036083,\n",
       " 0.19461102731098817,\n",
       " 0.19458305095639511,\n",
       " 0.19455322965117261,\n",
       " 0.19440243034869542,\n",
       " 0.19436980626621894,\n",
       " 0.19436476506731828,\n",
       " 0.19430506829689084,\n",
       " 0.19429182287551122,\n",
       " 0.19426420621033791,\n",
       " 0.1942492525086163,\n",
       " 0.19423528928252803,\n",
       " 0.19414290335024983,\n",
       " 0.19406044708695722,\n",
       " 0.19403875282148192,\n",
       " 0.19399024246060215,\n",
       " 0.19390718077946828,\n",
       " 0.19378663924528122,\n",
       " 0.19374679948505602,\n",
       " 0.19362388098852051,\n",
       " 0.19362276538398532,\n",
       " 0.19361957923182843,\n",
       " 0.19357699399495976,\n",
       " 0.19355148213438389,\n",
       " 0.19351740724092509,\n",
       " 0.19344101772530803,\n",
       " 0.19342047976890281,\n",
       " 0.19340006196022319,\n",
       " 0.1933240062681886,\n",
       " 0.19332368142760789,\n",
       " 0.19329041286150594,\n",
       " 0.19323105884227038,\n",
       " 0.192972126281277,\n",
       " 0.19297066422310266,\n",
       " 0.19278473774515356,\n",
       " 0.19277520003964227,\n",
       " 0.19277333571310831,\n",
       " 0.19277241373147763,\n",
       " 0.19276524766918604,\n",
       " 0.19267598906283853,\n",
       " 0.19266450727026282,\n",
       " 0.19266074435095618,\n",
       " 0.19265188204141653,\n",
       " 0.19264997488944779,\n",
       " 0.19264854966799144,\n",
       " 0.19258802777829234,\n",
       " 0.19238735760612508,\n",
       " 0.19218481441312643,\n",
       " 0.19217833293923128,\n",
       " 0.19217701859599273,\n",
       " 0.19217009000114804,\n",
       " 0.19212224457911753,\n",
       " 0.1920135051169419,\n",
       " 0.19195676348612203,\n",
       " 0.19191254395454024,\n",
       " 0.19185980517472945,\n",
       " 0.19181414142077327,\n",
       " 0.19177778574546039,\n",
       " 0.19160924890954617,\n",
       " 0.19157718449803685,\n",
       " 0.19153373557639322,\n",
       " 0.19144620966509954,\n",
       " 0.19144082467254622,\n",
       " 0.19131921904792976,\n",
       " 0.19131459851654864,\n",
       " 0.19128018701645866,\n",
       " 0.19124734685736058,\n",
       " 0.19121100084013565,\n",
       " 0.19098672772953293,\n",
       " 0.19092725551411852,\n",
       " 0.19082054459941167,\n",
       " 0.1907376101239541,\n",
       " 0.19069412555398682,\n",
       " 0.1906652292436983,\n",
       " 0.19049293244885673,\n",
       " 0.19047341331699461,\n",
       " 0.19043416585491496,\n",
       " 0.19029265846432056,\n",
       " 0.19028691820209603,\n",
       " 0.19014582213491529,\n",
       " 0.19009341484599077,\n",
       " 0.1900800601438016,\n",
       " 0.19006999210438882,\n",
       " 0.19004904413691012,\n",
       " 0.18988724159102399,\n",
       " 0.18970938463904846,\n",
       " 0.1896919534221847,\n",
       " 0.18968013108273923,\n",
       " 0.18967412053036428,\n",
       " 0.18964963965705608,\n",
       " 0.18953566750432543,\n",
       " 0.18934370597179076,\n",
       " 0.18930742684821872,\n",
       " 0.18928181472044586,\n",
       " 0.18919146446583038,\n",
       " 0.18892868460426449,\n",
       " 0.18890654080113736,\n",
       " 0.18887566295911493,\n",
       " 0.18884520449522227,\n",
       " 0.1888316035719603,\n",
       " 0.18879999278368653,\n",
       " 0.18862857379856332,\n",
       " 0.18851755251257346,\n",
       " 0.18849953207190501,\n",
       " 0.18849848717825832,\n",
       " 0.18847685941886869,\n",
       " 0.18847656920653921,\n",
       " 0.18838899169524451,\n",
       " 0.18821968592466604,\n",
       " 0.18820209236146423,\n",
       " 0.18801386326866398,\n",
       " 0.18797774201177778,\n",
       " 0.18791977381786365,\n",
       " 0.18791390815922582,\n",
       " 0.18783252334740824,\n",
       " 0.18756316962568359,\n",
       " 0.18751716490931281,\n",
       " 0.18747323478591649,\n",
       " 0.1873517957951317,\n",
       " 0.18733862461192563,\n",
       " 0.18732167673425604,\n",
       " 0.18725351943354418,\n",
       " 0.18723060788409546,\n",
       " 0.18721998791630756,\n",
       " 0.18713326030851082,\n",
       " 0.18712089131279333,\n",
       " 0.18710800758579749,\n",
       " 0.18708122920536016,\n",
       " 0.18706935446209769,\n",
       " 0.18704619331385777,\n",
       " 0.18704591469013315,\n",
       " 0.18701415567835872,\n",
       " 0.18693841338940453,\n",
       " 0.18692623811867584,\n",
       " 0.18689646803686494,\n",
       " 0.18687948035275984,\n",
       " 0.18684394335998408,\n",
       " 0.18679754560796669,\n",
       " 0.1867113282204575,\n",
       " 0.18670720950005704,\n",
       " 0.18666193145099427,\n",
       " 0.18665764173332777,\n",
       " 0.18665044299837039,\n",
       " 0.18654832094362436,\n",
       " 0.18651094278522606,\n",
       " 0.18648497541910558,\n",
       " 0.18627069312618513,\n",
       " 0.18623128258865104,\n",
       " 0.18615896510084878,\n",
       " 0.18612736090916046,\n",
       " 0.18606160666611127,\n",
       " 0.18605032879734507,\n",
       " 0.18604610559888696,\n",
       " 0.18603086996007245,\n",
       " 0.18597537706327513,\n",
       " 0.18594620015288901,\n",
       " 0.18593758063295374,\n",
       " 0.18592733914210724,\n",
       " 0.18580978335364193,\n",
       " 0.18573779555601766,\n",
       " 0.1857178852186607,\n",
       " 0.1856719112635746,\n",
       " ...]"
      ]
     },
     "execution_count": 297,
     "metadata": {},
     "output_type": "execute_result"
    }
   ],
   "source": [
    "sorted(s,reverse = True)"
   ]
  },
  {
   "cell_type": "code",
   "execution_count": 354,
   "metadata": {
    "collapsed": false
   },
   "outputs": [
    {
     "data": {
      "text/plain": [
       "(34406, 50024)"
      ]
     },
     "execution_count": 354,
     "metadata": {},
     "output_type": "execute_result"
    }
   ],
   "source": [
    "tfidf_matrix_stem.shape"
   ]
  },
  {
   "cell_type": "code",
   "execution_count": 396,
   "metadata": {
    "collapsed": false
   },
   "outputs": [
    {
     "data": {
      "text/plain": [
       "u'/id/SENSOR-SET-TESTING-SKETCHES-for-aquaponic-Balcony-/'"
      ]
     },
     "execution_count": 396,
     "metadata": {},
     "output_type": "execute_result"
    }
   ],
   "source": [
    "df.iloc[2].url"
   ]
  },
  {
   "cell_type": "code",
   "execution_count": 394,
   "metadata": {
    "collapsed": false
   },
   "outputs": [
    {
     "data": {
      "text/plain": [
       "[29838,\n",
       " 33122,\n",
       " 18618,\n",
       " 31972,\n",
       " 14395,\n",
       " 31084,\n",
       " 30245,\n",
       " 15190,\n",
       " 927,\n",
       " 14217,\n",
       " 27284,\n",
       " 26431,\n",
       " 13001,\n",
       " 28066,\n",
       " 32428]"
      ]
     },
     "execution_count": 394,
     "metadata": {},
     "output_type": "execute_result"
    }
   ],
   "source": [
    "#getSimProjects(2)\n",
    "bestmatch[29838]"
   ]
  },
  {
   "cell_type": "raw",
   "metadata": {},
   "source": [
    "df[\"curatedText\"] = pd.Series(data = testL, index = range(0,34406))"
   ]
  },
  {
   "cell_type": "raw",
   "metadata": {},
   "source": [
    "con = mdb.connect(user=\"root\", host=\"localhost\", db=\"instructables\",  charset='utf8', unix_socket='/tmp/mysql.sock', port='3307')\n",
    "testDB = df.loc[:, [\"url\", \"title\", \"curatedText\"]]\n",
    "print testDB.shape\n",
    "testDB.to_sql(con=con, name='technoText', if_exists='replace', flavor='mysql');\n",
    "con.close()"
   ]
  },
  {
   "cell_type": "code",
   "execution_count": 105,
   "metadata": {
    "collapsed": false
   },
   "outputs": [],
   "source": [
    "corpusFreq = nltk.FreqDist(corpus)\n",
    "#verbcount = nltk.FreqDist(verbs)\n",
    "#nounscount = nltk.FreqDist(nouns)"
   ]
  },
  {
   "cell_type": "code",
   "execution_count": null,
   "metadata": {
    "collapsed": false
   },
   "outputs": [],
   "source": [
    "corpusFreq.plot(40)\n",
    "#verbcount.plot(30, cumulative = False)"
   ]
  },
  {
   "cell_type": "code",
   "execution_count": null,
   "metadata": {
    "collapsed": true
   },
   "outputs": [],
   "source": []
  },
  {
   "cell_type": "code",
   "execution_count": null,
   "metadata": {
    "collapsed": false,
    "scrolled": true
   },
   "outputs": [],
   "source": [
    "text = nltk.Text(tokens)\n",
    "freq1 = nltk.FreqDist(ch.lower() for ch in text if ch.isalpha())\n",
    "freq1.plot(70,cumulative = True)"
   ]
  },
  {
   "cell_type": "code",
   "execution_count": null,
   "metadata": {
    "collapsed": false
   },
   "outputs": [],
   "source": [
    "raw = \" \".join(des2)\n",
    "tokens = nltk.word_tokenize(raw)\n",
    "lengths = [(len(fdr),fdr) for fdr in tokens ]\n",
    "lengths.sort(reverse=True)\n",
    "lengths"
   ]
  },
  {
   "cell_type": "code",
   "execution_count": 198,
   "metadata": {
    "collapsed": true
   },
   "outputs": [],
   "source": [
    "from sklearn.feature_extraction.text import TfidfVectorizer\n",
    "from sklearn.metrics.pairwise import cosine_similarity"
   ]
  },
  {
   "cell_type": "code",
   "execution_count": 197,
   "metadata": {
    "collapsed": false
   },
   "outputs": [
    {
     "data": {
      "text/plain": [
       "34406"
      ]
     },
     "execution_count": 197,
     "metadata": {},
     "output_type": "execute_result"
    }
   ],
   "source": [
    "documents = textList[:]\n",
    "len(documents)"
   ]
  },
  {
   "cell_type": "code",
   "execution_count": 236,
   "metadata": {
    "collapsed": false
   },
   "outputs": [
    {
     "data": {
      "text/plain": [
       "(34406, 30776)"
      ]
     },
     "execution_count": 236,
     "metadata": {},
     "output_type": "execute_result"
    }
   ],
   "source": [
    "tfidf_vectorizer = TfidfVectorizer(max_df = .92, min_df= 7)\n",
    "tfidf_matrix = tfidf_vectorizer.fit_transform(documents)\n",
    "tfidf_matrix.shape\n",
    "#min = 2 yields 74000 words\n",
    "#min = 5 yields 37506 words\n",
    "#min = 7 yields 30776 words\n",
    "#min = 8 yields 28000 words"
   ]
  },
  {
   "cell_type": "code",
   "execution_count": 237,
   "metadata": {
    "collapsed": false
   },
   "outputs": [],
   "source": [
    "tfidf_min7 = tfidf_matrix"
   ]
  },
  {
   "cell_type": "code",
   "execution_count": 279,
   "metadata": {
    "collapsed": false
   },
   "outputs": [],
   "source": [
    "with open(\"tfidf_matrix_allSTEMMED_min2_max95.pickle\", 'wb') as f:\n",
    "    pkl.dump(tfidf_matrix_stem,f)"
   ]
  },
  {
   "cell_type": "code",
   "execution_count": 337,
   "metadata": {
    "collapsed": false
   },
   "outputs": [],
   "source": [
    "cosARRAY = cosine_similarity(tfidf_matrix[7000:10000], tfidf_matrix)\n"
   ]
  },
  {
   "cell_type": "code",
   "execution_count": 338,
   "metadata": {
    "collapsed": false
   },
   "outputs": [
    {
     "data": {
      "text/plain": [
       "3000"
      ]
     },
     "execution_count": 338,
     "metadata": {},
     "output_type": "execute_result"
    }
   ],
   "source": [
    "len(cosARRAY)"
   ]
  },
  {
   "cell_type": "code",
   "execution_count": null,
   "metadata": {
    "collapsed": false
   },
   "outputs": [],
   "source": [
    "with open(\"cos_sim_matrix_first4000.pickle\", 'wb') as f:\n",
    "    pkl.dump(cosARRAY,f)"
   ]
  },
  {
   "cell_type": "code",
   "execution_count": 308,
   "metadata": {
    "collapsed": false
   },
   "outputs": [
    {
     "data": {
      "text/plain": [
       "[0, 21797, 34031, 32408, 25770, 8982, 33944, 2554, 22042, 2121]"
      ]
     },
     "execution_count": 308,
     "metadata": {},
     "output_type": "execute_result"
    }
   ],
   "source": [
    "# INDEX of the most similar projects\n",
    "cosARRAY = cosine_similarity(tfidf_matrix[0:7], tfidf_matrix)\n",
    "s = cosARRAY[0]\n",
    "indices = sorted(range(len(s)), reverse = True, key=lambda k: s[k])\n",
    "indices[:10]\n",
    "# for min=2, max=95 --> [2, 927, 29817, 28789, 24633, 21254, 526, 34020, 30195, 31320]\n",
    "# for min=2, max=95 --> [2, 28789, 927, 29817, 7734, 31320, 34020, 22613, 24633, 21254]\n",
    "##for STEMMED WORDS --> [2, 28789, 23254, 24633, 29418, 31320, 34020, 927, 20613, 28606]"
   ]
  },
  {
   "cell_type": "code",
   "execution_count": 340,
   "metadata": {
    "collapsed": false
   },
   "outputs": [],
   "source": [
    "indexes = []\n",
    "for cos in cosARRAY:\n",
    "    indices = sorted(range(len(cos)), reverse = True, key=lambda k: cos[k])\n",
    "    indexes.append(indices[:15])\n",
    "    \n",
    "with open(\"indexes4000-7000.pickle\", 'wb') as f:\n",
    "    pkl.dump(indexes,f)    ##### THis gives the index of the closest 9 projects"
   ]
  },
  {
   "cell_type": "code",
   "execution_count": 341,
   "metadata": {
    "collapsed": false
   },
   "outputs": [
    {
     "data": {
      "text/plain": [
       "3000"
      ]
     },
     "execution_count": 341,
     "metadata": {},
     "output_type": "execute_result"
    }
   ],
   "source": [
    "len(indexes)"
   ]
  },
  {
   "cell_type": "raw",
   "metadata": {},
   "source": [
    "indexes.append({\"closest1\" : indices[1], \"closest2\" : indices[2], \"closest3\" : indices[3],   \"closest4\" : indices[4],    \"closest5\" : indices[5],    \"closest6\" : indices[6],    \"closest7\" : indices[7],    \"closest8\" : indices[8],\"closest9\" : indices[9]})"
   ]
  },
  {
   "cell_type": "code",
   "execution_count": 350,
   "metadata": {
    "collapsed": false
   },
   "outputs": [],
   "source": [
    "topmatch = indexesA+indexes\n"
   ]
  },
  {
   "cell_type": "code",
   "execution_count": 351,
   "metadata": {
    "collapsed": false
   },
   "outputs": [
    {
     "data": {
      "text/plain": [
       "7000"
      ]
     },
     "execution_count": 351,
     "metadata": {},
     "output_type": "execute_result"
    }
   ],
   "source": [
    "#indexesA = indexesA[:4000]\n",
    "len(topmatch)"
   ]
  },
  {
   "cell_type": "markdown",
   "metadata": {},
   "source": [
    "# Validation of tf-idf\n"
   ]
  },
  {
   "cell_type": "code",
   "execution_count": 231,
   "metadata": {
    "collapsed": false
   },
   "outputs": [
    {
     "name": "stdout",
     "output_type": "stream",
     "text": [
      "1.0\n",
      "0.512940677458\n"
     ]
    }
   ],
   "source": [
    "print cosARRAY[0][21]\n",
    "print cosARRAY[0][31033]"
   ]
  },
  {
   "cell_type": "code",
   "execution_count": 268,
   "metadata": {
    "collapsed": false
   },
   "outputs": [
    {
     "name": "stdout",
     "output_type": "stream",
     "text": [
      "2\n",
      "21\n",
      "6\n",
      "16\n",
      "2\n",
      "5\n"
     ]
    }
   ],
   "source": [
    "for t in dataDF.iloc[[7,4741, 1509, 3869, 6219, 3562]].fulltext:\n",
    "#for t in dataDF.iloc[[7,4744, 1549, 3849, 6249, 3542]].fulltext:\n",
    "    print t.count('led ')"
   ]
  },
  {
   "cell_type": "code",
   "execution_count": 324,
   "metadata": {
    "collapsed": false
   },
   "outputs": [
    {
     "data": {
      "image/png": "[encoded data removed]",
      "text/plain": [
       "<matplotlib.figure.Figure at 0x1398de290>"
      ]
     },
     "metadata": {},
     "output_type": "display_data"
    }
   ],
   "source": [
    "#nltk.FreqDist(nltk.word_tokenize(df.loc[2].fulltext)).plot(10)\n",
    "TfidfVectorizer(max_df = .92, min_df= 7).fit(df.loc[2].fulltext)#print df.loc[927].tags\n",
    "#print df.loc[29817].tags"
   ]
  },
  {
   "cell_type": "code",
   "execution_count": null,
   "metadata": {
    "collapsed": true
   },
   "outputs": [],
   "source": [
    "for document in df.iloc[indices[:7]].fulltext;\n",
    "    tokens = nltk.word_tokenize(document.lower())\n",
    "    pos = nltk.pos_tag(tokens)\n",
    "    relevant = [v[0] for v in pos if (v[1] in ['NN', 'NNP', 'NNPS', 'NNS','VB','VBN','VBG','VBP']) and (v[0] not in mystopwords)]\n",
    "    relevant.FreqDist"
   ]
  }
 ],
 "metadata": {
  "kernelspec": {
   "display_name": "Python 2",
   "language": "python",
   "name": "python2"
  },
  "language_info": {
   "codemirror_mode": {
    "name": "ipython",
    "version": 2
   },
   "file_extension": ".py",
   "mimetype": "text/x-python",
   "name": "python",
   "nbconvert_exporter": "python",
   "pygments_lexer": "ipython2",
   "version": "2.7.10"
  }
 },
 "nbformat": 4,
 "nbformat_minor": 0
}
