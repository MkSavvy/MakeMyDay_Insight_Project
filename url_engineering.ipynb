{
 "cells": [
  {
   "cell_type": "code",
   "execution_count": 1,
   "metadata": {
    "collapsed": true
   },
   "outputs": [],
   "source": [
    "%matplotlib inline"
   ]
  },
  {
   "cell_type": "code",
   "execution_count": 190,
   "metadata": {
    "collapsed": false
   },
   "outputs": [],
   "source": [
    "import json\n",
    "import matplotlib.pyplot as plt\n",
    "import numpy as np\n",
    "import nltk\n",
    "nltk.data.path.append(\"/Users/Michel_home/Documents/Projects/PythonPlay/nltk_data\")\n",
    "from nltk.stem.snowball import SnowballStemmer\n",
    "#import nltk.corpus\n",
    "from nltk.corpus import stopwords\n",
    "\n",
    "import pandas as pd\n",
    "import pickle as pkl\n",
    "import pymysql as mdb\n",
    "import random\n",
    "import seaborn as sns; sns.set()\n",
    "\n",
    "from sklearn.feature_extraction.text import CountVectorizer\n",
    "from sklearn import metrics\n",
    "from sklearn.cluster import KMeans\n",
    "from sklearn.ensemble import RandomForestRegressor\n",
    "from sklearn.svm import SVR\n",
    "from sklearn.preprocessing import scale\n",
    "from sklearn.cross_validation import train_test_split\n",
    "from sklearn.feature_extraction.text import TfidfVectorizer\n",
    "from sklearn.metrics.pairwise import cosine_similarity\n",
    "\n",
    "import re\n",
    "import time"
   ]
  },
  {
   "cell_type": "code",
   "execution_count": 3,
   "metadata": {
    "collapsed": false
   },
   "outputs": [],
   "source": [
    "import datetime\n",
    "from pandas.tools.plotting import scatter_matrix"
   ]
  },
  {
   "cell_type": "raw",
   "metadata": {
    "collapsed": true
   },
   "source": [
    "from featureEngineering import Nsteps_to_N\n",
    "from featureEngineering import list_to_string\n",
    "from featureEngineering import Nsteps_to_N\n",
    "from featureEngineering import Nsteps_to_N\n",
    "from featureEngineering import Nsteps_to_N\n",
    "from featureEngineering import Nsteps_to_N\n",
    "from featureEngineering import "
   ]
  },
  {
   "cell_type": "markdown",
   "metadata": {
    "collapsed": true
   },
   "source": [
    "## ******************content engineering********************"
   ]
  },
  {
   "cell_type": "code",
   "execution_count": null,
   "metadata": {
    "collapsed": false
   },
   "outputs": [],
   "source": [
    "techDF = pd.read_json(\"Data/techno_content.json\")"
   ]
  },
  {
   "cell_type": "code",
   "execution_count": null,
   "metadata": {
    "collapsed": false
   },
   "outputs": [],
   "source": [
    "techDF.sort(\"title\")"
   ]
  },
  {
   "cell_type": "code",
   "execution_count": null,
   "metadata": {
    "collapsed": false
   },
   "outputs": [],
   "source": [
    "techDF.drop_duplicates(inplace=True)#subset = \"title\")\n",
    "#techDF.shape"
   ]
  },
  {
   "cell_type": "code",
   "execution_count": null,
   "metadata": {
    "collapsed": false
   },
   "outputs": [],
   "source": [
    "t = [d for d in techDF.descr if len(d)>12]\n",
    "len(t)"
   ]
  },
  {
   "cell_type": "code",
   "execution_count": null,
   "metadata": {
    "collapsed": false
   },
   "outputs": [],
   "source": [
    "tech_samp = techDF.copy()"
   ]
  },
  {
   "cell_type": "code",
   "execution_count": null,
   "metadata": {
    "collapsed": false
   },
   "outputs": [],
   "source": [
    "tech_samp.shape"
   ]
  },
  {
   "cell_type": "code",
   "execution_count": null,
   "metadata": {
    "collapsed": false
   },
   "outputs": [],
   "source": [
    "def list_to_string(lista):\n",
    "    if isinstance(lista, list) and lista:\n",
    "        return lista[0]\n",
    "    else:\n",
    "        return lista if lista else \"\"\n",
    "\n",
    "    \n",
    "def descrlist_to_fulltext(string):\n",
    "    #tokenize text\n",
    "    pattern = re.compile('[^a-zA-Z]+')\n",
    "    fulltext = pattern.sub(' ', ' '.join(string))\n",
    "    return fulltext\n",
    "\n",
    "def urlExtract(url_string = \"\"):\n",
    "    pat = re.compile(\"\\/id\\/([\\w-]+)\\/\")\n",
    "    url = re.findall(pat, url_string)\n",
    "    if url:\n",
    "        return url[0]\n",
    "    else:\n",
    "    1    return \"Error 404: Page not found! The url provided is not of proper format\"\n",
    "\n",
    "\n",
    "\n",
    "def Nsteps_to_N(step_list):\n",
    "    if isinstance(step_list, list) and step_list:\n",
    "        num = re.findall('\\d+', step_list[0])[0]\n",
    "        return int(num)\n",
    "    else:\n",
    "        return 0\n",
    "\n",
    "def Nitem_to_N(alist):\n",
    "    return len(alist)\n",
    "   \n",
    "def meta_to_category(script):\n",
    "    string = script[0]\n",
    "    categ = re.findall('ibleCategory: \"([\\w\\-\\/]+)\"', string)\n",
    "    if not categ:\n",
    "        categ = [\"\"]\n",
    "    url = re.findall('ibleUrl: \"([\\w\\-\\/]+)\"', string)\n",
    "    if not url:\n",
    "        url = [\"\"]\n",
    "    channel = re.findall('ibleChannel: \"([\\w\\-\\/]+)\"', string)\n",
    "    if not channel:\n",
    "        channel = [\"\"]\n",
    "        \n",
    "    return pd.Series( {\"url\" : url[0], \"category\": categ[0], \"channel\":channel[0]})\n",
    "\n",
    "#not robust against unusual format\n",
    "def meta_to_views(script):\n",
    "    fav = script[0]\n",
    "    favorites = re.findall('favorites:(\\d+)', fav)\n",
    "    vw = script[1]\n",
    "    views = re.findall('views:(\\d+)', vw)\n",
    "    return pd.Series( {\"views\" : views[0], \"favorites\": favorites[0]})\n",
    "\n",
    "\n",
    "def date_to_datetime(datestring):\n",
    "    datestring = datestring[0]\n",
    "    delta = datetime.datetime.now() - datetime.datetime.strptime(datestring, \"%Y-%m-%d %H:%M:%S.%f\")\n",
    "    return np.round(delta.total_seconds()/86400)\n",
    "    "
   ]
  },
  {
   "cell_type": "code",
   "execution_count": null,
   "metadata": {
    "collapsed": false
   },
   "outputs": [],
   "source": [
    "tech_samp.columns"
   ]
  },
  {
   "cell_type": "code",
   "execution_count": null,
   "metadata": {
    "collapsed": false
   },
   "outputs": [],
   "source": [
    "#WORKS\n",
    "s = slice(20389, 20400)\n",
    "testurl = [urlExtract(u) for u in df.loc[s, 'projectID']]\n",
    "testurl"
   ]
  },
  {
   "cell_type": "code",
   "execution_count": null,
   "metadata": {
    "collapsed": false
   },
   "outputs": [],
   "source": [
    "#FEATURE ENGINEEEEERING ###########\n",
    "df = tech_samp[[\"projectID\"]]\n",
    "\n",
    "df.loc[:, \"Nimg\"] = tech_samp[\"Nimages\"].apply(Nitem_to_N)\n",
    "df.loc[:, \"Nlnk\"] = tech_samp[\"Nlinks\"].apply(Nitem_to_N)\n",
    "df.loc[:, \"Nstp\"] = tech_samp[\"Nsteps\"].apply(Nsteps_to_N)\n",
    "df.loc[:,\"Nvid\"] = tech_samp[\"Nvideos\"].apply(Nitem_to_N)\n",
    "#df.loc[:,\"Ncmmt\"] = tech_samp[\"comments\"].apply(Nitem_to_N)\n",
    "df.loc[:, \"Nxtra\"] = tech_samp[\"contentExtra\"].apply(Nitem_to_N)\n",
    "#df.loc[:,\"author\"] = tech_samp[\"author\"].apply(list_to_string)\n",
    "df.loc[:, \"award\"] = tech_samp[\"award\"].apply(list_to_string)\n",
    "df.loc[:, \"scripts\"] = tech_samp[\"scripts\"].apply(Nitem_to_N)\n",
    "df.loc[:, \"keywords\"] = tech_samp[\"keywords\"].apply(list_to_string)\n",
    "df.loc[:, \"title\"] = tech_samp[\"title\"].apply(list_to_string)\n",
    "#df.loc[:,\"comments\"] = tech_samp[\"comments\"].apply(list_to_string)\n",
    "df.loc[:, \"fulltext\"] = tech_samp[\"descr\"].apply(descrlist_to_fulltext)\n",
    "df.loc[:, \"Ndscr\"] = df[\"fulltext\"].apply(len)\n",
    "df.loc[:, \"daysold\"] = tech_samp[\"date\"].apply(date_to_datetime)\n",
    "df.loc[:, \"tags\"] = tech_samp[\"tags\"].apply(list_to_string)\n",
    "\n",
    "# the \"category\" field actually has information on Channel, Category, URL\n",
    "catstring = tech_samp[\"category\"].apply(meta_to_category)\n",
    "df.loc[:,\"category\"] = catstring[\"category\"]\n",
    "df.loc[:,\"channel\"] = catstring[\"channel\"]\n",
    "df.loc[:,\"url\"] = catstring[\"url\"]\n",
    "\n",
    "# views and favorites stored in list in original column \"views\"\n",
    "#viewstring = tech_samp[\"views\"].apply(meta_to_views) \n",
    "#df.loc[:,\"favorites\"] = viewstring[\"favorites\"]\n",
    "#df.loc[:,\"views\"] = viewstring[\"views\"]\n",
    "\n",
    "df.convert_objects(convert_numeric=True)\n",
    "df.shape"
   ]
  },
  {
   "cell_type": "code",
   "execution_count": null,
   "metadata": {
    "collapsed": false
   },
   "outputs": [],
   "source": [
    "df = df[(df.Nstp >1) & (df.Ndscr >40) & (df.url != '') & (df.Nimg > 3) & (df.Nimg < 300)]\n",
    "\n",
    "df.loc[:,\"dscrPerImg\"] = df[\"Ndscr\"]/df[\"Nimg\"]\n",
    "df.loc[:,\"dscrPerStp\"] = df[\"Ndscr\"]/df[\"Nstp\"]\n",
    "df.loc[:,\"logNdscr\"] = df[\"Ndscr\"].apply(np.log)\n",
    "df.loc[:,\"logImg\"] = df[\"Nimg\"].apply(np.log)\n",
    "\n",
    "df = df[(df.dscrPerStp < 6000) & (df.dscrPerImg < 4500)]\n",
    "df.drop_duplicates(subset = \"url\", inplace = True)"
   ]
  },
  {
   "cell_type": "code",
   "execution_count": null,
   "metadata": {
    "collapsed": false
   },
   "outputs": [],
   "source": [
    "df[df.dscrPerImg > 4000].url"
   ]
  },
  {
   "cell_type": "code",
   "execution_count": null,
   "metadata": {
    "collapsed": false
   },
   "outputs": [],
   "source": [
    "print df.shape\n",
    "df.columns"
   ]
  },
  {
   "cell_type": "code",
   "execution_count": null,
   "metadata": {
    "collapsed": false
   },
   "outputs": [],
   "source": [
    "# NO URL longer than 60\n",
    "df[df.url.apply(len)>60].url"
   ]
  },
  {
   "cell_type": "code",
   "execution_count": null,
   "metadata": {
    "collapsed": false
   },
   "outputs": [],
   "source": [
    "df[df.logNdscr != 0].logNdscr.tail()"
   ]
  },
  {
   "cell_type": "markdown",
   "metadata": {},
   "source": [
    "# Start visualizing raw data\n"
   ]
  },
  {
   "cell_type": "code",
   "execution_count": null,
   "metadata": {
    "collapsed": false
   },
   "outputs": [],
   "source": [
    "df2 = df[df.Nimg > 3]\n",
    "df2 = df2.loc[:,[ \"Nstp\",\"Ndscr\", \"Nimg\", \"channel\"]]\n",
    "cor = df.corr()#[[\"Ndscr\", \"Nimg\",\"Nstp\"]].corr()\n",
    "sns.heatmap(cor, square=True)"
   ]
  },
  {
   "cell_type": "code",
   "execution_count": null,
   "metadata": {
    "collapsed": false
   },
   "outputs": [],
   "source": [
    "g = sns.PairGrid(df[[\"logNdscr\",\"dscrPerImg\",\"dscrPerStp\"]], size = 6 )\n",
    "g.map_diag(sns.kdeplot, lw=3)\n",
    "g.map_lower(sns.kdeplot, cmap=\"Blues_d\")"
   ]
  },
  {
   "cell_type": "code",
   "execution_count": null,
   "metadata": {
    "collapsed": false
   },
   "outputs": [],
   "source": [
    "df1 = df[df.channel == \"arduino\"]\n",
    "df3 = df[df.channel != \"arduino\"]\n",
    "\n",
    "randrows = random.sample(range(len(df)),2000)\n",
    "colors = df.loc[randrows,\"channel\"].map(lambda x: \"#0392cf\" if x==\"arduino\" else \"#7bc043\")\n",
    "colors[-12:]"
   ]
  },
  {
   "cell_type": "code",
   "execution_count": null,
   "metadata": {
    "collapsed": false
   },
   "outputs": [],
   "source": [
    "#This shows there is no easy answer like, \"all arduino\" projects always have more lengths then other channels\n",
    "scatter_matrix(df.loc[randrows,[\"logNdscr\",\"logImg\",\"Nstp\"]], color = colors, figsize=(12,9),alpha = 0.5,diagonal='kde')"
   ]
  },
  {
   "cell_type": "code",
   "execution_count": null,
   "metadata": {
    "collapsed": false
   },
   "outputs": [],
   "source": [
    "df.Nstp.describe()"
   ]
  },
  {
   "cell_type": "code",
   "execution_count": null,
   "metadata": {
    "collapsed": false
   },
   "outputs": [],
   "source": [
    "feat_corr = df[df.Nlnk==0].corr()\n",
    "sns.heatmap(feat_corr, square=True)"
   ]
  },
  {
   "cell_type": "code",
   "execution_count": null,
   "metadata": {
    "collapsed": false
   },
   "outputs": [],
   "source": [
    "df_temp = df[df[\"Nimg\"]>100 and df[\"Ndscr\"]<2]\n",
    "scatter_matrix(df_temp[[\"Nimg\", \"Ndscr\"]],figsize=(12,9),alpha = 0.5,diagonal='kde');"
   ]
  },
  {
   "cell_type": "code",
   "execution_count": null,
   "metadata": {
    "collapsed": false
   },
   "outputs": [],
   "source": [
    "df[df[\"Nxtra\"]>0].Nxtra.hist(bins=50)"
   ]
  },
  {
   "cell_type": "code",
   "execution_count": null,
   "metadata": {
    "collapsed": false
   },
   "outputs": [],
   "source": [
    "y = df[\"views\"].values"
   ]
  },
  {
   "cell_type": "markdown",
   "metadata": {},
   "source": [
    "df[\"descr\"] = tech_samp[\"descr\"].apply(list_to_string)\n",
    "df[\"\"] = tech_samp[\"date\"].apply()****\n",
    "df[\"\"] = tech_samp[\"relatedURL\"].apply()\n",
    "df[\"\"] = tech_samp[\"tags\"].apply()"
   ]
  },
  {
   "cell_type": "code",
   "execution_count": null,
   "metadata": {
    "collapsed": true
   },
   "outputs": [],
   "source": []
  },
  {
   "cell_type": "markdown",
   "metadata": {
    "collapsed": true
   },
   "source": [
    "# ####### Label engineering ########"
   ]
  },
  {
   "cell_type": "code",
   "execution_count": 20,
   "metadata": {
    "collapsed": false
   },
   "outputs": [
    {
     "name": "stdout",
     "output_type": "stream",
     "text": [
      "/id/Simple-LED-Circuit-1/\n"
     ]
    }
   ],
   "source": [
    "#df = dataDF.copy()\n",
    "print df.loc[7].url"
   ]
  },
  {
   "cell_type": "code",
   "execution_count": null,
   "metadata": {
    "collapsed": false
   },
   "outputs": [],
   "source": [
    "random.sample(range(len(df)), 300)"
   ]
  },
  {
   "cell_type": "code",
   "execution_count": 120,
   "metadata": {
    "collapsed": false
   },
   "outputs": [
    {
     "data": {
      "text/plain": [
       "Int64Index([72], dtype='int64')"
      ]
     },
     "execution_count": 120,
     "metadata": {},
     "output_type": "execute_result"
    }
   ],
   "source": [
    "row = df[df.url == \"/id/Super-Simple-Phone-Charger/\"].index\n",
    "row"
   ]
  },
  {
   "cell_type": "code",
   "execution_count": 121,
   "metadata": {
    "collapsed": false
   },
   "outputs": [
    {
     "name": "stdout",
     "output_type": "stream",
     "text": [
      "72   NaN\n",
      "Name: complex, dtype: float64\n"
     ]
    }
   ],
   "source": [
    "#row = 20043\n",
    "print df.loc[row].complex"
   ]
  },
  {
   "cell_type": "code",
   "execution_count": 122,
   "metadata": {
    "collapsed": false
   },
   "outputs": [
    {
     "data": {
      "text/plain": [
       "72    1\n",
       "Name: complex, dtype: float64"
      ]
     },
     "execution_count": 122,
     "metadata": {},
     "output_type": "execute_result"
    }
   ],
   "source": [
    "df.loc[row,\"complex\"]=1\n",
    "df.loc[row].complex"
   ]
  },
  {
   "cell_type": "code",
   "execution_count": 127,
   "metadata": {
    "collapsed": false
   },
   "outputs": [
    {
     "name": "stdout",
     "output_type": "stream",
     "text": [
      "82\n"
     ]
    }
   ],
   "source": [
    "print len(df[df.complex>0])"
   ]
  },
  {
   "cell_type": "code",
   "execution_count": null,
   "metadata": {
    "collapsed": true
   },
   "outputs": [],
   "source": []
  },
  {
   "cell_type": "raw",
   "metadata": {
    "collapsed": false
   },
   "source": [
    "# make vector of features\n",
    "dataRaw = df.loc[df[\"complex\"] > 0,[\"logNdscr\",\"logImg\",\"Nstp\",\"Nlnk\", \"Nvid\",\"dscrPerStp\", \"scripts\", \"dscrPerImg\"]]\n",
    "data = scale(dataRaw)\n",
    "\n",
    "label = df.loc[df[\"complex\"] > 0,\"complex\"]"
   ]
  },
  {
   "cell_type": "raw",
   "metadata": {
    "collapsed": false
   },
   "source": [
    "X_train, X_test, Y_train, Y_test = train_test_split(data, label, test_size = 0.3)"
   ]
  },
  {
   "cell_type": "raw",
   "metadata": {
    "collapsed": false
   },
   "source": [
    "linmodel = SVR(kernel='linear')\n",
    "linSVR = linmodel.fit(X_train,Y_train)\n",
    "rbfmodel = SVR(kernel='rbf')\n",
    "rbfSVR = rbfmodel.fit(X_train,Y_train)"
   ]
  },
  {
   "cell_type": "raw",
   "metadata": {
    "collapsed": false
   },
   "source": [
    "y_predlin = linSVR.predict(X_test)\n",
    "y_predrbf = rbfSVR.predict(X_test)"
   ]
  },
  {
   "cell_type": "code",
   "execution_count": null,
   "metadata": {
    "collapsed": false
   },
   "outputs": [],
   "source": [
    "plt.scatter(Y_test,y_predrbf)\n",
    "plt.xlabel(\"True complexity\")\n",
    "plt.ylabel(\"Estimated complexity\")\n",
    "plt.grid(b=False)"
   ]
  },
  {
   "cell_type": "code",
   "execution_count": null,
   "metadata": {
    "collapsed": false
   },
   "outputs": [],
   "source": [
    "raw = df.loc[:,[\"logNdscr\",\"logImg\",\"Nstp\",\"Nlnk\", \"Nstp\", \"Nvid\",\"dscrPerStp\",\"Ncmmt\", \"scripts\", \"dscrPerImg\"]].values\n",
    "raw"
   ]
  },
  {
   "cell_type": "code",
   "execution_count": null,
   "metadata": {
    "collapsed": false
   },
   "outputs": [],
   "source": [
    "ALLdata = scale(raw)\n",
    "df.loc[:,\"complexEst\"] = rbfSVR.predict(ALLdata)"
   ]
  },
  {
   "cell_type": "code",
   "execution_count": null,
   "metadata": {
    "collapsed": false
   },
   "outputs": [],
   "source": [
    "scatter_matrix(df.loc[:5000,[\"complexEst\",\"Nstp\"]])"
   ]
  },
  {
   "cell_type": "code",
   "execution_count": 128,
   "metadata": {
    "collapsed": true
   },
   "outputs": [],
   "source": [
    "#dont use this line as is....\n",
    "df.to_pickle(\"tech-with_complexity82.pickle\")"
   ]
  },
  {
   "cell_type": "code",
   "execution_count": 133,
   "metadata": {
    "collapsed": false
   },
   "outputs": [
    {
     "name": "stdout",
     "output_type": "stream",
     "text": [
      "47\n",
      "82\n"
     ]
    }
   ],
   "source": [
    "print len(dataDF[dataDF.complex>0])\n",
    "print len(df[df.complex>0])"
   ]
  },
  {
   "cell_type": "code",
   "execution_count": null,
   "metadata": {
    "collapsed": false
   },
   "outputs": [],
   "source": [
    "#df.to_pickle(\"Data/techno_features.pickle\")\n",
    "df.shape"
   ]
  },
  {
   "cell_type": "code",
   "execution_count": 4,
   "metadata": {
    "collapsed": true
   },
   "outputs": [],
   "source": [
    "dataDF = pd.read_pickle('../Data/techno_features.pickle')"
   ]
  },
  {
   "cell_type": "code",
   "execution_count": null,
   "metadata": {
    "collapsed": true
   },
   "outputs": [],
   "source": [
    "dataDF2 = pd.read_pickle('Data/techno_content-with_complexity.pickle')"
   ]
  },
  {
   "cell_type": "code",
   "execution_count": null,
   "metadata": {
    "collapsed": false
   },
   "outputs": [],
   "source": [
    "dataDF = dataDF.merge(df.loc[:,[\"url\",\"complex\"]], on=\"url\")\n",
    "dataDF.shape"
   ]
  },
  {
   "cell_type": "code",
   "execution_count": 124,
   "metadata": {
    "collapsed": false
   },
   "outputs": [
    {
     "data": {
      "text/plain": [
       "Index([      u'projectID',            u'Nimg',            u'Nlnk',\n",
       "                  u'Nstp',            u'Nvid',           u'Nxtra',\n",
       "                 u'award',         u'scripts',        u'keywords',\n",
       "                 u'title',        u'fulltext',           u'Ndscr',\n",
       "               u'daysold',            u'tags',        u'category',\n",
       "               u'channel',             u'url',      u'dscrPerImg',\n",
       "            u'dscrPerStp',        u'logNdscr',          u'logImg',\n",
       "               u'complex', u'complexEstimate'],\n",
       "      dtype='object')"
      ]
     },
     "execution_count": 124,
     "metadata": {},
     "output_type": "execute_result"
    }
   ],
   "source": [
    "dataDF.columns"
   ]
  },
  {
   "cell_type": "raw",
   "metadata": {},
   "source": [
    "Features for learning\n",
    "[\"logNdscr\",\"logImg\",\"Nstp\",\"Nlnk\", \"Nxtra\", \"Nvid\",\"dscrPerStp\", \"dscrPerImg\", \"scripts\"]"
   ]
  },
  {
   "cell_type": "code",
   "execution_count": 125,
   "metadata": {
    "collapsed": false
   },
   "outputs": [],
   "source": [
    "#make vector of features\n",
    "dataRaw = df.loc[df[\"complex\"] > 0, [\"logNdscr\",\"logImg\",\"Nstp\",\"Nlnk\", \"Nxtra\", \"Nvid\",\"dscrPerStp\", \"dscrPerImg\", \"scripts\"]]\n",
    "#dataRaw.fillna(value=0, inplace = True)\n",
    "\n",
    "label = df.loc[df[\"complex\"] > 0, \"complex\"]\n",
    "data = scale(dataRaw)\n",
    "data.shape"
   ]
  },
  {
   "cell_type": "code",
   "execution_count": 151,
   "metadata": {
    "collapsed": true
   },
   "outputs": [],
   "source": [
    "X_train, X_test, Y_train, Y_test = train_test_split(data, label, test_size = 0.25)"
   ]
  },
  {
   "cell_type": "code",
   "execution_count": 160,
   "metadata": {
    "collapsed": false
   },
   "outputs": [],
   "source": [
    "linmodel = SVR(kernel='linear')\n",
    "linSVR = linmodel.fit(X_train,Y_train)\n",
    "rbfmodel = SVR(kernel='rbf')\n",
    "rbfSVR = rbfmodel.fit(X_train,Y_train)\n",
    "rfmodel = RandomForestRegressor(n_estimators = 7)\n",
    "randForrest = rfmodel.fit(X_train,Y_train)\n",
    "\n",
    "y_predlin = linSVR.predict(X_test)\n",
    "y_predrbf = rbfSVR.predict(X_test)\n",
    "y_predrfr = randForrest.predict(X_test)"
   ]
  },
  {
   "cell_type": "code",
   "execution_count": 161,
   "metadata": {
    "collapsed": false
   },
   "outputs": [
    {
     "name": "stdout",
     "output_type": "stream",
     "text": [
      "random forrest: 0.750223595414\n",
      "linear SVR: 0.600604393408\n",
      "rbf SVR: 0.871583471116\n"
     ]
    }
   ],
   "source": [
    "print \"random forrest: \" + str(randForrest.score(X_test,Y_test))\n",
    "print \"linear SVR: \" + str(linSVR.score(X_test,Y_test))\n",
    "print \"rbf SVR: \" +  str(rbfSVR.score(X_test,Y_test))"
   ]
  },
  {
   "cell_type": "code",
   "execution_count": 184,
   "metadata": {
    "collapsed": false
   },
   "outputs": [
    {
     "data": {
      "image/png": "[encoded data removed]",
      "text/plain": [
       "<matplotlib.figure.Figure at 0x10c708050>"
      ]
     },
     "metadata": {},
     "output_type": "display_data"
    }
   ],
   "source": [
    "plt.scatter(Y_test,y_predrbf)\n",
    "plt.xlabel(\"True complexity\")\n",
    "plt.ylabel(\"Estimated complexity\")\n",
    "plt.grid(b=False)"
   ]
  },
  {
   "cell_type": "code",
   "execution_count": 164,
   "metadata": {
    "collapsed": true
   },
   "outputs": [],
   "source": [
    "ALLdata = df.loc[:, [\"logNdscr\",\"logImg\",\"Nstp\",\"Nlnk\", \"Nxtra\", \"Nvid\",\"dscrPerStp\", \"dscrPerImg\", \"scripts\"]]\n",
    "df.loc[:, \"complexEstimate\"] = rbfSVR.predict(scale(ALLdata))"
   ]
  },
  {
   "cell_type": "code",
   "execution_count": 165,
   "metadata": {
    "collapsed": false
   },
   "outputs": [
    {
     "data": {
      "text/html": [
       "<div style=\"max-height:1000px;max-width:1500px;overflow:auto;\">\n",
       "<table border=\"1\" class=\"dataframe\">\n",
       "  <thead>\n",
       "    <tr style=\"text-align: right;\">\n",
       "      <th></th>\n",
       "      <th>Nimg</th>\n",
       "      <th>Nlnk</th>\n",
       "      <th>Nstp</th>\n",
       "      <th>Nvid</th>\n",
       "      <th>Nxtra</th>\n",
       "      <th>scripts</th>\n",
       "      <th>Ndscr</th>\n",
       "      <th>daysold</th>\n",
       "      <th>dscrPerImg</th>\n",
       "      <th>dscrPerStp</th>\n",
       "      <th>logNdscr</th>\n",
       "      <th>logImg</th>\n",
       "      <th>complex</th>\n",
       "      <th>complexEstimate</th>\n",
       "    </tr>\n",
       "  </thead>\n",
       "  <tbody>\n",
       "    <tr>\n",
       "      <th>count</th>\n",
       "      <td>34406.000000</td>\n",
       "      <td>34406.000000</td>\n",
       "      <td>34406.000000</td>\n",
       "      <td>34406.000000</td>\n",
       "      <td>34406.000000</td>\n",
       "      <td>34406.000000</td>\n",
       "      <td>34406.000000</td>\n",
       "      <td>34406.000000</td>\n",
       "      <td>34406.000000</td>\n",
       "      <td>34406.000000</td>\n",
       "      <td>34406.000000</td>\n",
       "      <td>34406.000000</td>\n",
       "      <td>82.000000</td>\n",
       "      <td>34406.000000</td>\n",
       "    </tr>\n",
       "    <tr>\n",
       "      <th>mean</th>\n",
       "      <td>18.544789</td>\n",
       "      <td>1.183718</td>\n",
       "      <td>6.673284</td>\n",
       "      <td>0.125443</td>\n",
       "      <td>0.403098</td>\n",
       "      <td>0.374121</td>\n",
       "      <td>4810.203453</td>\n",
       "      <td>1088.720427</td>\n",
       "      <td>325.632479</td>\n",
       "      <td>728.295599</td>\n",
       "      <td>8.021400</td>\n",
       "      <td>2.615899</td>\n",
       "      <td>3.048780</td>\n",
       "      <td>2.670896</td>\n",
       "    </tr>\n",
       "    <tr>\n",
       "      <th>std</th>\n",
       "      <td>19.228082</td>\n",
       "      <td>3.934014</td>\n",
       "      <td>4.370750</td>\n",
       "      <td>0.536438</td>\n",
       "      <td>1.644449</td>\n",
       "      <td>5.960945</td>\n",
       "      <td>5543.738015</td>\n",
       "      <td>896.114678</td>\n",
       "      <td>334.958849</td>\n",
       "      <td>614.082739</td>\n",
       "      <td>0.989209</td>\n",
       "      <td>0.734312</td>\n",
       "      <td>1.350834</td>\n",
       "      <td>0.973135</td>\n",
       "    </tr>\n",
       "    <tr>\n",
       "      <th>min</th>\n",
       "      <td>4.000000</td>\n",
       "      <td>0.000000</td>\n",
       "      <td>2.000000</td>\n",
       "      <td>0.000000</td>\n",
       "      <td>0.000000</td>\n",
       "      <td>0.000000</td>\n",
       "      <td>41.000000</td>\n",
       "      <td>10.000000</td>\n",
       "      <td>1.452381</td>\n",
       "      <td>2.277778</td>\n",
       "      <td>3.713572</td>\n",
       "      <td>1.386294</td>\n",
       "      <td>1.000000</td>\n",
       "      <td>0.867731</td>\n",
       "    </tr>\n",
       "    <tr>\n",
       "      <th>25%</th>\n",
       "      <td>8.000000</td>\n",
       "      <td>0.000000</td>\n",
       "      <td>4.000000</td>\n",
       "      <td>0.000000</td>\n",
       "      <td>0.000000</td>\n",
       "      <td>0.000000</td>\n",
       "      <td>1628.000000</td>\n",
       "      <td>310.000000</td>\n",
       "      <td>127.125000</td>\n",
       "      <td>314.500000</td>\n",
       "      <td>7.395108</td>\n",
       "      <td>2.079442</td>\n",
       "      <td>2.000000</td>\n",
       "      <td>1.829036</td>\n",
       "    </tr>\n",
       "    <tr>\n",
       "      <th>50%</th>\n",
       "      <td>13.000000</td>\n",
       "      <td>0.000000</td>\n",
       "      <td>6.000000</td>\n",
       "      <td>0.000000</td>\n",
       "      <td>0.000000</td>\n",
       "      <td>0.000000</td>\n",
       "      <td>3159.000000</td>\n",
       "      <td>831.000000</td>\n",
       "      <td>225.843826</td>\n",
       "      <td>564.232143</td>\n",
       "      <td>8.058011</td>\n",
       "      <td>2.564949</td>\n",
       "      <td>3.000000</td>\n",
       "      <td>2.764326</td>\n",
       "    </tr>\n",
       "    <tr>\n",
       "      <th>75%</th>\n",
       "      <td>22.000000</td>\n",
       "      <td>0.000000</td>\n",
       "      <td>8.000000</td>\n",
       "      <td>0.000000</td>\n",
       "      <td>0.000000</td>\n",
       "      <td>0.000000</td>\n",
       "      <td>5966.750000</td>\n",
       "      <td>1736.000000</td>\n",
       "      <td>401.226010</td>\n",
       "      <td>948.718750</td>\n",
       "      <td>8.693958</td>\n",
       "      <td>3.091042</td>\n",
       "      <td>4.000000</td>\n",
       "      <td>3.479119</td>\n",
       "    </tr>\n",
       "    <tr>\n",
       "      <th>max</th>\n",
       "      <td>298.000000</td>\n",
       "      <td>132.000000</td>\n",
       "      <td>123.000000</td>\n",
       "      <td>17.000000</td>\n",
       "      <td>157.000000</td>\n",
       "      <td>470.000000</td>\n",
       "      <td>150632.000000</td>\n",
       "      <td>3706.000000</td>\n",
       "      <td>4377.500000</td>\n",
       "      <td>5973.222222</td>\n",
       "      <td>11.922595</td>\n",
       "      <td>5.697093</td>\n",
       "      <td>5.000000</td>\n",
       "      <td>4.816555</td>\n",
       "    </tr>\n",
       "  </tbody>\n",
       "</table>\n",
       "</div>"
      ],
      "text/plain": [
       "               Nimg          Nlnk          Nstp          Nvid         Nxtra  \\\n",
       "count  34406.000000  34406.000000  34406.000000  34406.000000  34406.000000   \n",
       "mean      18.544789      1.183718      6.673284      0.125443      0.403098   \n",
       "std       19.228082      3.934014      4.370750      0.536438      1.644449   \n",
       "min        4.000000      0.000000      2.000000      0.000000      0.000000   \n",
       "25%        8.000000      0.000000      4.000000      0.000000      0.000000   \n",
       "50%       13.000000      0.000000      6.000000      0.000000      0.000000   \n",
       "75%       22.000000      0.000000      8.000000      0.000000      0.000000   \n",
       "max      298.000000    132.000000    123.000000     17.000000    157.000000   \n",
       "\n",
       "            scripts          Ndscr       daysold    dscrPerImg    dscrPerStp  \\\n",
       "count  34406.000000   34406.000000  34406.000000  34406.000000  34406.000000   \n",
       "mean       0.374121    4810.203453   1088.720427    325.632479    728.295599   \n",
       "std        5.960945    5543.738015    896.114678    334.958849    614.082739   \n",
       "min        0.000000      41.000000     10.000000      1.452381      2.277778   \n",
       "25%        0.000000    1628.000000    310.000000    127.125000    314.500000   \n",
       "50%        0.000000    3159.000000    831.000000    225.843826    564.232143   \n",
       "75%        0.000000    5966.750000   1736.000000    401.226010    948.718750   \n",
       "max      470.000000  150632.000000   3706.000000   4377.500000   5973.222222   \n",
       "\n",
       "           logNdscr        logImg    complex  complexEstimate  \n",
       "count  34406.000000  34406.000000  82.000000     34406.000000  \n",
       "mean       8.021400      2.615899   3.048780         2.670896  \n",
       "std        0.989209      0.734312   1.350834         0.973135  \n",
       "min        3.713572      1.386294   1.000000         0.867731  \n",
       "25%        7.395108      2.079442   2.000000         1.829036  \n",
       "50%        8.058011      2.564949   3.000000         2.764326  \n",
       "75%        8.693958      3.091042   4.000000         3.479119  \n",
       "max       11.922595      5.697093   5.000000         4.816555  "
      ]
     },
     "execution_count": 165,
     "metadata": {},
     "output_type": "execute_result"
    }
   ],
   "source": [
    "df.describe()"
   ]
  },
  {
   "cell_type": "code",
   "execution_count": 166,
   "metadata": {
    "collapsed": false
   },
   "outputs": [],
   "source": [
    "f = open('rbfmodel.pickle','wb')\n",
    "s = pkl.dump(rbfmodel,f)\n",
    "f.close()\n",
    "#clf2 = pickle.load(s)\n",
    "# predict on [\"logNdscr\",\"logImg\",\"Nstp\",\"Nlnk\", \"Nvid\",\"dscrPerStp\", \"scripts\", \"dscrPerImg\"]"
   ]
  },
  {
   "cell_type": "code",
   "execution_count": 167,
   "metadata": {
    "collapsed": true
   },
   "outputs": [],
   "source": [
    "df.to_pickle('techno_df-with_estimates.pickle')"
   ]
  },
  {
   "cell_type": "code",
   "execution_count": null,
   "metadata": {
    "collapsed": true
   },
   "outputs": [],
   "source": [
    "dataDF.to_pickle('techno_data_with_estimates.pickle')"
   ]
  },
  {
   "cell_type": "code",
   "execution_count": null,
   "metadata": {
    "collapsed": true
   },
   "outputs": [],
   "source": []
  },
  {
   "cell_type": "code",
   "execution_count": 170,
   "metadata": {
    "collapsed": false
   },
   "outputs": [
    {
     "data": {
      "text/plain": [
       "Index([      u'projectID',            u'Nimg',            u'Nlnk',\n",
       "                  u'Nstp',            u'Nvid',           u'Nxtra',\n",
       "                 u'award',         u'scripts',        u'keywords',\n",
       "                 u'title',        u'fulltext',           u'Ndscr',\n",
       "               u'daysold',            u'tags',        u'category',\n",
       "               u'channel',             u'url',      u'dscrPerImg',\n",
       "            u'dscrPerStp',        u'logNdscr',          u'logImg',\n",
       "               u'complex', u'complexEstimate'],\n",
       "      dtype='object')"
      ]
     },
     "execution_count": 170,
     "metadata": {},
     "output_type": "execute_result"
    }
   ],
   "source": [
    "df.columns"
   ]
  },
  {
   "cell_type": "markdown",
   "metadata": {
    "collapsed": true
   },
   "source": [
    "# Send features to MySQL"
   ]
  },
  {
   "cell_type": "code",
   "execution_count": 9,
   "metadata": {
    "collapsed": false
   },
   "outputs": [
    {
     "data": {
      "text/plain": [
       "True"
      ]
     },
     "execution_count": 9,
     "metadata": {},
     "output_type": "execute_result"
    }
   ],
   "source": [
    "\"/id/Hexapod4-Spider-RobotInstruction-Manual/\" in dataDF.url.values"
   ]
  },
  {
   "cell_type": "code",
   "execution_count": 173,
   "metadata": {
    "collapsed": false
   },
   "outputs": [],
   "source": [
    "con = mdb.connect(user=\"root\", host=\"localhost\", db=\"instructables\",  charset='utf8', unix_socket='/tmp/mysql.sock', port='3307')"
   ]
  },
  {
   "cell_type": "code",
   "execution_count": null,
   "metadata": {
    "collapsed": true
   },
   "outputs": [],
   "source": []
  },
  {
   "cell_type": "code",
   "execution_count": 174,
   "metadata": {
    "collapsed": false
   },
   "outputs": [
    {
     "data": {
      "text/plain": [
       "(34406, 15)"
      ]
     },
     "execution_count": 174,
     "metadata": {},
     "output_type": "execute_result"
    }
   ],
   "source": [
    "#need to make sure these columns are there for modeling\n",
    "#[\"logNdscr\",\"logImg\",\"Nstp\",\"Nlnk\", \"Nxtra\", \"Nvid\",\"dscrPerStp\", \"dscrPerImg\", \"scripts\"]\n",
    "testDB = df.loc[:, [\"url\", \"title\", \"complexEstimate\", \"logNdscr\", \"logImg\", \"Nstp\", \"Nlnk\", \"Nxtra\", \"Nvid\", \"dscrPerStp\", \"dscrPerImg\", \"script\", \"channel\", \"tags\", \"keywords\"]]\n",
    "testDB.shape"
   ]
  },
  {
   "cell_type": "code",
   "execution_count": 175,
   "metadata": {
    "collapsed": false
   },
   "outputs": [
    {
     "name": "stderr",
     "output_type": "stream",
     "text": [
      "/Users/Michel_home/anaconda/lib/python2.7/site-packages/pymysql/cursors.py:134: Warning: Data truncated for column 'title' at row 34\n",
      "  result = self._query(query)\n",
      "/Users/Michel_home/anaconda/lib/python2.7/site-packages/pymysql/cursors.py:134: Warning: Data truncated for column 'title' at row 49\n",
      "  result = self._query(query)\n",
      "/Users/Michel_home/anaconda/lib/python2.7/site-packages/pymysql/cursors.py:134: Warning: Data truncated for column 'title' at row 58\n",
      "  result = self._query(query)\n",
      "/Users/Michel_home/anaconda/lib/python2.7/site-packages/pymysql/cursors.py:134: Warning: Data truncated for column 'title' at row 72\n",
      "  result = self._query(query)\n",
      "/Users/Michel_home/anaconda/lib/python2.7/site-packages/pymysql/cursors.py:134: Warning: Data truncated for column 'title' at row 75\n",
      "  result = self._query(query)\n",
      "/Users/Michel_home/anaconda/lib/python2.7/site-packages/pymysql/cursors.py:134: Warning: Data truncated for column 'title' at row 90\n",
      "  result = self._query(query)\n",
      "/Users/Michel_home/anaconda/lib/python2.7/site-packages/pymysql/cursors.py:134: Warning: Data truncated for column 'title' at row 115\n",
      "  result = self._query(query)\n",
      "/Users/Michel_home/anaconda/lib/python2.7/site-packages/pymysql/cursors.py:134: Warning: Data truncated for column 'title' at row 125\n",
      "  result = self._query(query)\n",
      "/Users/Michel_home/anaconda/lib/python2.7/site-packages/pymysql/cursors.py:134: Warning: Data truncated for column 'title' at row 130\n",
      "  result = self._query(query)\n",
      "/Users/Michel_home/anaconda/lib/python2.7/site-packages/pymysql/cursors.py:134: Warning: Data truncated for column 'title' at row 132\n",
      "  result = self._query(query)\n",
      "/Users/Michel_home/anaconda/lib/python2.7/site-packages/pymysql/cursors.py:134: Warning: Data truncated for column 'title' at row 148\n",
      "  result = self._query(query)\n",
      "/Users/Michel_home/anaconda/lib/python2.7/site-packages/pymysql/cursors.py:134: Warning: Data truncated for column 'title' at row 166\n",
      "  result = self._query(query)\n",
      "/Users/Michel_home/anaconda/lib/python2.7/site-packages/pymysql/cursors.py:134: Warning: Data truncated for column 'title' at row 218\n",
      "  result = self._query(query)\n",
      "/Users/Michel_home/anaconda/lib/python2.7/site-packages/pymysql/cursors.py:134: Warning: Data truncated for column 'title' at row 230\n",
      "  result = self._query(query)\n",
      "/Users/Michel_home/anaconda/lib/python2.7/site-packages/pymysql/cursors.py:134: Warning: Data truncated for column 'title' at row 231\n",
      "  result = self._query(query)\n",
      "/Users/Michel_home/anaconda/lib/python2.7/site-packages/pymysql/cursors.py:134: Warning: Data truncated for column 'title' at row 254\n",
      "  result = self._query(query)\n",
      "/Users/Michel_home/anaconda/lib/python2.7/site-packages/pymysql/cursors.py:134: Warning: Data truncated for column 'title' at row 264\n",
      "  result = self._query(query)\n",
      "/Users/Michel_home/anaconda/lib/python2.7/site-packages/pymysql/cursors.py:134: Warning: Data truncated for column 'title' at row 288\n",
      "  result = self._query(query)\n",
      "/Users/Michel_home/anaconda/lib/python2.7/site-packages/pymysql/cursors.py:134: Warning: Data truncated for column 'title' at row 290\n",
      "  result = self._query(query)\n",
      "/Users/Michel_home/anaconda/lib/python2.7/site-packages/pymysql/cursors.py:134: Warning: Data truncated for column 'title' at row 293\n",
      "  result = self._query(query)\n",
      "/Users/Michel_home/anaconda/lib/python2.7/site-packages/pymysql/cursors.py:134: Warning: Data truncated for column 'title' at row 337\n",
      "  result = self._query(query)\n",
      "/Users/Michel_home/anaconda/lib/python2.7/site-packages/pymysql/cursors.py:134: Warning: Data truncated for column 'title' at row 404\n",
      "  result = self._query(query)\n",
      "/Users/Michel_home/anaconda/lib/python2.7/site-packages/pymysql/cursors.py:134: Warning: Data truncated for column 'title' at row 407\n",
      "  result = self._query(query)\n",
      "/Users/Michel_home/anaconda/lib/python2.7/site-packages/pymysql/cursors.py:134: Warning: Data truncated for column 'title' at row 421\n",
      "  result = self._query(query)\n",
      "/Users/Michel_home/anaconda/lib/python2.7/site-packages/pymysql/cursors.py:134: Warning: Data truncated for column 'title' at row 427\n",
      "  result = self._query(query)\n",
      "/Users/Michel_home/anaconda/lib/python2.7/site-packages/pymysql/cursors.py:134: Warning: Data truncated for column 'title' at row 430\n",
      "  result = self._query(query)\n",
      "/Users/Michel_home/anaconda/lib/python2.7/site-packages/pymysql/cursors.py:134: Warning: Data truncated for column 'title' at row 477\n",
      "  result = self._query(query)\n",
      "/Users/Michel_home/anaconda/lib/python2.7/site-packages/pymysql/cursors.py:134: Warning: Data truncated for column 'title' at row 478\n",
      "  result = self._query(query)\n",
      "/Users/Michel_home/anaconda/lib/python2.7/site-packages/pymysql/cursors.py:134: Warning: Data truncated for column 'title' at row 484\n",
      "  result = self._query(query)\n",
      "/Users/Michel_home/anaconda/lib/python2.7/site-packages/pymysql/cursors.py:134: Warning: Data truncated for column 'title' at row 527\n",
      "  result = self._query(query)\n",
      "/Users/Michel_home/anaconda/lib/python2.7/site-packages/pymysql/cursors.py:134: Warning: Data truncated for column 'title' at row 540\n",
      "  result = self._query(query)\n",
      "/Users/Michel_home/anaconda/lib/python2.7/site-packages/pymysql/cursors.py:134: Warning: Data truncated for column 'title' at row 541\n",
      "  result = self._query(query)\n",
      "/Users/Michel_home/anaconda/lib/python2.7/site-packages/pymysql/cursors.py:134: Warning: Data truncated for column 'title' at row 542\n",
      "  result = self._query(query)\n",
      "/Users/Michel_home/anaconda/lib/python2.7/site-packages/pymysql/cursors.py:134: Warning: Data truncated for column 'title' at row 552\n",
      "  result = self._query(query)\n",
      "/Users/Michel_home/anaconda/lib/python2.7/site-packages/pymysql/cursors.py:134: Warning: Data truncated for column 'title' at row 586\n",
      "  result = self._query(query)\n",
      "/Users/Michel_home/anaconda/lib/python2.7/site-packages/pymysql/cursors.py:134: Warning: Data truncated for column 'title' at row 119\n",
      "  result = self._query(query)\n",
      "/Users/Michel_home/anaconda/lib/python2.7/site-packages/pymysql/cursors.py:134: Warning: Data truncated for column 'title' at row 178\n",
      "  result = self._query(query)\n",
      "/Users/Michel_home/anaconda/lib/python2.7/site-packages/pymysql/cursors.py:134: Warning: Data truncated for column 'title' at row 250\n",
      "  result = self._query(query)\n",
      "/Users/Michel_home/anaconda/lib/python2.7/site-packages/pymysql/cursors.py:134: Warning: Data truncated for column 'title' at row 283\n",
      "  result = self._query(query)\n",
      "/Users/Michel_home/anaconda/lib/python2.7/site-packages/pymysql/cursors.py:134: Warning: Data truncated for column 'title' at row 316\n",
      "  result = self._query(query)\n",
      "/Users/Michel_home/anaconda/lib/python2.7/site-packages/pymysql/cursors.py:134: Warning: Data truncated for column 'title' at row 317\n",
      "  result = self._query(query)\n",
      "/Users/Michel_home/anaconda/lib/python2.7/site-packages/pymysql/cursors.py:134: Warning: Data truncated for column 'title' at row 323\n",
      "  result = self._query(query)\n",
      "/Users/Michel_home/anaconda/lib/python2.7/site-packages/pymysql/cursors.py:134: Warning: Data truncated for column 'title' at row 342\n",
      "  result = self._query(query)\n",
      "/Users/Michel_home/anaconda/lib/python2.7/site-packages/pymysql/cursors.py:134: Warning: Data truncated for column 'title' at row 372\n",
      "  result = self._query(query)\n",
      "/Users/Michel_home/anaconda/lib/python2.7/site-packages/pymysql/cursors.py:134: Warning: Data truncated for column 'title' at row 408\n",
      "  result = self._query(query)\n",
      "/Users/Michel_home/anaconda/lib/python2.7/site-packages/pymysql/cursors.py:134: Warning: Data truncated for column 'title' at row 453\n",
      "  result = self._query(query)\n",
      "/Users/Michel_home/anaconda/lib/python2.7/site-packages/pymysql/cursors.py:134: Warning: Data truncated for column 'title' at row 498\n",
      "  result = self._query(query)\n",
      "/Users/Michel_home/anaconda/lib/python2.7/site-packages/pymysql/cursors.py:134: Warning: Data truncated for column 'title' at row 589\n",
      "  result = self._query(query)\n",
      "/Users/Michel_home/anaconda/lib/python2.7/site-packages/pymysql/cursors.py:134: Warning: Data truncated for column 'title' at row 699\n",
      "  result = self._query(query)\n",
      "/Users/Michel_home/anaconda/lib/python2.7/site-packages/pymysql/cursors.py:134: Warning: Data truncated for column 'title' at row 713\n",
      "  result = self._query(query)\n",
      "/Users/Michel_home/anaconda/lib/python2.7/site-packages/pymysql/cursors.py:134: Warning: Data truncated for column 'title' at row 803\n",
      "  result = self._query(query)\n",
      "/Users/Michel_home/anaconda/lib/python2.7/site-packages/pymysql/cursors.py:134: Warning: Data truncated for column 'title' at row 806\n",
      "  result = self._query(query)\n",
      "/Users/Michel_home/anaconda/lib/python2.7/site-packages/pymysql/cursors.py:134: Warning: Incorrect string value: '\\xE2\\x9D\\xA4 or...' for column 'title' at row 858\n",
      "  result = self._query(query)\n",
      "/Users/Michel_home/anaconda/lib/python2.7/site-packages/pymysql/cursors.py:134: Warning: Data truncated for column 'title' at row 874\n",
      "  result = self._query(query)\n",
      "/Users/Michel_home/anaconda/lib/python2.7/site-packages/pymysql/cursors.py:134: Warning: Data truncated for column 'title' at row 931\n",
      "  result = self._query(query)\n",
      "/Users/Michel_home/anaconda/lib/python2.7/site-packages/pymysql/cursors.py:134: Warning: Incorrect string value: '\\xEF\\xBC\\x9ALin...' for column 'title' at row 1017\n",
      "  result = self._query(query)\n",
      "/Users/Michel_home/anaconda/lib/python2.7/site-packages/pymysql/cursors.py:134: Warning: Data truncated for column 'title' at row 1060\n",
      "  result = self._query(query)\n",
      "/Users/Michel_home/anaconda/lib/python2.7/site-packages/pymysql/cursors.py:134: Warning: Data truncated for column 'title' at row 1074\n",
      "  result = self._query(query)\n",
      "/Users/Michel_home/anaconda/lib/python2.7/site-packages/pymysql/cursors.py:134: Warning: Data truncated for column 'title' at row 1093\n",
      "  result = self._query(query)\n",
      "/Users/Michel_home/anaconda/lib/python2.7/site-packages/pymysql/cursors.py:134: Warning: Data truncated for column 'title' at row 1168\n",
      "  result = self._query(query)\n",
      "/Users/Michel_home/anaconda/lib/python2.7/site-packages/pymysql/cursors.py:134: Warning: Data truncated for column 'title' at row 1169\n",
      "  result = self._query(query)\n",
      "/Users/Michel_home/anaconda/lib/python2.7/site-packages/pymysql/cursors.py:134: Warning: Data truncated for column 'title' at row 1170\n",
      "  result = self._query(query)\n",
      "/Users/Michel_home/anaconda/lib/python2.7/site-packages/pymysql/cursors.py:134: Warning: Incorrect string value: '\\xEF\\xBF\\xBDsic...' for column 'title' at row 1202\n",
      "  result = self._query(query)\n",
      "/Users/Michel_home/anaconda/lib/python2.7/site-packages/pymysql/cursors.py:134: Warning: Data truncated for column 'title' at row 1212\n",
      "  result = self._query(query)\n",
      "/Users/Michel_home/anaconda/lib/python2.7/site-packages/pymysql/cursors.py:134: Warning: Data truncated for column 'title' at row 1221\n",
      "  result = self._query(query)\n",
      "/Users/Michel_home/anaconda/lib/python2.7/site-packages/pymysql/cursors.py:134: Warning: Data truncated for column 'title' at row 1252\n",
      "  result = self._query(query)\n",
      "/Users/Michel_home/anaconda/lib/python2.7/site-packages/pymysql/cursors.py:134: Warning: Data truncated for column 'title' at row 1272\n",
      "  result = self._query(query)\n",
      "/Users/Michel_home/anaconda/lib/python2.7/site-packages/pymysql/cursors.py:134: Warning: Data truncated for column 'title' at row 1278\n",
      "  result = self._query(query)\n",
      "/Users/Michel_home/anaconda/lib/python2.7/site-packages/pymysql/cursors.py:134: Warning: Data truncated for column 'title' at row 1304\n",
      "  result = self._query(query)\n",
      "/Users/Michel_home/anaconda/lib/python2.7/site-packages/pymysql/cursors.py:134: Warning: Data truncated for column 'title' at row 1331\n",
      "  result = self._query(query)\n",
      "/Users/Michel_home/anaconda/lib/python2.7/site-packages/pymysql/cursors.py:134: Warning: Data truncated for column 'title' at row 1369\n",
      "  result = self._query(query)\n",
      "/Users/Michel_home/anaconda/lib/python2.7/site-packages/pymysql/cursors.py:134: Warning: Data truncated for column 'title' at row 1415\n",
      "  result = self._query(query)\n",
      "/Users/Michel_home/anaconda/lib/python2.7/site-packages/pymysql/cursors.py:134: Warning: Data truncated for column 'title' at row 1419\n",
      "  result = self._query(query)\n",
      "/Users/Michel_home/anaconda/lib/python2.7/site-packages/pymysql/cursors.py:134: Warning: Data truncated for column 'title' at row 98\n",
      "  result = self._query(query)\n",
      "/Users/Michel_home/anaconda/lib/python2.7/site-packages/pymysql/cursors.py:134: Warning: Data truncated for column 'title' at row 157\n",
      "  result = self._query(query)\n",
      "/Users/Michel_home/anaconda/lib/python2.7/site-packages/pymysql/cursors.py:134: Warning: Data truncated for column 'title' at row 204\n",
      "  result = self._query(query)\n",
      "/Users/Michel_home/anaconda/lib/python2.7/site-packages/pymysql/cursors.py:134: Warning: Data truncated for column 'title' at row 280\n",
      "  result = self._query(query)\n",
      "/Users/Michel_home/anaconda/lib/python2.7/site-packages/pymysql/cursors.py:134: Warning: Data truncated for column 'title' at row 334\n",
      "  result = self._query(query)\n",
      "/Users/Michel_home/anaconda/lib/python2.7/site-packages/pymysql/cursors.py:134: Warning: Data truncated for column 'title' at row 347\n",
      "  result = self._query(query)\n",
      "/Users/Michel_home/anaconda/lib/python2.7/site-packages/pymysql/cursors.py:134: Warning: Incorrect string value: '\\xC2\\x80\\xC2\\x9CSn...' for column 'title' at row 370\n",
      "  result = self._query(query)\n",
      "/Users/Michel_home/anaconda/lib/python2.7/site-packages/pymysql/cursors.py:134: Warning: Data truncated for column 'title' at row 458\n",
      "  result = self._query(query)\n",
      "/Users/Michel_home/anaconda/lib/python2.7/site-packages/pymysql/cursors.py:134: Warning: Data truncated for column 'title' at row 521\n",
      "  result = self._query(query)\n",
      "/Users/Michel_home/anaconda/lib/python2.7/site-packages/pymysql/cursors.py:134: Warning: Data truncated for column 'title' at row 526\n",
      "  result = self._query(query)\n",
      "/Users/Michel_home/anaconda/lib/python2.7/site-packages/pymysql/cursors.py:134: Warning: Incorrect string value: '\\xEF\\xBF\\xBD Li...' for column 'title' at row 531\n",
      "  result = self._query(query)\n",
      "/Users/Michel_home/anaconda/lib/python2.7/site-packages/pymysql/cursors.py:134: Warning: Data truncated for column 'title' at row 610\n",
      "  result = self._query(query)\n",
      "/Users/Michel_home/anaconda/lib/python2.7/site-packages/pymysql/cursors.py:134: Warning: Data truncated for column 'title' at row 637\n",
      "  result = self._query(query)\n",
      "/Users/Michel_home/anaconda/lib/python2.7/site-packages/pymysql/cursors.py:134: Warning: Incorrect string value: '\\xEF\\xBF\\xBD2' for column 'title' at row 674\n",
      "  result = self._query(query)\n",
      "/Users/Michel_home/anaconda/lib/python2.7/site-packages/pymysql/cursors.py:134: Warning: Data truncated for column 'title' at row 678\n",
      "  result = self._query(query)\n",
      "/Users/Michel_home/anaconda/lib/python2.7/site-packages/pymysql/cursors.py:134: Warning: Data truncated for column 'title' at row 680\n",
      "  result = self._query(query)\n",
      "/Users/Michel_home/anaconda/lib/python2.7/site-packages/pymysql/cursors.py:134: Warning: Data truncated for column 'title' at row 694\n",
      "  result = self._query(query)\n",
      "/Users/Michel_home/anaconda/lib/python2.7/site-packages/pymysql/cursors.py:134: Warning: Data truncated for column 'title' at row 710\n",
      "  result = self._query(query)\n",
      "/Users/Michel_home/anaconda/lib/python2.7/site-packages/pymysql/cursors.py:134: Warning: Data truncated for column 'title' at row 731\n",
      "  result = self._query(query)\n",
      "/Users/Michel_home/anaconda/lib/python2.7/site-packages/pymysql/cursors.py:134: Warning: Data truncated for column 'title' at row 778\n",
      "  result = self._query(query)\n",
      "/Users/Michel_home/anaconda/lib/python2.7/site-packages/pymysql/cursors.py:134: Warning: Data truncated for column 'title' at row 818\n",
      "  result = self._query(query)\n",
      "/Users/Michel_home/anaconda/lib/python2.7/site-packages/pymysql/cursors.py:134: Warning: Data truncated for column 'title' at row 829\n",
      "  result = self._query(query)\n",
      "/Users/Michel_home/anaconda/lib/python2.7/site-packages/pymysql/cursors.py:134: Warning: Data truncated for column 'title' at row 839\n",
      "  result = self._query(query)\n",
      "/Users/Michel_home/anaconda/lib/python2.7/site-packages/pymysql/cursors.py:134: Warning: Data truncated for column 'title' at row 862\n",
      "  result = self._query(query)\n",
      "/Users/Michel_home/anaconda/lib/python2.7/site-packages/pymysql/cursors.py:134: Warning: Data truncated for column 'title' at row 881\n",
      "  result = self._query(query)\n",
      "/Users/Michel_home/anaconda/lib/python2.7/site-packages/pymysql/cursors.py:134: Warning: Data truncated for column 'title' at row 900\n",
      "  result = self._query(query)\n",
      "/Users/Michel_home/anaconda/lib/python2.7/site-packages/pymysql/cursors.py:134: Warning: Data truncated for column 'title' at row 912\n",
      "  result = self._query(query)\n",
      "/Users/Michel_home/anaconda/lib/python2.7/site-packages/pymysql/cursors.py:134: Warning: Data truncated for column 'title' at row 952\n",
      "  result = self._query(query)\n",
      "/Users/Michel_home/anaconda/lib/python2.7/site-packages/pymysql/cursors.py:134: Warning: Data truncated for column 'title' at row 1003\n",
      "  result = self._query(query)\n",
      "/Users/Michel_home/anaconda/lib/python2.7/site-packages/pymysql/cursors.py:134: Warning: Data truncated for column 'title' at row 1021\n",
      "  result = self._query(query)\n",
      "/Users/Michel_home/anaconda/lib/python2.7/site-packages/pymysql/cursors.py:134: Warning: Data truncated for column 'title' at row 1080\n",
      "  result = self._query(query)\n",
      "/Users/Michel_home/anaconda/lib/python2.7/site-packages/pymysql/cursors.py:134: Warning: Data truncated for column 'title' at row 1084\n",
      "  result = self._query(query)\n",
      "/Users/Michel_home/anaconda/lib/python2.7/site-packages/pymysql/cursors.py:134: Warning: Data truncated for column 'title' at row 1097\n",
      "  result = self._query(query)\n",
      "/Users/Michel_home/anaconda/lib/python2.7/site-packages/pymysql/cursors.py:134: Warning: Data truncated for column 'title' at row 1161\n",
      "  result = self._query(query)\n",
      "/Users/Michel_home/anaconda/lib/python2.7/site-packages/pymysql/cursors.py:134: Warning: Data truncated for column 'title' at row 1167\n",
      "  result = self._query(query)\n",
      "/Users/Michel_home/anaconda/lib/python2.7/site-packages/pymysql/cursors.py:134: Warning: Data truncated for column 'title' at row 1205\n",
      "  result = self._query(query)\n",
      "/Users/Michel_home/anaconda/lib/python2.7/site-packages/pymysql/cursors.py:134: Warning: Data truncated for column 'title' at row 1211\n",
      "  result = self._query(query)\n",
      "/Users/Michel_home/anaconda/lib/python2.7/site-packages/pymysql/cursors.py:134: Warning: Data truncated for column 'tags' at row 1214\n",
      "  result = self._query(query)\n",
      "/Users/Michel_home/anaconda/lib/python2.7/site-packages/pymysql/cursors.py:134: Warning: Data truncated for column 'title' at row 1219\n",
      "  result = self._query(query)\n",
      "/Users/Michel_home/anaconda/lib/python2.7/site-packages/pymysql/cursors.py:134: Warning: Data truncated for column 'title' at row 5\n",
      "  result = self._query(query)\n",
      "/Users/Michel_home/anaconda/lib/python2.7/site-packages/pymysql/cursors.py:134: Warning: Data truncated for column 'title' at row 51\n",
      "  result = self._query(query)\n",
      "/Users/Michel_home/anaconda/lib/python2.7/site-packages/pymysql/cursors.py:134: Warning: Data truncated for column 'title' at row 60\n",
      "  result = self._query(query)\n",
      "/Users/Michel_home/anaconda/lib/python2.7/site-packages/pymysql/cursors.py:134: Warning: Data truncated for column 'title' at row 73\n",
      "  result = self._query(query)\n",
      "/Users/Michel_home/anaconda/lib/python2.7/site-packages/pymysql/cursors.py:134: Warning: Data truncated for column 'title' at row 92\n",
      "  result = self._query(query)\n",
      "/Users/Michel_home/anaconda/lib/python2.7/site-packages/pymysql/cursors.py:134: Warning: Data truncated for column 'title' at row 107\n",
      "  result = self._query(query)\n",
      "/Users/Michel_home/anaconda/lib/python2.7/site-packages/pymysql/cursors.py:134: Warning: Data truncated for column 'title' at row 163\n",
      "  result = self._query(query)\n",
      "/Users/Michel_home/anaconda/lib/python2.7/site-packages/pymysql/cursors.py:134: Warning: Data truncated for column 'title' at row 174\n",
      "  result = self._query(query)\n",
      "/Users/Michel_home/anaconda/lib/python2.7/site-packages/pymysql/cursors.py:134: Warning: Data truncated for column 'title' at row 257\n",
      "  result = self._query(query)\n",
      "/Users/Michel_home/anaconda/lib/python2.7/site-packages/pymysql/cursors.py:134: Warning: Data truncated for column 'title' at row 258\n",
      "  result = self._query(query)\n",
      "/Users/Michel_home/anaconda/lib/python2.7/site-packages/pymysql/cursors.py:134: Warning: Data truncated for column 'title' at row 294\n",
      "  result = self._query(query)\n",
      "/Users/Michel_home/anaconda/lib/python2.7/site-packages/pymysql/cursors.py:134: Warning: Data truncated for column 'title' at row 339\n",
      "  result = self._query(query)\n",
      "/Users/Michel_home/anaconda/lib/python2.7/site-packages/pymysql/cursors.py:134: Warning: Data truncated for column 'title' at row 340\n",
      "  result = self._query(query)\n",
      "/Users/Michel_home/anaconda/lib/python2.7/site-packages/pymysql/cursors.py:134: Warning: Data truncated for column 'title' at row 379\n",
      "  result = self._query(query)\n",
      "/Users/Michel_home/anaconda/lib/python2.7/site-packages/pymysql/cursors.py:134: Warning: Data truncated for column 'title' at row 413\n",
      "  result = self._query(query)\n",
      "/Users/Michel_home/anaconda/lib/python2.7/site-packages/pymysql/cursors.py:134: Warning: Data truncated for column 'title' at row 489\n",
      "  result = self._query(query)\n",
      "/Users/Michel_home/anaconda/lib/python2.7/site-packages/pymysql/cursors.py:134: Warning: Data truncated for column 'tags' at row 560\n",
      "  result = self._query(query)\n",
      "/Users/Michel_home/anaconda/lib/python2.7/site-packages/pymysql/cursors.py:134: Warning: Data truncated for column 'title' at row 587\n",
      "  result = self._query(query)\n",
      "/Users/Michel_home/anaconda/lib/python2.7/site-packages/pymysql/cursors.py:134: Warning: Data truncated for column 'title' at row 612\n",
      "  result = self._query(query)\n",
      "/Users/Michel_home/anaconda/lib/python2.7/site-packages/pymysql/cursors.py:134: Warning: Data truncated for column 'title' at row 614\n",
      "  result = self._query(query)\n",
      "/Users/Michel_home/anaconda/lib/python2.7/site-packages/pymysql/cursors.py:134: Warning: Data truncated for column 'title' at row 618\n",
      "  result = self._query(query)\n",
      "/Users/Michel_home/anaconda/lib/python2.7/site-packages/pymysql/cursors.py:134: Warning: Data truncated for column 'title' at row 716\n",
      "  result = self._query(query)\n",
      "/Users/Michel_home/anaconda/lib/python2.7/site-packages/pymysql/cursors.py:134: Warning: Data truncated for column 'title' at row 796\n",
      "  result = self._query(query)\n",
      "/Users/Michel_home/anaconda/lib/python2.7/site-packages/pymysql/cursors.py:134: Warning: Data truncated for column 'title' at row 802\n",
      "  result = self._query(query)\n",
      "/Users/Michel_home/anaconda/lib/python2.7/site-packages/pymysql/cursors.py:134: Warning: Data truncated for column 'tags' at row 836\n",
      "  result = self._query(query)\n",
      "/Users/Michel_home/anaconda/lib/python2.7/site-packages/pymysql/cursors.py:134: Warning: Data truncated for column 'title' at row 845\n",
      "  result = self._query(query)\n",
      "/Users/Michel_home/anaconda/lib/python2.7/site-packages/pymysql/cursors.py:134: Warning: Data truncated for column 'title' at row 865\n",
      "  result = self._query(query)\n",
      "/Users/Michel_home/anaconda/lib/python2.7/site-packages/pymysql/cursors.py:134: Warning: Data truncated for column 'title' at row 904\n",
      "  result = self._query(query)\n",
      "/Users/Michel_home/anaconda/lib/python2.7/site-packages/pymysql/cursors.py:134: Warning: Data truncated for column 'title' at row 915\n",
      "  result = self._query(query)\n",
      "/Users/Michel_home/anaconda/lib/python2.7/site-packages/pymysql/cursors.py:134: Warning: Data truncated for column 'title' at row 919\n",
      "  result = self._query(query)\n",
      "/Users/Michel_home/anaconda/lib/python2.7/site-packages/pymysql/cursors.py:134: Warning: Data truncated for column 'title' at row 938\n",
      "  result = self._query(query)\n",
      "/Users/Michel_home/anaconda/lib/python2.7/site-packages/pymysql/cursors.py:134: Warning: Data truncated for column 'title' at row 957\n",
      "  result = self._query(query)\n",
      "/Users/Michel_home/anaconda/lib/python2.7/site-packages/pymysql/cursors.py:134: Warning: Data truncated for column 'title' at row 959\n",
      "  result = self._query(query)\n",
      "/Users/Michel_home/anaconda/lib/python2.7/site-packages/pymysql/cursors.py:134: Warning: Data truncated for column 'title' at row 960\n",
      "  result = self._query(query)\n",
      "/Users/Michel_home/anaconda/lib/python2.7/site-packages/pymysql/cursors.py:134: Warning: Data truncated for column 'title' at row 978\n",
      "  result = self._query(query)\n",
      "/Users/Michel_home/anaconda/lib/python2.7/site-packages/pymysql/cursors.py:134: Warning: Data truncated for column 'title' at row 981\n",
      "  result = self._query(query)\n",
      "/Users/Michel_home/anaconda/lib/python2.7/site-packages/pymysql/cursors.py:134: Warning: Data truncated for column 'title' at row 29\n",
      "  result = self._query(query)\n",
      "/Users/Michel_home/anaconda/lib/python2.7/site-packages/pymysql/cursors.py:134: Warning: Data truncated for column 'title' at row 36\n",
      "  result = self._query(query)\n",
      "/Users/Michel_home/anaconda/lib/python2.7/site-packages/pymysql/cursors.py:134: Warning: Data truncated for column 'title' at row 140\n",
      "  result = self._query(query)\n",
      "/Users/Michel_home/anaconda/lib/python2.7/site-packages/pymysql/cursors.py:134: Warning: Data truncated for column 'title' at row 159\n",
      "  result = self._query(query)\n",
      "/Users/Michel_home/anaconda/lib/python2.7/site-packages/pymysql/cursors.py:134: Warning: Data truncated for column 'title' at row 172\n",
      "  result = self._query(query)\n",
      "/Users/Michel_home/anaconda/lib/python2.7/site-packages/pymysql/cursors.py:134: Warning: Data truncated for column 'title' at row 177\n",
      "  result = self._query(query)\n",
      "/Users/Michel_home/anaconda/lib/python2.7/site-packages/pymysql/cursors.py:134: Warning: Data truncated for column 'title' at row 232\n",
      "  result = self._query(query)\n",
      "/Users/Michel_home/anaconda/lib/python2.7/site-packages/pymysql/cursors.py:134: Warning: Data truncated for column 'title' at row 256\n",
      "  result = self._query(query)\n",
      "/Users/Michel_home/anaconda/lib/python2.7/site-packages/pymysql/cursors.py:134: Warning: Data truncated for column 'tags' at row 350\n",
      "  result = self._query(query)\n",
      "/Users/Michel_home/anaconda/lib/python2.7/site-packages/pymysql/cursors.py:134: Warning: Data truncated for column 'title' at row 351\n",
      "  result = self._query(query)\n",
      "/Users/Michel_home/anaconda/lib/python2.7/site-packages/pymysql/cursors.py:134: Warning: Incorrect string value: '\\xE2\\x80\\xB3 i2...' for column 'title' at row 370\n",
      "  result = self._query(query)\n",
      "/Users/Michel_home/anaconda/lib/python2.7/site-packages/pymysql/cursors.py:134: Warning: Data truncated for column 'title' at row 446\n",
      "  result = self._query(query)\n",
      "/Users/Michel_home/anaconda/lib/python2.7/site-packages/pymysql/cursors.py:134: Warning: Data truncated for column 'title' at row 462\n",
      "  result = self._query(query)\n",
      "/Users/Michel_home/anaconda/lib/python2.7/site-packages/pymysql/cursors.py:134: Warning: Data truncated for column 'title' at row 571\n",
      "  result = self._query(query)\n",
      "/Users/Michel_home/anaconda/lib/python2.7/site-packages/pymysql/cursors.py:134: Warning: Data truncated for column 'title' at row 582\n",
      "  result = self._query(query)\n",
      "/Users/Michel_home/anaconda/lib/python2.7/site-packages/pymysql/cursors.py:134: Warning: Data truncated for column 'title' at row 598\n",
      "  result = self._query(query)\n",
      "/Users/Michel_home/anaconda/lib/python2.7/site-packages/pymysql/cursors.py:134: Warning: Data truncated for column 'title' at row 603\n",
      "  result = self._query(query)\n",
      "/Users/Michel_home/anaconda/lib/python2.7/site-packages/pymysql/cursors.py:134: Warning: Data truncated for column 'title' at row 646\n",
      "  result = self._query(query)\n",
      "/Users/Michel_home/anaconda/lib/python2.7/site-packages/pymysql/cursors.py:134: Warning: Data truncated for column 'title' at row 696\n",
      "  result = self._query(query)\n",
      "/Users/Michel_home/anaconda/lib/python2.7/site-packages/pymysql/cursors.py:134: Warning: Data truncated for column 'title' at row 698\n",
      "  result = self._query(query)\n",
      "/Users/Michel_home/anaconda/lib/python2.7/site-packages/pymysql/cursors.py:134: Warning: Data truncated for column 'title' at row 785\n",
      "  result = self._query(query)\n",
      "/Users/Michel_home/anaconda/lib/python2.7/site-packages/pymysql/cursors.py:134: Warning: Data truncated for column 'title' at row 800\n",
      "  result = self._query(query)\n",
      "/Users/Michel_home/anaconda/lib/python2.7/site-packages/pymysql/cursors.py:134: Warning: Incorrect string value: '\\xE2\\x82\\xB9100...' for column 'title' at row 821\n",
      "  result = self._query(query)\n",
      "/Users/Michel_home/anaconda/lib/python2.7/site-packages/pymysql/cursors.py:134: Warning: Data truncated for column 'title' at row 828\n",
      "  result = self._query(query)\n",
      "/Users/Michel_home/anaconda/lib/python2.7/site-packages/pymysql/cursors.py:134: Warning: Data truncated for column 'title' at row 10\n",
      "  result = self._query(query)\n",
      "/Users/Michel_home/anaconda/lib/python2.7/site-packages/pymysql/cursors.py:134: Warning: Data truncated for column 'title' at row 17\n",
      "  result = self._query(query)\n",
      "/Users/Michel_home/anaconda/lib/python2.7/site-packages/pymysql/cursors.py:134: Warning: Data truncated for column 'title' at row 18\n",
      "  result = self._query(query)\n",
      "/Users/Michel_home/anaconda/lib/python2.7/site-packages/pymysql/cursors.py:134: Warning: Data truncated for column 'title' at row 33\n",
      "  result = self._query(query)\n",
      "/Users/Michel_home/anaconda/lib/python2.7/site-packages/pymysql/cursors.py:134: Warning: Data truncated for column 'title' at row 39\n",
      "  result = self._query(query)\n",
      "/Users/Michel_home/anaconda/lib/python2.7/site-packages/pymysql/cursors.py:134: Warning: Data truncated for column 'title' at row 55\n",
      "  result = self._query(query)\n",
      "/Users/Michel_home/anaconda/lib/python2.7/site-packages/pymysql/cursors.py:134: Warning: Data truncated for column 'title' at row 182\n",
      "  result = self._query(query)\n",
      "/Users/Michel_home/anaconda/lib/python2.7/site-packages/pymysql/cursors.py:134: Warning: Data truncated for column 'title' at row 237\n",
      "  result = self._query(query)\n",
      "/Users/Michel_home/anaconda/lib/python2.7/site-packages/pymysql/cursors.py:134: Warning: Data truncated for column 'title' at row 262\n",
      "  result = self._query(query)\n",
      "/Users/Michel_home/anaconda/lib/python2.7/site-packages/pymysql/cursors.py:134: Warning: Data truncated for column 'title' at row 311\n",
      "  result = self._query(query)\n",
      "/Users/Michel_home/anaconda/lib/python2.7/site-packages/pymysql/cursors.py:134: Warning: Data truncated for column 'title' at row 344\n",
      "  result = self._query(query)\n",
      "/Users/Michel_home/anaconda/lib/python2.7/site-packages/pymysql/cursors.py:134: Warning: Data truncated for column 'title' at row 350\n",
      "  result = self._query(query)\n",
      "/Users/Michel_home/anaconda/lib/python2.7/site-packages/pymysql/cursors.py:134: Warning: Data truncated for column 'title' at row 391\n",
      "  result = self._query(query)\n",
      "/Users/Michel_home/anaconda/lib/python2.7/site-packages/pymysql/cursors.py:134: Warning: Data truncated for column 'title' at row 403\n",
      "  result = self._query(query)\n",
      "/Users/Michel_home/anaconda/lib/python2.7/site-packages/pymysql/cursors.py:134: Warning: Data truncated for column 'title' at row 419\n",
      "  result = self._query(query)\n",
      "/Users/Michel_home/anaconda/lib/python2.7/site-packages/pymysql/cursors.py:134: Warning: Data truncated for column 'title' at row 432\n",
      "  result = self._query(query)\n",
      "/Users/Michel_home/anaconda/lib/python2.7/site-packages/pymysql/cursors.py:134: Warning: Data truncated for column 'title' at row 459\n",
      "  result = self._query(query)\n",
      "/Users/Michel_home/anaconda/lib/python2.7/site-packages/pymysql/cursors.py:134: Warning: Data truncated for column 'title' at row 507\n",
      "  result = self._query(query)\n",
      "/Users/Michel_home/anaconda/lib/python2.7/site-packages/pymysql/cursors.py:134: Warning: Data truncated for column 'title' at row 529\n",
      "  result = self._query(query)\n",
      "/Users/Michel_home/anaconda/lib/python2.7/site-packages/pymysql/cursors.py:134: Warning: Data truncated for column 'title' at row 535\n",
      "  result = self._query(query)\n",
      "/Users/Michel_home/anaconda/lib/python2.7/site-packages/pymysql/cursors.py:134: Warning: Data truncated for column 'title' at row 537\n",
      "  result = self._query(query)\n",
      "/Users/Michel_home/anaconda/lib/python2.7/site-packages/pymysql/cursors.py:134: Warning: Data truncated for column 'title' at row 568\n",
      "  result = self._query(query)\n",
      "/Users/Michel_home/anaconda/lib/python2.7/site-packages/pymysql/cursors.py:134: Warning: Data truncated for column 'title' at row 658\n",
      "  result = self._query(query)\n",
      "/Users/Michel_home/anaconda/lib/python2.7/site-packages/pymysql/cursors.py:134: Warning: Data truncated for column 'title' at row 685\n",
      "  result = self._query(query)\n",
      "/Users/Michel_home/anaconda/lib/python2.7/site-packages/pymysql/cursors.py:134: Warning: Data truncated for column 'title' at row 695\n",
      "  result = self._query(query)\n",
      "/Users/Michel_home/anaconda/lib/python2.7/site-packages/pymysql/cursors.py:134: Warning: Data truncated for column 'title' at row 726\n",
      "  result = self._query(query)\n",
      "/Users/Michel_home/anaconda/lib/python2.7/site-packages/pymysql/cursors.py:134: Warning: Data truncated for column 'title' at row 753\n",
      "  result = self._query(query)\n",
      "/Users/Michel_home/anaconda/lib/python2.7/site-packages/pymysql/cursors.py:134: Warning: Data truncated for column 'title' at row 771\n",
      "  result = self._query(query)\n",
      "/Users/Michel_home/anaconda/lib/python2.7/site-packages/pymysql/cursors.py:134: Warning: Data truncated for column 'title' at row 787\n",
      "  result = self._query(query)\n",
      "/Users/Michel_home/anaconda/lib/python2.7/site-packages/pymysql/cursors.py:134: Warning: Data truncated for column 'title' at row 13\n",
      "  result = self._query(query)\n",
      "/Users/Michel_home/anaconda/lib/python2.7/site-packages/pymysql/cursors.py:134: Warning: Data truncated for column 'title' at row 62\n",
      "  result = self._query(query)\n",
      "/Users/Michel_home/anaconda/lib/python2.7/site-packages/pymysql/cursors.py:134: Warning: Data truncated for column 'title' at row 150\n",
      "  result = self._query(query)\n",
      "/Users/Michel_home/anaconda/lib/python2.7/site-packages/pymysql/cursors.py:134: Warning: Data truncated for column 'title' at row 180\n",
      "  result = self._query(query)\n",
      "/Users/Michel_home/anaconda/lib/python2.7/site-packages/pymysql/cursors.py:134: Warning: Data truncated for column 'title' at row 186\n",
      "  result = self._query(query)\n",
      "/Users/Michel_home/anaconda/lib/python2.7/site-packages/pymysql/cursors.py:134: Warning: Data truncated for column 'title' at row 194\n",
      "  result = self._query(query)\n",
      "/Users/Michel_home/anaconda/lib/python2.7/site-packages/pymysql/cursors.py:134: Warning: Data truncated for column 'title' at row 210\n",
      "  result = self._query(query)\n",
      "/Users/Michel_home/anaconda/lib/python2.7/site-packages/pymysql/cursors.py:134: Warning: Data truncated for column 'tags' at row 214\n",
      "  result = self._query(query)\n",
      "/Users/Michel_home/anaconda/lib/python2.7/site-packages/pymysql/cursors.py:134: Warning: Data truncated for column 'tags' at row 232\n",
      "  result = self._query(query)\n",
      "/Users/Michel_home/anaconda/lib/python2.7/site-packages/pymysql/cursors.py:134: Warning: Data truncated for column 'title' at row 236\n",
      "  result = self._query(query)\n",
      "/Users/Michel_home/anaconda/lib/python2.7/site-packages/pymysql/cursors.py:134: Warning: Data truncated for column 'title' at row 238\n",
      "  result = self._query(query)\n",
      "/Users/Michel_home/anaconda/lib/python2.7/site-packages/pymysql/cursors.py:134: Warning: Data truncated for column 'title' at row 274\n",
      "  result = self._query(query)\n",
      "/Users/Michel_home/anaconda/lib/python2.7/site-packages/pymysql/cursors.py:134: Warning: Data truncated for column 'title' at row 305\n",
      "  result = self._query(query)\n",
      "/Users/Michel_home/anaconda/lib/python2.7/site-packages/pymysql/cursors.py:134: Warning: Data truncated for column 'title' at row 338\n",
      "  result = self._query(query)\n",
      "/Users/Michel_home/anaconda/lib/python2.7/site-packages/pymysql/cursors.py:134: Warning: Data truncated for column 'title' at row 341\n",
      "  result = self._query(query)\n",
      "/Users/Michel_home/anaconda/lib/python2.7/site-packages/pymysql/cursors.py:134: Warning: Data truncated for column 'title' at row 349\n",
      "  result = self._query(query)\n",
      "/Users/Michel_home/anaconda/lib/python2.7/site-packages/pymysql/cursors.py:134: Warning: Data truncated for column 'title' at row 393\n",
      "  result = self._query(query)\n",
      "/Users/Michel_home/anaconda/lib/python2.7/site-packages/pymysql/cursors.py:134: Warning: Data truncated for column 'title' at row 424\n",
      "  result = self._query(query)\n",
      "/Users/Michel_home/anaconda/lib/python2.7/site-packages/pymysql/cursors.py:134: Warning: Data truncated for column 'title' at row 468\n",
      "  result = self._query(query)\n",
      "/Users/Michel_home/anaconda/lib/python2.7/site-packages/pymysql/cursors.py:134: Warning: Data truncated for column 'title' at row 476\n",
      "  result = self._query(query)\n",
      "/Users/Michel_home/anaconda/lib/python2.7/site-packages/pymysql/cursors.py:134: Warning: Data truncated for column 'title' at row 482\n",
      "  result = self._query(query)\n",
      "/Users/Michel_home/anaconda/lib/python2.7/site-packages/pymysql/cursors.py:134: Warning: Data truncated for column 'title' at row 495\n",
      "  result = self._query(query)\n",
      "/Users/Michel_home/anaconda/lib/python2.7/site-packages/pymysql/cursors.py:134: Warning: Data truncated for column 'title' at row 522\n",
      "  result = self._query(query)\n",
      "/Users/Michel_home/anaconda/lib/python2.7/site-packages/pymysql/cursors.py:134: Warning: Data truncated for column 'tags' at row 548\n",
      "  result = self._query(query)\n",
      "/Users/Michel_home/anaconda/lib/python2.7/site-packages/pymysql/cursors.py:134: Warning: Data truncated for column 'title' at row 611\n",
      "  result = self._query(query)\n",
      "/Users/Michel_home/anaconda/lib/python2.7/site-packages/pymysql/cursors.py:134: Warning: Data truncated for column 'title' at row 627\n",
      "  result = self._query(query)\n",
      "/Users/Michel_home/anaconda/lib/python2.7/site-packages/pymysql/cursors.py:134: Warning: Data truncated for column 'title' at row 632\n",
      "  result = self._query(query)\n",
      "/Users/Michel_home/anaconda/lib/python2.7/site-packages/pymysql/cursors.py:134: Warning: Data truncated for column 'title' at row 682\n",
      "  result = self._query(query)\n",
      "/Users/Michel_home/anaconda/lib/python2.7/site-packages/pymysql/cursors.py:134: Warning: Incorrect string value: '\\xE3\\x81\\xAF\\xE3\\x81\\x98...' for column 'title' at row 697\n",
      "  result = self._query(query)\n",
      "/Users/Michel_home/anaconda/lib/python2.7/site-packages/pymysql/cursors.py:134: Warning: Data truncated for column 'title' at row 718\n",
      "  result = self._query(query)\n",
      "/Users/Michel_home/anaconda/lib/python2.7/site-packages/pymysql/cursors.py:134: Warning: Data truncated for column 'title' at row 727\n",
      "  result = self._query(query)\n",
      "/Users/Michel_home/anaconda/lib/python2.7/site-packages/pymysql/cursors.py:134: Warning: Data truncated for column 'title' at row 730\n",
      "  result = self._query(query)\n"
     ]
    }
   ],
   "source": [
    "testDB.to_sql(con=con, name='technoFeatures', if_exists='replace', flavor='mysql');\n",
    "con.close()"
   ]
  },
  {
   "cell_type": "code",
   "execution_count": null,
   "metadata": {
    "collapsed": true
   },
   "outputs": [],
   "source": []
  },
  {
   "cell_type": "markdown",
   "metadata": {
    "collapsed": false
   },
   "source": [
    "# READ DATA FROM PICKLED FILE"
   ]
  },
  {
   "cell_type": "code",
   "execution_count": 14,
   "metadata": {
    "collapsed": false
   },
   "outputs": [
    {
     "name": "stdout",
     "output_type": "stream",
     "text": [
      "Index([      u'projectID',            u'Nimg',            u'Nlnk',\n",
      "                  u'Nstp',            u'Nvid',           u'Nxtra',\n",
      "                 u'award',         u'scripts',        u'keywords',\n",
      "                 u'title',        u'fulltext',           u'Ndscr',\n",
      "               u'daysold',            u'tags',        u'category',\n",
      "               u'channel',             u'url',      u'dscrPerImg',\n",
      "            u'dscrPerStp',        u'logNdscr',          u'logImg',\n",
      "               u'complex', u'complexEstimate'],\n",
      "      dtype='object')\n"
     ]
    },
    {
     "data": {
      "text/plain": [
       "(34406, 23)"
      ]
     },
     "execution_count": 14,
     "metadata": {},
     "output_type": "execute_result"
    }
   ],
   "source": [
    "dataDF = pd.read_pickle(\"../Data/techno_data_with_estimates.pickle\")\n",
    "print dataDF.columns\n",
    "dataDF.shape"
   ]
  },
  {
   "cell_type": "code",
   "execution_count": 189,
   "metadata": {
    "collapsed": false
   },
   "outputs": [
    {
     "data": {
      "text/plain": [
       "34406"
      ]
     },
     "execution_count": 189,
     "metadata": {},
     "output_type": "execute_result"
    }
   ],
   "source": [
    "textList = [tex for tex in df.fulltext.values]\n",
    "len(textList)"
   ]
  },
  {
   "cell_type": "code",
   "execution_count": null,
   "metadata": {
    "collapsed": false
   },
   "outputs": [],
   "source": [
    "#################### TOKENIZATION ##################"
   ]
  },
  {
   "cell_type": "code",
   "execution_count": 70,
   "metadata": {
    "collapsed": false
   },
   "outputs": [
    {
     "data": {
      "text/plain": [
       "'taggers/maxent_treebank_pos_tagger/english.pickle'"
      ]
     },
     "execution_count": 70,
     "metadata": {},
     "output_type": "execute_result"
    }
   ],
   "source": [
    "import nltk.corpus\n",
    "from nltk.corpus import stopwords\n",
    "nltk.tag._POS_TAGGER\n"
   ]
  },
  {
   "cell_type": "code",
   "execution_count": 192,
   "metadata": {
    "collapsed": false
   },
   "outputs": [
    {
     "name": "stdout",
     "output_type": "stream",
     "text": [
      "127\n"
     ]
    },
    {
     "data": {
      "text/plain": [
       "139"
      ]
     },
     "execution_count": 192,
     "metadata": {},
     "output_type": "execute_result"
    }
   ],
   "source": [
    "mystopwords =  stopwords.words(\"english\")\n",
    "print len(mystopwords)\n",
    "extrawords = [\"make\",\"need\",\"using\",\"get\", \"see\",\"x\", \"m\", \"v\",\"want\", \"d\", \"www\", \"org\"]\n",
    "for xtra in extrawords:\n",
    "    mystopwords.append(xtra)\n",
    "len(mystopwords)"
   ]
  },
  {
   "cell_type": "code",
   "execution_count": 103,
   "metadata": {
    "collapsed": false
   },
   "outputs": [],
   "source": [
    "corpa = ' '.join(textList[:50])\n",
    "tokens = nltk.word_tokenize(corpa.lower())\n",
    "pos = nltk.pos_tag(tokens)"
   ]
  },
  {
   "cell_type": "code",
   "execution_count": 104,
   "metadata": {
    "collapsed": false
   },
   "outputs": [
    {
     "data": {
      "text/plain": [
       "26976"
      ]
     },
     "execution_count": 104,
     "metadata": {},
     "output_type": "execute_result"
    }
   ],
   "source": [
    "#verbs = [v[0] for v in pos if v[1] in ['VB','VBN','VBG','VBP'] ]\n",
    "#nouns = [v[0] for v in pos if v[1] in ['NN', 'NNP', 'NNPS', 'NNS'] ]\n",
    "corpus = [v[0] for v in pos if (v[1] in ['NN', 'NNP', 'NNPS', 'NNS','VB','VBN','VBG','VBP']) and (v[0] not in mystopwords)]\n",
    "len(corpus)"
   ]
  },
  {
   "cell_type": "code",
   "execution_count": 63,
   "metadata": {
    "collapsed": false
   },
   "outputs": [
    {
     "name": "stdout",
     "output_type": "stream",
     "text": [
      "['JJS', 'IN', 'PRP', 'VBP', 'RB', 'VB', 'NN', 'DT', 'VBN', 'WDT', 'MD', 'WRB', 'CC', 'JJ', 'VBZ', 'VBG', 'TO', 'NNS', 'NNP', 'RP', 'PRP$', 'VBD', 'JJR', 'NNPS', 'RBR', 'CD', 'EX', 'RBS', 'WP', 'WP$', 'PDT', 'FW']\n"
     ]
    }
   ],
   "source": [
    "tags = [v for w,v in pos]\n",
    "unique = []\n",
    "for tag in tags:\n",
    "    if tag not in unique:\n",
    "        unique.append(tag)\n",
    "print unique"
   ]
  },
  {
   "cell_type": "code",
   "execution_count": 64,
   "metadata": {
    "collapsed": false
   },
   "outputs": [
    {
     "name": "stdout",
     "output_type": "stream",
     "text": [
      "(u'De', 'FW')\n",
      "(u'de', 'FW')\n"
     ]
    }
   ],
   "source": [
    "for v in pos:\n",
    "    if v[1] == 'FW':\n",
    "        print v "
   ]
  },
  {
   "cell_type": "markdown",
   "metadata": {},
   "source": [
    "# stem and lemma"
   ]
  },
  {
   "cell_type": "code",
   "execution_count": 108,
   "metadata": {
    "collapsed": false
   },
   "outputs": [],
   "source": [
    "from nltk.stem.snowball import SnowballStemmer"
   ]
  },
  {
   "cell_type": "code",
   "execution_count": 122,
   "metadata": {
    "collapsed": false
   },
   "outputs": [],
   "source": [
    "stemmer = SnowballStemmer(\"english\")"
   ]
  },
  {
   "cell_type": "code",
   "execution_count": 123,
   "metadata": {
    "collapsed": false
   },
   "outputs": [
    {
     "name": "stdout",
     "output_type": "stream",
     "text": [
      "[u'In', u'this', u'project', u'we', u'will', u'be', u'making', u'a', u'wireless', u'side', u'lamp', u'that', u'can', u'be', u'controlled']\n"
     ]
    },
    {
     "data": {
      "text/plain": [
       "[u'in',\n",
       " u'this',\n",
       " u'project',\n",
       " u'we',\n",
       " u'will',\n",
       " u'be',\n",
       " u'make',\n",
       " u'a',\n",
       " u'wireless',\n",
       " u'side',\n",
       " u'lamp',\n",
       " u'that',\n",
       " u'can',\n",
       " u'be',\n",
       " u'control']"
      ]
     },
     "execution_count": 123,
     "metadata": {},
     "output_type": "execute_result"
    }
   ],
   "source": [
    "test = [stemmer.stem(word) for word in textList[5].split()]\n",
    "print textList[5].split()[:15]\n",
    "test[:15]"
   ]
  },
  {
   "cell_type": "code",
   "execution_count": 274,
   "metadata": {
    "collapsed": false
   },
   "outputs": [],
   "source": [
    "# for every text, process them with stop words\n",
    "stemmer = SnowballStemmer(\"english\")\n",
    "newdocumentO =[] \n",
    "for document in textList[34405:34406]:\n",
    "    tokens = nltk.word_tokenize(document.lower())\n",
    "    pos = nltk.pos_tag(tokens)\n",
    "    relevant = [v[0] for v in pos if (v[1] in ['NN', 'NNP', 'NNPS', 'NNS','VB','VBN','VBG','VBP']) and (v[0] not in mystopwords)]\n",
    "    stemmed = [stemmer.stem(word) for word in relevant]\n",
    "    newdocumentO.append(' '.join(stemmed))"
   ]
  },
  {
   "cell_type": "code",
   "execution_count": 275,
   "metadata": {
    "collapsed": false
   },
   "outputs": [
    {
     "data": {
      "text/plain": [
       "1"
      ]
     },
     "execution_count": 275,
     "metadata": {},
     "output_type": "execute_result"
    }
   ],
   "source": [
    "len(newdocumentO)#[7031][:100]\n",
    "#textList[9999][:200]"
   ]
  },
  {
   "cell_type": "code",
   "execution_count": 267,
   "metadata": {
    "collapsed": false
   },
   "outputs": [
    {
     "data": {
      "text/plain": [
       "u'music store mp player pattern convert vibrat headphon coil vibrat turn creat vibrat field perman magnet insid coil interact caus movement creat sound wave vibrat air step process send output mp player laser pointer headphon pick signal depend resisto'"
      ]
     },
     "execution_count": 267,
     "metadata": {},
     "output_type": "execute_result"
    }
   ],
   "source": [
    "newdocumentK[0][:250]"
   ]
  },
  {
   "cell_type": "code",
   "execution_count": 276,
   "metadata": {
    "collapsed": false
   },
   "outputs": [
    {
     "data": {
      "text/plain": [
       "34406"
      ]
     },
     "execution_count": 276,
     "metadata": {},
     "output_type": "execute_result"
    }
   ],
   "source": [
    "testL = testL2+newdocumentH+newdocumentI+newdocumentJ+newdocumentK+newdocumentL+newdocumentM+newdocumentN+newdocumentO\n",
    "len(testL)#newdocumentC[999][:100]#textList[7031][:200]"
   ]
  },
  {
   "cell_type": "code",
   "execution_count": 277,
   "metadata": {
    "collapsed": false
   },
   "outputs": [],
   "source": [
    "with open(\"corpus_stemmed.pickle\", 'wb') as f:\n",
    "    pkl.dump(testL, f)"
   ]
  },
  {
   "cell_type": "code",
   "execution_count": 266,
   "metadata": {
    "collapsed": false
   },
   "outputs": [
    {
     "name": "stdout",
     "output_type": "stream",
     "text": [
      "15500\n"
     ]
    },
    {
     "data": {
      "text/plain": [
       "u'warm touch screen glove go buy glove acryl spandex note materi work check comment lick lick tip take'"
      ]
     },
     "execution_count": 266,
     "metadata": {},
     "output_type": "execute_result"
    }
   ],
   "source": [
    "# retrieve dumped parsed documents\n",
    "with open(\"../Data/newdocumentABCDEFG.pickle\", 'rb') as f:\n",
    "    testL2 = pkl.load(f)\n",
    "print len(testL2)\n",
    "testL2[9999][:100]"
   ]
  },
  {
   "cell_type": "code",
   "execution_count": 278,
   "metadata": {
    "collapsed": false
   },
   "outputs": [
    {
     "data": {
      "text/plain": [
       "(34406, 50024)"
      ]
     },
     "execution_count": 278,
     "metadata": {},
     "output_type": "execute_result"
    }
   ],
   "source": [
    "\n",
    "tfidf_vectorizer = TfidfVectorizer(max_df = .95, min_df= 2)\n",
    "tfidf_matrix_stem = tfidf_vectorizer.fit_transform(testL)\n",
    "tfidf_matrix_stem.shape"
   ]
  },
  {
   "cell_type": "code",
   "execution_count": 295,
   "metadata": {
    "collapsed": false
   },
   "outputs": [
    {
     "data": {
      "text/plain": [
       "[2, 28789, 23254, 24633, 29418, 31320, 34020, 927, 20613, 28606]"
      ]
     },
     "execution_count": 295,
     "metadata": {},
     "output_type": "execute_result"
    }
   ],
   "source": [
    "doc_distance = cosine_similarity(tfidf_matrix_stem[:7], tfidf_matrix_stem)\n",
    "s = doc_distance[2]\n",
    "indices = sorted(range(len(s)), reverse = True, key=lambda k: s[k])\n",
    "indices[:10]"
   ]
  },
  {
   "cell_type": "code",
   "execution_count": null,
   "metadata": {
    "collapsed": true
   },
   "outputs": [],
   "source": []
  },
  {
   "cell_type": "code",
   "execution_count": null,
   "metadata": {
    "collapsed": true
   },
   "outputs": [],
   "source": []
  },
  {
   "cell_type": "code",
   "execution_count": null,
   "metadata": {
    "collapsed": true
   },
   "outputs": [],
   "source": []
  },
  {
   "cell_type": "code",
   "execution_count": 289,
   "metadata": {
    "collapsed": false
   },
   "outputs": [],
   "source": [
    "df = df.iloc[:34406]"
   ]
  },
  {
   "cell_type": "code",
   "execution_count": 293,
   "metadata": {
    "collapsed": false
   },
   "outputs": [],
   "source": [
    "df[\"curatedText\"] = pd.Series(data = testL, index = range(0,34406))"
   ]
  },
  {
   "cell_type": "raw",
   "metadata": {},
   "source": [
    "con = mdb.connect(user=\"root\", host=\"localhost\", db=\"instructables\",  charset='utf8', unix_socket='/tmp/mysql.sock', port='3307')\n",
    "testDB = df.loc[:, [\"url\", \"title\", \"curatedText\"]]\n",
    "print testDB.shape\n",
    "testDB.to_sql(con=con, name='technoText', if_exists='replace', flavor='mysql');\n",
    "con.close()"
   ]
  },
  {
   "cell_type": "code",
   "execution_count": 105,
   "metadata": {
    "collapsed": false
   },
   "outputs": [],
   "source": [
    "corpusFreq = nltk.FreqDist(corpus)\n",
    "#verbcount = nltk.FreqDist(verbs)\n",
    "#nounscount = nltk.FreqDist(nouns)"
   ]
  },
  {
   "cell_type": "code",
   "execution_count": null,
   "metadata": {
    "collapsed": false
   },
   "outputs": [],
   "source": [
    "corpusFreq.plot(40)\n",
    "#verbcount.plot(30, cumulative = False)"
   ]
  },
  {
   "cell_type": "code",
   "execution_count": null,
   "metadata": {
    "collapsed": true
   },
   "outputs": [],
   "source": []
  },
  {
   "cell_type": "code",
   "execution_count": null,
   "metadata": {
    "collapsed": false,
    "scrolled": true
   },
   "outputs": [],
   "source": [
    "text = nltk.Text(tokens)\n",
    "freq1 = nltk.FreqDist(ch.lower() for ch in text if ch.isalpha())\n",
    "freq1.plot(70,cumulative = True)"
   ]
  },
  {
   "cell_type": "code",
   "execution_count": null,
   "metadata": {
    "collapsed": false
   },
   "outputs": [],
   "source": [
    "raw = \" \".join(des2)\n",
    "tokens = nltk.word_tokenize(raw)\n",
    "lengths = [(len(fdr),fdr) for fdr in tokens ]\n",
    "lengths.sort(reverse=True)\n",
    "lengths"
   ]
  },
  {
   "cell_type": "code",
   "execution_count": 198,
   "metadata": {
    "collapsed": true
   },
   "outputs": [],
   "source": [
    "from sklearn.feature_extraction.text import TfidfVectorizer\n",
    "from sklearn.metrics.pairwise import cosine_similarity"
   ]
  },
  {
   "cell_type": "code",
   "execution_count": 197,
   "metadata": {
    "collapsed": false
   },
   "outputs": [
    {
     "data": {
      "text/plain": [
       "34406"
      ]
     },
     "execution_count": 197,
     "metadata": {},
     "output_type": "execute_result"
    }
   ],
   "source": [
    "documents = textList[:]\n",
    "len(documents)"
   ]
  },
  {
   "cell_type": "code",
   "execution_count": 236,
   "metadata": {
    "collapsed": false
   },
   "outputs": [
    {
     "data": {
      "text/plain": [
       "(34406, 30776)"
      ]
     },
     "execution_count": 236,
     "metadata": {},
     "output_type": "execute_result"
    }
   ],
   "source": [
    "tfidf_vectorizer = TfidfVectorizer(max_df = .92, min_df= 7)\n",
    "tfidf_matrix = tfidf_vectorizer.fit_transform(documents)\n",
    "tfidf_matrix.shape\n",
    "#min = 2 yields 74000 words\n",
    "#min = 5 yields 37506 words\n",
    "#min = 7 yields 30776 words\n",
    "#min = 8 yields 28000 words"
   ]
  },
  {
   "cell_type": "code",
   "execution_count": 237,
   "metadata": {
    "collapsed": false
   },
   "outputs": [],
   "source": [
    "tfidf_min7 = tfidf_matrix"
   ]
  },
  {
   "cell_type": "code",
   "execution_count": 279,
   "metadata": {
    "collapsed": false
   },
   "outputs": [],
   "source": [
    "with open(\"tfidf_matrix_allSTEMMED_min2_max95.pickle\", 'wb') as f:\n",
    "    pkl.dump(tfidf_matrix_stem,f)"
   ]
  },
  {
   "cell_type": "code",
   "execution_count": 235,
   "metadata": {
    "collapsed": false
   },
   "outputs": [],
   "source": [
    "cosARRAY = cosine_similarity(tfidf_matrix[:2000], tfidf_matrix)\n"
   ]
  },
  {
   "cell_type": "code",
   "execution_count": null,
   "metadata": {
    "collapsed": false
   },
   "outputs": [],
   "source": [
    "with open(\"cos_sim_matrix_first2000.pickle\", 'wb') as f:\n",
    "    pkl.dump(cosARRAY,f)"
   ]
  },
  {
   "cell_type": "code",
   "execution_count": 228,
   "metadata": {
    "collapsed": false
   },
   "outputs": [
    {
     "data": {
      "text/plain": [
       "[21, 31033, 29, 6569, 29422, 1602, 27721, 33335, 11613, 216]"
      ]
     },
     "execution_count": 228,
     "metadata": {},
     "output_type": "execute_result"
    }
   ],
   "source": [
    "# INDEX of the most similar projects\n",
    "cosARRAY = cosine_similarity(tfidf_matrix[21:22], tfidf_matrix)\n",
    "s = cosARRAY[0]\n",
    "indices = sorted(range(len(s)), reverse = True, key=lambda k: s[k])\n",
    "indices[:10]\n",
    "# for min=2, max=95 --> [2, 927, 29817, 28789, 24633, 21254, 526, 34020, 30195, 31320]\n",
    "# for min=2, max=95 --> [2, 28789, 927, 29817, 7734, 31320, 34020, 22613, 24633, 21254]\n",
    "##for STEMMED WORDS --> [2, 28789, 23254, 24633, 29418, 31320, 34020, 927, 20613, 28606]"
   ]
  },
  {
   "cell_type": "code",
   "execution_count": 233,
   "metadata": {
    "collapsed": false,
    "scrolled": true
   },
   "outputs": [
    {
     "name": "stdout",
     "output_type": "stream",
     "text": [
      "The Titanic was regarded as unsinkable ship but sank on its maiden voyage what a pity Today I will make a toy car and I name it never fall beetle which will never drop from the desk The stuff is in parts electronic modules the wooden board and others Electronic modules Shield Bot Grove Ultrasonic Ranger Seeeduino V Wooden and laser cutter mm wooden board x mm size The others M screw and nut D Print a lampshade You can find a laser cutter easily if there s a maker space near from you I can say that every maker space has a laser cutter If you can t find the wooden board and a laser cutter you can try the laser cutting service supply by Seeed You need a laser cutter and a mm wooden board here Just download the D file and cut it with a laser cutter When you get the board you need to paint it to make it look like a real beetle Here we need some M screw and nut After this step your ultrasonic will be installed in the head of the beetle More details please refer to the image it is a very easy step You can find a slide resistance in front of Shield Bot you can adjust it to make sure the IR distance sensor work well You should adjust it until When in a desk all led off When in the edge of desk all led on Please take a look at the image for the details Actually there a manual with Shield Bot which will show you how to install it You can find an Acrylic board just replace it with the wooden board that we cut earlier And you should connect the Ultrasonic Ranger to SDA SCL port yet the sensor is no in I C type actually we are using A as the pin to control You can make it to another pin in the code After the previous step we got a beetle car But it can t work so far it need some soul the code Please click here to download the code If you had never use an Arduino then what a pity but why not just start your Arduino journey here After you had download the code just upload it to the Arduino board Then what you need to do is turn on the switch and your beetle run itself Actually if you want a Hello Kitty you can make it instead of the beetle \n",
      "Every boy have the dream to make a car Days ago I made a Never Fall Beetle it s very funny and so many people said the like it Here it will make another toy car which is much smaller and it s programmable I am not going to use Shield Bot again I will cut the car body with wooden board And today I will just make a basic version that means if you want you make a full and cool car you need to make something yourself There is sensor include Digital compass to detect the direction IR distance sensor to detect black line Ultrasonic sensor to detect the edge of desk to avoid falling I will improve the code and outline when I get time The stuff is in parts electronic modules the wooden board and others Electronic modules Grove Joint Grove Joint is a very small Arduino compatible board the on board Grove ports is enough for so many application and it s only x mm size Grove Digital Compass Grove Ultrasonic Ranger Grove Mini I C Motor Driver Grove Line Finder Wooden and laser cutter mm wooden board D Print a lampshade You can find a laser cutter easily if there s a maker space near from you I can say that every maker space has a laser cutter If you can t find the wooden board of a laser cutter you can try the laser cutting service supply by Seeed You need a laser cutter and a mm wooden board here Just download the D file and cut it with a laser cutter You will find that there s many parts I will show you the usage of each part in the next steps In this part we just cut the board We need some AB glue to connect the wooden and motor here First of all connect the smaller board together and then tack the boards to the body you can find a square on it It may need few minutes before it fastness If you put something on the top it will save you some times Or you can go for eating something or go to the toilet in the time waiting Then you can put some AB glue on the gap and then put the motor to it also few minutes later the motor is fixed fine Here we need some M screws and nuts It is not a very hard step more details please refer to the image Actually if you get the whole things before you you will know where to put the modules There are jst connector on the motor driver module each to control a motor What we need to do is connect the motor to the jst connector If you have never try to make soldering never mind it s as easy as you drive a car Actually I just get my driving license days ago hahaha After the upper steps we get a car But each modules is separated we have to connect they together And lucky that we don t need to solder here Just insert the Grove cables to each module The connection is I C port of Joint I C Hub I C Hub Grove Digital Compass I C Hub Grove Mini I C Motor Driver D Ultrasonic D IR distance sensor Finally we got to the last step The Car can t run yet but it s very near from success I had said that Joint is compatible with Arduino I guess you have use Arduino before because this instructable is post on Arduino Plate You have never heard about Arduino Ok you can learn about it when you have time About how to use Grove Joint refer to the wiki Please download the code here it s just a simple code you need to code if you need some complex function \n",
      "You can built so many beautiful things with wooden and laser cutter And it will much more better if add some electric modules we call it the combination of electronic and art Here I will share my latest creation a wooden lamp that the color controlled by a Axis Accelerator It s a very funny way to change the color of the lamp Different location of the lamp will create different colors Thanks to the open hardware you can make it even if you are a newbie to electrical Just a few steps and you can make it out Now let go for make The stuff is in parts electronic modules and the wooden as well as the others Electronic modules BeagleBone Green Grove Chainable RGB LED Grove I C Hub Grove Axis Digital Accelerometer g Grove I C ADC Grove Button Actually all the above mentioned module was in Grove Starter Kit for BeagleBone Green Wooden and laser cutter mm wooden board x mm size mm frosted acrylic x mm size V mobile power supply Others M double side tap M screw and nut about mm is enough No glue or AB glue You can find a laser cutter and D printer easily if there s a maker space near from you I can say that every maker space has a laser cutter and D printer If you can t find the wooden board of a laser cutter you can try the laser cutting service and D printing service supply by Seeed ou need to find a mm wooden board first the size should be larger than x mm You can download the file here Here we will cut some frosted acrylic and embed into the wooden Click here to download the D acrylic file We need some M double side tap or glue gun is ok if you can t find the M double side tap Here we will print a lamp shade and laser cut some holder thus we can install the rgb led on the wooden board Click here to download the D file for the shade Click here to download the D file for the acrylic holder And you need some No glue or AB glue here You will find Grove connect on the BBG What you need to do is just connect the BBG to the Grove with some cable BBG I C Port I C Hub I C Hub Grove Axis Accelerator I C Hub Grove I C ADC Grove Button BBG UART Port Grove Chainable RGB LED First you should set the Grove UART socket as a GPIO port if you don t know how to do it just follow this link You can download the example code by click here git clone https github com Lee Kevin Wooden Lamp BBG Copy the Wooden Lamp BBG folder to var lib cloud cp Wooden Lamp BBG var lib cloud Run the code python colorbox py Finally we got to the last step After this step we will get a lovely wooden lamp Refer to the image below to view the details for assembly The last but not the lease you may ask You use a BBG to control a LED it s just a waste Well never mind about it just because I got a BBG by hand And you can change BBG to an Arduino easily \n"
     ]
    }
   ],
   "source": [
    "related = df.iloc[indices[:3]].fulltext[:400]\n",
    "for r in related:\n",
    "    print r"
   ]
  },
  {
   "cell_type": "code",
   "execution_count": 231,
   "metadata": {
    "collapsed": false
   },
   "outputs": [
    {
     "name": "stdout",
     "output_type": "stream",
     "text": [
      "1.0\n",
      "0.512940677458\n"
     ]
    }
   ],
   "source": [
    "print cosARRAY[0][21]\n",
    "print cosARRAY[0][31033]"
   ]
  },
  {
   "cell_type": "code",
   "execution_count": 268,
   "metadata": {
    "collapsed": false
   },
   "outputs": [
    {
     "name": "stdout",
     "output_type": "stream",
     "text": [
      "2\n",
      "21\n",
      "6\n",
      "16\n",
      "2\n",
      "5\n"
     ]
    }
   ],
   "source": [
    "for t in dataDF.iloc[[7,4741, 1509, 3869, 6219, 3562]].fulltext:\n",
    "#for t in dataDF.iloc[[7,4744, 1549, 3849, 6249, 3542]].fulltext:\n",
    "    print t.count('led ')"
   ]
  },
  {
   "cell_type": "code",
   "execution_count": 211,
   "metadata": {
    "collapsed": false
   },
   "outputs": [
    {
     "name": "stdout",
     "output_type": "stream",
     "text": [
      "arduino\n",
      "home automation\n",
      "Ubuntu\n"
     ]
    }
   ],
   "source": [
    "print df.loc[2].tags\n",
    "print df.loc[927].tags\n",
    "print df.loc[29817].tags"
   ]
  },
  {
   "cell_type": "code",
   "execution_count": null,
   "metadata": {
    "collapsed": true
   },
   "outputs": [],
   "source": [
    "for document in df.iloc[indices[:7]].fulltext;\n",
    "    tokens = nltk.word_tokenize(document.lower())\n",
    "    pos = nltk.pos_tag(tokens)\n",
    "    relevant = [v[0] for v in pos if (v[1] in ['NN', 'NNP', 'NNPS', 'NNS','VB','VBN','VBG','VBP']) and (v[0] not in mystopwords)]\n",
    "    relevant.FreqDist"
   ]
  }
 ],
 "metadata": {
  "kernelspec": {
   "display_name": "Python 2",
   "language": "python",
   "name": "python2"
  },
  "language_info": {
   "codemirror_mode": {
    "name": "ipython",
    "version": 2
   },
   "file_extension": ".py",
   "mimetype": "text/x-python",
   "name": "python",
   "nbconvert_exporter": "python",
   "pygments_lexer": "ipython2",
   "version": "2.7.10"
  }
 },
 "nbformat": 4,
 "nbformat_minor": 0
}
