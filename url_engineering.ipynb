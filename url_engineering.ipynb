{
 "cells": [
  {
   "cell_type": "code",
   "execution_count": null,
   "metadata": {
    "collapsed": true
   },
   "outputs": [],
   "source": [
    "%matplotlib inline"
   ]
  },
  {
   "cell_type": "code",
   "execution_count": null,
   "metadata": {
    "collapsed": false
   },
   "outputs": [],
   "source": [
    "import json\n",
    "import matplotlib.pyplot as plt\n",
    "import numpy as np\n",
    "import nltk\n",
    "nltk.data.path.append(\"/Users/Michel_home/Documents/Projects/PythonPlay/nltk_data\")\n",
    "import pandas as pd\n",
    "import pickle as pkl\n",
    "import pymysql as mdb\n",
    "import random\n",
    "import seaborn as sns; sns.set()\n",
    "\n",
    "from sklearn.feature_extraction.text import CountVectorizer\n",
    "from sklearn import metrics\n",
    "from sklearn.cluster import KMeans\n",
    "from sklearn.decomposition import PCA\n",
    "from sklearn.svm import SVR\n",
    "from sklearn.preprocessing import scale\n",
    "from sklearn.cross_validation import train_test_split\n",
    "\n",
    "import re\n",
    "import time"
   ]
  },
  {
   "cell_type": "code",
   "execution_count": null,
   "metadata": {
    "collapsed": false
   },
   "outputs": [],
   "source": [
    "import datetime\n",
    "from pandas.tools.plotting import scatter_matrix"
   ]
  },
  {
   "cell_type": "raw",
   "metadata": {
    "collapsed": true
   },
   "source": [
    "from featureEngineering import Nsteps_to_N\n",
    "from featureEngineering import list_to_string\n",
    "from featureEngineering import Nsteps_to_N\n",
    "from featureEngineering import Nsteps_to_N\n",
    "from featureEngineering import Nsteps_to_N\n",
    "from featureEngineering import Nsteps_to_N\n",
    "from featureEngineering import "
   ]
  },
  {
   "cell_type": "markdown",
   "metadata": {
    "collapsed": true
   },
   "source": [
    "## ******************content engineering********************"
   ]
  },
  {
   "cell_type": "code",
   "execution_count": null,
   "metadata": {
    "collapsed": false
   },
   "outputs": [],
   "source": [
    "techDF = pd.read_json(\"Data/techno_content.json\")"
   ]
  },
  {
   "cell_type": "code",
   "execution_count": null,
   "metadata": {
    "collapsed": false
   },
   "outputs": [],
   "source": [
    "techDF.sort(\"title\")"
   ]
  },
  {
   "cell_type": "code",
   "execution_count": null,
   "metadata": {
    "collapsed": false
   },
   "outputs": [],
   "source": [
    "techDF.drop_duplicates(inplace=True)#subset = \"title\")\n",
    "#techDF.shape"
   ]
  },
  {
   "cell_type": "code",
   "execution_count": null,
   "metadata": {
    "collapsed": false
   },
   "outputs": [],
   "source": [
    "t = [d for d in techDF.descr if len(d)>12]\n",
    "len(t)"
   ]
  },
  {
   "cell_type": "code",
   "execution_count": null,
   "metadata": {
    "collapsed": false
   },
   "outputs": [],
   "source": [
    "tech_samp = techDF.copy()"
   ]
  },
  {
   "cell_type": "code",
   "execution_count": null,
   "metadata": {
    "collapsed": false
   },
   "outputs": [],
   "source": [
    "tech_samp.shape"
   ]
  },
  {
   "cell_type": "code",
   "execution_count": null,
   "metadata": {
    "collapsed": false
   },
   "outputs": [],
   "source": [
    "def list_to_string(lista):\n",
    "    if isinstance(lista, list) and lista:\n",
    "        return lista[0]\n",
    "    else:\n",
    "        return lista if lista else \"\"\n",
    "\n",
    "    \n",
    "def descrlist_to_fulltext(string):\n",
    "    #tokenize text\n",
    "    pattern = re.compile('[^a-zA-Z]+')\n",
    "    fulltext = pattern.sub(' ', ' '.join(string))\n",
    "    return fulltext\n",
    "\n",
    "def urlExtract(url_string = \"\"):\n",
    "    pat = re.compile(\"\\/id\\/([\\w-]+)\\/\")\n",
    "    url = re.findall(pat, url_string)\n",
    "    if url:\n",
    "        return url[0]\n",
    "    else:\n",
    "    1    return \"Error 404: Page not found! The url provided is not of proper format\"\n",
    "\n",
    "\n",
    "\n",
    "def Nsteps_to_N(step_list):\n",
    "    if isinstance(step_list, list) and step_list:\n",
    "        num = re.findall('\\d+', step_list[0])[0]\n",
    "        return int(num)\n",
    "    else:\n",
    "        return 0\n",
    "\n",
    "def Nitem_to_N(alist):\n",
    "    return len(alist)\n",
    "   \n",
    "def meta_to_category(script):\n",
    "    string = script[0]\n",
    "    categ = re.findall('ibleCategory: \"([\\w\\-\\/]+)\"', string)\n",
    "    if not categ:\n",
    "        categ = [\"\"]\n",
    "    url = re.findall('ibleUrl: \"([\\w\\-\\/]+)\"', string)\n",
    "    if not url:\n",
    "        url = [\"\"]\n",
    "    channel = re.findall('ibleChannel: \"([\\w\\-\\/]+)\"', string)\n",
    "    if not channel:\n",
    "        channel = [\"\"]\n",
    "        \n",
    "    return pd.Series( {\"url\" : url[0], \"category\": categ[0], \"channel\":channel[0]})\n",
    "\n",
    "#not robust against unusual format\n",
    "def meta_to_views(script):\n",
    "    fav = script[0]\n",
    "    favorites = re.findall('favorites:(\\d+)', fav)\n",
    "    vw = script[1]\n",
    "    views = re.findall('views:(\\d+)', vw)\n",
    "    return pd.Series( {\"views\" : views[0], \"favorites\": favorites[0]})\n",
    "\n",
    "\n",
    "def date_to_datetime(datestring):\n",
    "    datestring = datestring[0]\n",
    "    delta = datetime.datetime.now() - datetime.datetime.strptime(datestring, \"%Y-%m-%d %H:%M:%S.%f\")\n",
    "    return np.round(delta.total_seconds()/86400)\n",
    "    "
   ]
  },
  {
   "cell_type": "code",
   "execution_count": null,
   "metadata": {
    "collapsed": false
   },
   "outputs": [],
   "source": [
    "tech_samp.columns"
   ]
  },
  {
   "cell_type": "code",
   "execution_count": null,
   "metadata": {
    "collapsed": false
   },
   "outputs": [],
   "source": [
    "#WORKS\n",
    "s = slice(20389, 20400)\n",
    "testurl = [urlExtract(u) for u in df.loc[s, 'projectID']]\n",
    "testurl"
   ]
  },
  {
   "cell_type": "code",
   "execution_count": null,
   "metadata": {
    "collapsed": false
   },
   "outputs": [],
   "source": [
    "#FEATURE ENGINEEEEERING ###########\n",
    "df = tech_samp[[\"projectID\"]]\n",
    "\n",
    "df.loc[:, \"Nimg\"] = tech_samp[\"Nimages\"].apply(Nitem_to_N)\n",
    "df.loc[:, \"Nlnk\"] = tech_samp[\"Nlinks\"].apply(Nitem_to_N)\n",
    "df.loc[:, \"Nstp\"] = tech_samp[\"Nsteps\"].apply(Nsteps_to_N)\n",
    "df.loc[:,\"Nvid\"] = tech_samp[\"Nvideos\"].apply(Nitem_to_N)\n",
    "#df.loc[:,\"Ncmmt\"] = tech_samp[\"comments\"].apply(Nitem_to_N)\n",
    "df.loc[:, \"Nxtra\"] = tech_samp[\"contentExtra\"].apply(Nitem_to_N)\n",
    "#df.loc[:,\"author\"] = tech_samp[\"author\"].apply(list_to_string)\n",
    "df.loc[:, \"award\"] = tech_samp[\"award\"].apply(list_to_string)\n",
    "df.loc[:, \"scripts\"] = tech_samp[\"scripts\"].apply(Nitem_to_N)\n",
    "df.loc[:, \"keywords\"] = tech_samp[\"keywords\"].apply(list_to_string)\n",
    "df.loc[:, \"title\"] = tech_samp[\"title\"].apply(list_to_string)\n",
    "#df.loc[:,\"comments\"] = tech_samp[\"comments\"].apply(list_to_string)\n",
    "df.loc[:, \"fulltext\"] = tech_samp[\"descr\"].apply(descrlist_to_fulltext)\n",
    "df.loc[:, \"Ndscr\"] = df[\"fulltext\"].apply(len)\n",
    "df.loc[:, \"daysold\"] = tech_samp[\"date\"].apply(date_to_datetime)\n",
    "df.loc[:, \"tags\"] = tech_samp[\"tags\"].apply(list_to_string)\n",
    "\n",
    "# the \"category\" field actually has information on Channel, Category, URL\n",
    "catstring = tech_samp[\"category\"].apply(meta_to_category)\n",
    "df.loc[:,\"category\"] = catstring[\"category\"]\n",
    "df.loc[:,\"channel\"] = catstring[\"channel\"]\n",
    "df.loc[:,\"url\"] = catstring[\"url\"]\n",
    "\n",
    "# views and favorites stored in list in original column \"views\"\n",
    "#viewstring = tech_samp[\"views\"].apply(meta_to_views) \n",
    "#df.loc[:,\"favorites\"] = viewstring[\"favorites\"]\n",
    "#df.loc[:,\"views\"] = viewstring[\"views\"]\n",
    "\n",
    "df.convert_objects(convert_numeric=True)\n",
    "df.shape"
   ]
  },
  {
   "cell_type": "code",
   "execution_count": null,
   "metadata": {
    "collapsed": false
   },
   "outputs": [],
   "source": [
    "df = df[(df.Nstp >1) & (df.Ndscr >40) & (df.url != '') & (df.Nimg > 3) & (df.Nimg < 300)]\n",
    "\n",
    "df.loc[:,\"dscrPerImg\"] = df[\"Ndscr\"]/df[\"Nimg\"]\n",
    "df.loc[:,\"dscrPerStp\"] = df[\"Ndscr\"]/df[\"Nstp\"]\n",
    "df.loc[:,\"logNdscr\"] = df[\"Ndscr\"].apply(np.log)\n",
    "df.loc[:,\"logImg\"] = df[\"Nimg\"].apply(np.log)\n",
    "\n",
    "df = df[(df.dscrPerStp < 6000) & (df.dscrPerImg < 4500)]\n",
    "df.drop_duplicates(subset = \"url\", inplace = True)"
   ]
  },
  {
   "cell_type": "code",
   "execution_count": null,
   "metadata": {
    "collapsed": false
   },
   "outputs": [],
   "source": [
    "df[df.dscrPerImg > 4000].url"
   ]
  },
  {
   "cell_type": "code",
   "execution_count": null,
   "metadata": {
    "collapsed": false
   },
   "outputs": [],
   "source": [
    "print df.shape\n",
    "df.columns"
   ]
  },
  {
   "cell_type": "code",
   "execution_count": null,
   "metadata": {
    "collapsed": false
   },
   "outputs": [],
   "source": [
    "# NO URL longer than 60\n",
    "df[df.url.apply(len)>60].url"
   ]
  },
  {
   "cell_type": "code",
   "execution_count": null,
   "metadata": {
    "collapsed": false
   },
   "outputs": [],
   "source": [
    "df[df.logNdscr != 0].logNdscr.tail()"
   ]
  },
  {
   "cell_type": "markdown",
   "metadata": {},
   "source": [
    "# Start visualizing raw data\n"
   ]
  },
  {
   "cell_type": "code",
   "execution_count": null,
   "metadata": {
    "collapsed": false
   },
   "outputs": [],
   "source": [
    "df2 = df[df.Nimg > 3]\n",
    "df2 = df2.loc[:,[ \"Nstp\",\"Ndscr\", \"Nimg\", \"channel\"]]\n",
    "cor = df.corr()#[[\"Ndscr\", \"Nimg\",\"Nstp\"]].corr()\n",
    "sns.heatmap(cor, square=True)"
   ]
  },
  {
   "cell_type": "code",
   "execution_count": null,
   "metadata": {
    "collapsed": false
   },
   "outputs": [],
   "source": [
    "g = sns.PairGrid(df[[\"logNdscr\",\"dscrPerImg\",\"dscrPerStp\"]], size = 6 )\n",
    "g.map_diag(sns.kdeplot, lw=3)\n",
    "g.map_lower(sns.kdeplot, cmap=\"Blues_d\")"
   ]
  },
  {
   "cell_type": "code",
   "execution_count": null,
   "metadata": {
    "collapsed": false
   },
   "outputs": [],
   "source": [
    "df1 = df[df.channel == \"arduino\"]\n",
    "df3 = df[df.channel != \"arduino\"]\n",
    "\n",
    "randrows = random.sample(range(len(df)),2000)\n",
    "colors = df.loc[randrows,\"channel\"].map(lambda x: \"#0392cf\" if x==\"arduino\" else \"#7bc043\")\n",
    "colors[-12:]"
   ]
  },
  {
   "cell_type": "code",
   "execution_count": null,
   "metadata": {
    "collapsed": false
   },
   "outputs": [],
   "source": [
    "#This shows there is no easy answer like, \"all arduino\" projects always have more lengths then other channels\n",
    "scatter_matrix(df.loc[randrows,[\"logNdscr\",\"logImg\",\"Nstp\"]], color = colors, figsize=(12,9),alpha = 0.5,diagonal='kde')"
   ]
  },
  {
   "cell_type": "code",
   "execution_count": null,
   "metadata": {
    "collapsed": false
   },
   "outputs": [],
   "source": [
    "df.Nstp.describe()"
   ]
  },
  {
   "cell_type": "code",
   "execution_count": null,
   "metadata": {
    "collapsed": false
   },
   "outputs": [],
   "source": [
    "feat_corr = df[df.Nlnk==0].corr()\n",
    "sns.heatmap(feat_corr, square=True)"
   ]
  },
  {
   "cell_type": "code",
   "execution_count": null,
   "metadata": {
    "collapsed": false
   },
   "outputs": [],
   "source": [
    "df_temp = df[df[\"Nimg\"]>100 and df[\"Ndscr\"]<2]\n",
    "scatter_matrix(df_temp[[\"Nimg\", \"Ndscr\"]],figsize=(12,9),alpha = 0.5,diagonal='kde');"
   ]
  },
  {
   "cell_type": "code",
   "execution_count": null,
   "metadata": {
    "collapsed": false
   },
   "outputs": [],
   "source": [
    "#check if my Nitem_ works for descriptions\n",
    "print df.loc[65]"
   ]
  },
  {
   "cell_type": "code",
   "execution_count": null,
   "metadata": {
    "collapsed": false
   },
   "outputs": [],
   "source": [
    "df_temp = df[df[\"Ndscr\"]<2]\n",
    "df_temp.head(2)"
   ]
  },
  {
   "cell_type": "code",
   "execution_count": null,
   "metadata": {
    "collapsed": false
   },
   "outputs": [],
   "source": [
    "df[df[\"Nxtra\"]>0].Nxtra.hist(bins=50)"
   ]
  },
  {
   "cell_type": "code",
   "execution_count": null,
   "metadata": {
    "collapsed": false
   },
   "outputs": [],
   "source": [
    "plots = df[df[\"channel\"].isin([\"Arduino\",\"cnc\"])].groupby(\"channel\").hist(bins = 50)\n",
    "len(plots)"
   ]
  },
  {
   "cell_type": "code",
   "execution_count": null,
   "metadata": {
    "collapsed": false
   },
   "outputs": [],
   "source": [
    "df[df.Nimg<100][\"Nimg\"].hist(bins = 50)\n"
   ]
  },
  {
   "cell_type": "code",
   "execution_count": null,
   "metadata": {
    "collapsed": false
   },
   "outputs": [],
   "source": [
    "datadf = df.loc[:1000,[\"Ndscr\",\"Nimg\",\"Nstp\"]]"
   ]
  },
  {
   "cell_type": "code",
   "execution_count": null,
   "metadata": {
    "collapsed": false
   },
   "outputs": [],
   "source": [
    "#datadf = df.loc[:1000,\"Ndscr\",\"Nimg\",\"Nstp\"]\n",
    "dfnorm = scale(df)\n",
    "\n",
    "n_clusters = 2\n",
    "np.random.seed(4)\n",
    "\n",
    "n_samples, n_features = datadf.shape\n",
    "#n_digits = len(np.unique(labels))\n",
    "sample_size = 300\n",
    "\n",
    "model = KMeans(init='k-means++', n_clusters=n_clusters, n_init=20)\n",
    "train = model.fit(dfnorm)"
   ]
  },
  {
   "cell_type": "code",
   "execution_count": null,
   "metadata": {
    "collapsed": true
   },
   "outputs": [],
   "source": [
    "def bench_k_means(estimator, name, data):\n",
    "    t0 = time()\n",
    "    estimator.fit(data)\n",
    "    print('% 9s   %.2fs    %i   %.3f   %.3f   %.3f   %.3f   %.3f    %.3f'\n",
    "          % (name, (time() - t0), estimator.inertia_,\n",
    "             metrics.homogeneity_score(labels, estimator.labels_),\n",
    "             metrics.completeness_score(labels, estimator.labels_),\n",
    "             metrics.v_measure_score(labels, estimator.labels_),\n",
    "             metrics.adjusted_rand_score(labels, estimator.labels_),\n",
    "             metrics.adjusted_mutual_info_score(labels,  estimator.labels_),\n",
    "             metrics.silhouette_score(data, estimator.labels_,\n",
    "                                      metric='euclidean',\n",
    "                                      sample_size=sample_size)))\n",
    "\n",
    "bench_k_means(KMeans(init='k-means++', n_clusters=n_clusters, n_init=20), name=\"k-means++\", data=data)\n",
    "\n",
    "bench_k_means(KMeans(init='random', n_clusters=n_clusters, n_init=20), name=\"random\", data=data)"
   ]
  },
  {
   "cell_type": "code",
   "execution_count": null,
   "metadata": {
    "collapsed": true
   },
   "outputs": [],
   "source": [
    "# in this case the seeding of the centers is deterministic, hence we run the\n",
    "# kmeans algorithm only once with n_init=1\n",
    "pca = PCA(n_components=2).fit(dfnorm)\n",
    "bench_k_means(KMeans(init=pca.components_, n_clusters=n_clusters, n_init=10),name=\"PCA-based\", data=data)"
   ]
  },
  {
   "cell_type": "code",
   "execution_count": null,
   "metadata": {
    "collapsed": true
   },
   "outputs": [],
   "source": [
    "reduced_data = PCA(n_components=2).fit_transform(data)\n",
    "kmeans = KMeans(init='k-means++', n_clusters=n_clusters, n_init=20)\n",
    "kmeans.fit(reduced_data)\n",
    "bench_k_means(KMeans(init='k-means++', n_clusters=n_clusters, n_init=20), name=\"stuff\", data=reduced_data)\n",
    "print(79 * '_')\n",
    "\n",
    "# Step size of the mesh. Decrease to increase the quality of the VQ.\n",
    "h = .02     # point in the mesh [x_min, m_max]x[y_min, y_max]."
   ]
  },
  {
   "cell_type": "code",
   "execution_count": null,
   "metadata": {
    "collapsed": true
   },
   "outputs": [],
   "source": [
    "# Plot the decision boundary. For that, we will assign a color to each\n",
    "x_min, x_max = reduced_data[:, 0].min() + 0, reduced_data[:, 0].max() - 0\n",
    "y_min, y_max = reduced_data[:, 1].min() + 0, reduced_data[:, 1].max() - 0\n",
    "xx, yy = np.meshgrid(np.arange(x_min, x_max, h), np.arange(y_min, y_max, h))\n",
    "\n",
    "# Obtain labels for each point in mesh. Use last trained model.\n",
    "Z = kmeans.predict(np.c_[xx.ravel(), yy.ravel()])\n",
    "cluster_id= kmeans.labels_\n",
    "#print type(cluster_id)\n",
    "\n",
    "# Put the result into a color plot\n",
    "Z = Z.reshape(xx.shape)\n",
    "plt.figure(1)\n",
    "plt.clf()\n",
    "plt.imshow(Z, interpolation='nearest',\n",
    "           extent=(xx.min(), xx.max(), yy.min(), yy.max()),\n",
    "           cmap=plt.cm.Paired,\n",
    "           aspect='auto', origin='lower')\n",
    "\n",
    "plt.plot(reduced_data[:, 0], reduced_data[:, 1], 'k.', markersize=2)\n",
    "# Plot the centroids as a white X\n",
    "centroids = kmeans.cluster_centers_\n",
    "plt.scatter(centroids[:, 0], centroids[:, 1],\n",
    "            marker='x', s=169, linewidths=3,\n",
    "            color='w', zorder=10)\n",
    "plt.title('')\n",
    "plt.xlim(x_min, x_max)\n",
    "plt.ylim(y_min, y_max)\n",
    "plt.xticks(())\n",
    "plt.yticks(())\n",
    "plt.show()"
   ]
  },
  {
   "cell_type": "code",
   "execution_count": null,
   "metadata": {
    "collapsed": false
   },
   "outputs": [],
   "source": [
    "y = df[\"views\"].values"
   ]
  },
  {
   "cell_type": "markdown",
   "metadata": {},
   "source": [
    "df[\"descr\"] = tech_samp[\"descr\"].apply(list_to_string)\n",
    "df[\"\"] = tech_samp[\"date\"].apply()****\n",
    "df[\"\"] = tech_samp[\"relatedURL\"].apply()\n",
    "df[\"\"] = tech_samp[\"tags\"].apply()"
   ]
  },
  {
   "cell_type": "raw",
   "metadata": {},
   "source": [
    "def tempfunc(alist):\n",
    "    string = alist[0]\n",
    "    print type(alist)\n",
    "    elem1 = string[:2]\n",
    "    elem2 = string[2:4]\n",
    "    elem3 = string[4:]\n",
    "    return pd.Series({\"category\" : elem1,\"views\": elem2, \"storm\" : elem3})"
   ]
  },
  {
   "cell_type": "code",
   "execution_count": null,
   "metadata": {
    "collapsed": true
   },
   "outputs": [],
   "source": []
  },
  {
   "cell_type": "markdown",
   "metadata": {
    "collapsed": true
   },
   "source": [
    "# ####### Label engineering ########"
   ]
  },
  {
   "cell_type": "code",
   "execution_count": null,
   "metadata": {
    "collapsed": false
   },
   "outputs": [],
   "source": [
    "print df.dtypes"
   ]
  },
  {
   "cell_type": "code",
   "execution_count": null,
   "metadata": {
    "collapsed": false
   },
   "outputs": [],
   "source": [
    "random.sample(range(len(df)), 300)"
   ]
  },
  {
   "cell_type": "code",
   "execution_count": null,
   "metadata": {
    "collapsed": false
   },
   "outputs": [],
   "source": [
    "row = 20043\n",
    "print df.loc[row].projectID"
   ]
  },
  {
   "cell_type": "code",
   "execution_count": null,
   "metadata": {
    "collapsed": false
   },
   "outputs": [],
   "source": [
    "df.loc[row,\"complex\"]=1"
   ]
  },
  {
   "cell_type": "code",
   "execution_count": null,
   "metadata": {
    "collapsed": false
   },
   "outputs": [],
   "source": [
    "df.to_pickle(\"techno_features.pickle\")"
   ]
  },
  {
   "cell_type": "code",
   "execution_count": null,
   "metadata": {
    "collapsed": false
   },
   "outputs": [],
   "source": [
    "df[np.isnan(df.dscrPerStp)].views"
   ]
  },
  {
   "cell_type": "code",
   "execution_count": null,
   "metadata": {
    "collapsed": false
   },
   "outputs": [],
   "source": [
    "data= df[df.complex>=0].copy()\n",
    "data.loc[:,\"dscrPerStp\"] = data[\"Ndscr\"]/data[\"Nstp\"]\n",
    "data"
   ]
  },
  {
   "cell_type": "code",
   "execution_count": null,
   "metadata": {
    "collapsed": false
   },
   "outputs": [],
   "source": [
    "df[\"complex\"]"
   ]
  },
  {
   "cell_type": "code",
   "execution_count": null,
   "metadata": {
    "collapsed": false
   },
   "outputs": [],
   "source": [
    "#make vector of features\n",
    "dataRaw = df.loc[df[\"complex\"] > 0,[\"logNdscr\",\"logImg\",\"Nstp\",\"Nlnk\", \"Nstp\", \"Nvid\",\"dscrPerStp\", \"scripts\", \"dscrPerImg\"]]\n",
    "\n",
    "dataRaw.fillna(value=0)\n",
    "print dataRaw.head(1)\n",
    "label = df.loc[df[\"complex\"] > 0,\"complex\"]\n",
    "data = scale(dataRaw)"
   ]
  },
  {
   "cell_type": "code",
   "execution_count": null,
   "metadata": {
    "collapsed": false
   },
   "outputs": [],
   "source": []
  },
  {
   "cell_type": "code",
   "execution_count": null,
   "metadata": {
    "collapsed": false
   },
   "outputs": [],
   "source": [
    "X_train, X_test, Y_train, Y_test = train_test_split(data, label, test_size = 0.3)"
   ]
  },
  {
   "cell_type": "code",
   "execution_count": null,
   "metadata": {
    "collapsed": false
   },
   "outputs": [],
   "source": [
    "linmodel = SVR(kernel='linear')\n",
    "linSVR = model.fit(X_train,Y_train)\n",
    "rbfmodel = SVR(kernel='rbf')\n",
    "rbfSVR = model.fit(X_train,Y_train)"
   ]
  },
  {
   "cell_type": "code",
   "execution_count": null,
   "metadata": {
    "collapsed": false
   },
   "outputs": [],
   "source": [
    "y_predlin = linSVR.predict(X_test)\n",
    "y_predrbf = rbfSVR.predict(X_test)"
   ]
  },
  {
   "cell_type": "code",
   "execution_count": null,
   "metadata": {
    "collapsed": false
   },
   "outputs": [],
   "source": [
    "plt.scatter(Y_test,y_predrbf)\n",
    "plt.xlabel(\"True complexity\")\n",
    "plt.ylabel(\"Estimated complexity\")\n",
    "plt.grid(b=False)"
   ]
  },
  {
   "cell_type": "code",
   "execution_count": null,
   "metadata": {
    "collapsed": false
   },
   "outputs": [],
   "source": [
    "raw = df.loc[:,[\"logNdscr\",\"logImg\",\"Nstp\",\"Nlnk\", \"Nstp\", \"Nvid\",\"dscrPerStp\",\"Ncmmt\", \"scripts\", \"dscrPerImg\"]].values\n",
    "raw"
   ]
  },
  {
   "cell_type": "code",
   "execution_count": null,
   "metadata": {
    "collapsed": false
   },
   "outputs": [],
   "source": [
    "ALLdata = scale(raw)\n",
    "df.loc[:,\"complexEst\"] = rbfSVR.predict(ALLdata)"
   ]
  },
  {
   "cell_type": "code",
   "execution_count": null,
   "metadata": {
    "collapsed": false
   },
   "outputs": [],
   "source": [
    "scatter_matrix(df.loc[:5000,[\"complexEst\",\"Nstp\"]])"
   ]
  },
  {
   "cell_type": "code",
   "execution_count": null,
   "metadata": {
    "collapsed": true
   },
   "outputs": [],
   "source": [
    "def find_project(difficulty, ):"
   ]
  },
  {
   "cell_type": "code",
   "execution_count": null,
   "metadata": {
    "collapsed": true
   },
   "outputs": [],
   "source": [
    "#dont use this line as is....\n",
    "df.to_pickle(\"techno_content-with_c.pickle\")"
   ]
  },
  {
   "cell_type": "code",
   "execution_count": null,
   "metadata": {
    "collapsed": false
   },
   "outputs": [],
   "source": [
    "#df.to_pickle(\"Data/techno_features.pickle\")\n",
    "df.shape"
   ]
  },
  {
   "cell_type": "code",
   "execution_count": null,
   "metadata": {
    "collapsed": true
   },
   "outputs": [],
   "source": [
    "dataDF = pd.read_pickle('Data/techno_features.pickle')"
   ]
  },
  {
   "cell_type": "code",
   "execution_count": null,
   "metadata": {
    "collapsed": true
   },
   "outputs": [],
   "source": [
    "dataDF2 = pd.read_pickle('Data/techno_content-with_complexity.pickle')"
   ]
  },
  {
   "cell_type": "code",
   "execution_count": null,
   "metadata": {
    "collapsed": false
   },
   "outputs": [],
   "source": [
    "dataDF = dataDF.merge(dataDF2.loc[:,[\"url\",\"complex\"]], on=\"url\")\n",
    "dataDF.shape"
   ]
  },
  {
   "cell_type": "code",
   "execution_count": null,
   "metadata": {
    "collapsed": true
   },
   "outputs": [],
   "source": [
    "dataDF = df.copy()"
   ]
  },
  {
   "cell_type": "code",
   "execution_count": null,
   "metadata": {
    "collapsed": false
   },
   "outputs": [],
   "source": [
    "#make vector of features\n",
    "dataRaw = dataDF.loc[dataDF[\"complex\"] > 0, [\"logNdscr\",\"logImg\",\"Nstp\",\"Nlnk\", \"Nstp\", \"Nvid\",\"dscrPerStp\", \"scripts\", \"dscrPerImg\"]]\n",
    "dataRaw.fillna(value=0, inplace = True)\n",
    "\n",
    "label = dataDF.loc[dataDF[\"complex\"] > 0, \"complex\"]\n",
    "data = scale(dataRaw)"
   ]
  },
  {
   "cell_type": "code",
   "execution_count": null,
   "metadata": {
    "collapsed": true
   },
   "outputs": [],
   "source": [
    "\n",
    "X_train, X_test, Y_train, Y_test = train_test_split(data, label, test_size = 0.3)"
   ]
  },
  {
   "cell_type": "code",
   "execution_count": null,
   "metadata": {
    "collapsed": false
   },
   "outputs": [],
   "source": [
    "linmodel = SVR(kernel='linear')\n",
    "linSVR = linmodel.fit(X_train,Y_train)\n",
    "rbfmodel = SVR(kernel='rbf')\n",
    "rbfSVR = rbfmodel.fit(X_train,Y_train)"
   ]
  },
  {
   "cell_type": "code",
   "execution_count": null,
   "metadata": {
    "collapsed": true
   },
   "outputs": [],
   "source": [
    "ALLdata = dataDF.loc[:, [\"logNdscr\",\"logImg\",\"Nstp\",\"Nlnk\", \"Nstp\", \"Nvid\",\"dscrPerStp\", \"scripts\", \"dscrPerImg\"]]\n",
    "dataDF.loc[:, \"complexEstimate\"] = rbfSVR.predict(scale(ALLdata))"
   ]
  },
  {
   "cell_type": "code",
   "execution_count": null,
   "metadata": {
    "collapsed": false
   },
   "outputs": [],
   "source": [
    "dataDF.describe()"
   ]
  },
  {
   "cell_type": "code",
   "execution_count": null,
   "metadata": {
    "collapsed": false
   },
   "outputs": [],
   "source": [
    "f = open('rbfmodel.pickle','wb')\n",
    "s = pkl.dump(rbfmodel,f)\n",
    "f.close()\n",
    "#clf2 = pickle.load(s)\n",
    "# predict on [\"logNdscr\",\"logImg\",\"Nstp\",\"Nlnk\", \"Nstp\", \"Nvid\",\"dscrPerStp\", \"scripts\", \"dscrPerImg\"]"
   ]
  },
  {
   "cell_type": "code",
   "execution_count": null,
   "metadata": {
    "collapsed": true
   },
   "outputs": [],
   "source": [
    "df.to_pickle('techno_df_w_estimates.pickle')"
   ]
  },
  {
   "cell_type": "code",
   "execution_count": null,
   "metadata": {
    "collapsed": true
   },
   "outputs": [],
   "source": []
  },
  {
   "cell_type": "code",
   "execution_count": null,
   "metadata": {
    "collapsed": true
   },
   "outputs": [],
   "source": []
  },
  {
   "cell_type": "code",
   "execution_count": null,
   "metadata": {
    "collapsed": true
   },
   "outputs": [],
   "source": []
  },
  {
   "cell_type": "code",
   "execution_count": null,
   "metadata": {
    "collapsed": true
   },
   "outputs": [],
   "source": []
  },
  {
   "cell_type": "code",
   "execution_count": null,
   "metadata": {
    "collapsed": true
   },
   "outputs": [],
   "source": []
  },
  {
   "cell_type": "code",
   "execution_count": null,
   "metadata": {
    "collapsed": true
   },
   "outputs": [],
   "source": []
  },
  {
   "cell_type": "code",
   "execution_count": null,
   "metadata": {
    "collapsed": true
   },
   "outputs": [],
   "source": []
  },
  {
   "cell_type": "code",
   "execution_count": null,
   "metadata": {
    "collapsed": false
   },
   "outputs": [],
   "source": [
    "con = mdb.connect(user=\"root\", host=\"localhost\", db=\"instructables\",  charset='utf8', unix_socket='/tmp/mysql.sock', port='3307')"
   ]
  },
  {
   "cell_type": "code",
   "execution_count": null,
   "metadata": {
    "collapsed": false
   },
   "outputs": [],
   "source": [
    "testDB = dataDF.loc[:, [\"Ndscr\", \"Nimg\", \"Nlnk\",\"Nstp\", \"Nxtra\",\"dscrPerImg\", \"dscrPerStp\", \"logNdscr\", \"url\", \"logImg\", \"channel\", \"keywords\", \"complexEstimate\"]]\n",
    "testDB.shape"
   ]
  },
  {
   "cell_type": "code",
   "execution_count": null,
   "metadata": {
    "collapsed": false
   },
   "outputs": [],
   "source": [
    "testDB.to_sql(con=con, name='technoFeatures', if_exists='replace', flavor='mysql')\n",
    "con.close()"
   ]
  },
  {
   "cell_type": "code",
   "execution_count": null,
   "metadata": {
    "collapsed": false
   },
   "outputs": [],
   "source": [
    "dataDF.columns"
   ]
  },
  {
   "cell_type": "code",
   "execution_count": null,
   "metadata": {
    "collapsed": true
   },
   "outputs": [],
   "source": []
  },
  {
   "cell_type": "code",
   "execution_count": null,
   "metadata": {
    "collapsed": true
   },
   "outputs": [],
   "source": [
    "dataDF.to_pickle('techno_data_with_estimates.pickle')"
   ]
  },
  {
   "cell_type": "code",
   "execution_count": null,
   "metadata": {
    "collapsed": true
   },
   "outputs": [],
   "source": []
  },
  {
   "cell_type": "code",
   "execution_count": null,
   "metadata": {
    "collapsed": true
   },
   "outputs": [],
   "source": []
  },
  {
   "cell_type": "code",
   "execution_count": null,
   "metadata": {
    "collapsed": true
   },
   "outputs": [],
   "source": []
  },
  {
   "cell_type": "code",
   "execution_count": null,
   "metadata": {
    "collapsed": false
   },
   "outputs": [],
   "source": [
    "pd.Dataframe()"
   ]
  },
  {
   "cell_type": "code",
   "execution_count": null,
   "metadata": {
    "collapsed": true
   },
   "outputs": [],
   "source": [
    "dataDF = pd.read_pickle(\"techno_data_with_estimates.pickle\")"
   ]
  },
  {
   "cell_type": "code",
   "execution_count": null,
   "metadata": {
    "collapsed": false
   },
   "outputs": [],
   "source": [
    "textList = [tex for tex in dataDF.fulltext.values]\n",
    "textList[:2]"
   ]
  },
  {
   "cell_type": "code",
   "execution_count": null,
   "metadata": {
    "collapsed": false
   },
   "outputs": [],
   "source": [
    "#################### TOKENIZATION ##################"
   ]
  },
  {
   "cell_type": "code",
   "execution_count": 70,
   "metadata": {
    "collapsed": false
   },
   "outputs": [
    {
     "data": {
      "text/plain": [
       "'taggers/maxent_treebank_pos_tagger/english.pickle'"
      ]
     },
     "execution_count": 70,
     "metadata": {},
     "output_type": "execute_result"
    }
   ],
   "source": [
    "import nltk.corpus\n",
    "from nltk.corpus import stopwords\n",
    "nltk.tag._POS_TAGGER\n"
   ]
  },
  {
   "cell_type": "code",
   "execution_count": 103,
   "metadata": {
    "collapsed": false
   },
   "outputs": [],
   "source": [
    "corpa = ' '.join(textList[:50])\n",
    "tokens = nltk.word_tokenize(corpa.lower())\n",
    "pos = nltk.pos_tag(tokens)"
   ]
  },
  {
   "cell_type": "code",
   "execution_count": 104,
   "metadata": {
    "collapsed": false
   },
   "outputs": [
    {
     "data": {
      "text/plain": [
       "26976"
      ]
     },
     "execution_count": 104,
     "metadata": {},
     "output_type": "execute_result"
    }
   ],
   "source": [
    "#verbs = [v[0] for v in pos if v[1] in ['VB','VBN','VBG','VBP'] ]\n",
    "#nouns = [v[0] for v in pos if v[1] in ['NN', 'NNP', 'NNPS', 'NNS'] ]\n",
    "corpus = [v[0] for v in pos if (v[1] in ['NN', 'NNP', 'NNPS', 'NNS','VB','VBN','VBG','VBP']) and (v[0] not in mystopwords)]\n",
    "len(corpus)"
   ]
  },
  {
   "cell_type": "code",
   "execution_count": 63,
   "metadata": {
    "collapsed": false
   },
   "outputs": [
    {
     "name": "stdout",
     "output_type": "stream",
     "text": [
      "['JJS', 'IN', 'PRP', 'VBP', 'RB', 'VB', 'NN', 'DT', 'VBN', 'WDT', 'MD', 'WRB', 'CC', 'JJ', 'VBZ', 'VBG', 'TO', 'NNS', 'NNP', 'RP', 'PRP$', 'VBD', 'JJR', 'NNPS', 'RBR', 'CD', 'EX', 'RBS', 'WP', 'WP$', 'PDT', 'FW']\n"
     ]
    }
   ],
   "source": [
    "tags = [v for w,v in pos]\n",
    "unique = []\n",
    "for tag in tags:\n",
    "    if tag not in unique:\n",
    "        unique.append(tag)\n",
    "print unique"
   ]
  },
  {
   "cell_type": "code",
   "execution_count": 64,
   "metadata": {
    "collapsed": false
   },
   "outputs": [
    {
     "name": "stdout",
     "output_type": "stream",
     "text": [
      "(u'De', 'FW')\n",
      "(u'de', 'FW')\n"
     ]
    }
   ],
   "source": [
    "for v in pos:\n",
    "    if v[1] == 'FW':\n",
    "        print v "
   ]
  },
  {
   "cell_type": "code",
   "execution_count": 113,
   "metadata": {
    "collapsed": false
   },
   "outputs": [
    {
     "name": "stdout",
     "output_type": "stream",
     "text": [
      "127\n"
     ]
    },
    {
     "data": {
      "text/plain": [
       "139"
      ]
     },
     "execution_count": 113,
     "metadata": {},
     "output_type": "execute_result"
    }
   ],
   "source": [
    "mystopwords =  stopwords.words(\"english\")\n",
    "print len(mystopwords)\n",
    "extrawords = [\"make\",\"need\",\"using\",\"get\", \"see\",\"x\", \"m\", \"v\",\"want\", \"d\", \"www\", \"org\"]\n",
    "for xtra in extrawords:\n",
    "    mystopwords.append(xtra)\n",
    "len(mystopwords)"
   ]
  },
  {
   "cell_type": "markdown",
   "metadata": {},
   "source": [
    "# stem and lemma"
   ]
  },
  {
   "cell_type": "code",
   "execution_count": 108,
   "metadata": {
    "collapsed": false
   },
   "outputs": [],
   "source": [
    "from nltk.stem.snowball import SnowballStemmer"
   ]
  },
  {
   "cell_type": "code",
   "execution_count": 122,
   "metadata": {
    "collapsed": false
   },
   "outputs": [],
   "source": [
    "stemmer = SnowballStemmer(\"english\")"
   ]
  },
  {
   "cell_type": "code",
   "execution_count": 123,
   "metadata": {
    "collapsed": false
   },
   "outputs": [
    {
     "name": "stdout",
     "output_type": "stream",
     "text": [
      "[u'In', u'this', u'project', u'we', u'will', u'be', u'making', u'a', u'wireless', u'side', u'lamp', u'that', u'can', u'be', u'controlled']\n"
     ]
    },
    {
     "data": {
      "text/plain": [
       "[u'in',\n",
       " u'this',\n",
       " u'project',\n",
       " u'we',\n",
       " u'will',\n",
       " u'be',\n",
       " u'make',\n",
       " u'a',\n",
       " u'wireless',\n",
       " u'side',\n",
       " u'lamp',\n",
       " u'that',\n",
       " u'can',\n",
       " u'be',\n",
       " u'control']"
      ]
     },
     "execution_count": 123,
     "metadata": {},
     "output_type": "execute_result"
    }
   ],
   "source": [
    "test = [stemmer.stem(word) for word in textList[5].split()]\n",
    "print textList[5].split()[:15]\n",
    "test[:15]"
   ]
  },
  {
   "cell_type": "code",
   "execution_count": 231,
   "metadata": {
    "collapsed": false
   },
   "outputs": [],
   "source": [
    "# for every text, process them with stop words\n",
    "stemmer = SnowballStemmer(\"english\")\n",
    "newdocumentF =[] \n",
    "for document in textList[12000:13500]:\n",
    "    tokens = nltk.word_tokenize(document.lower())\n",
    "    pos = nltk.pos_tag(tokens)\n",
    "    relevant = [v[0] for v in pos if (v[1] in ['NN', 'NNP', 'NNPS', 'NNS','VB','VBN','VBG','VBP']) and (v[0] not in mystopwords)]\n",
    "    stemmed = [stemmer.stem(word) for word in relevant]\n",
    "    newdocumentF.append(' '.join(stemmed))"
   ]
  },
  {
   "cell_type": "code",
   "execution_count": 232,
   "metadata": {
    "collapsed": false
   },
   "outputs": [
    {
     "data": {
      "text/plain": [
       "1500"
      ]
     },
     "execution_count": 232,
     "metadata": {},
     "output_type": "execute_result"
    }
   ],
   "source": [
    "len(newdocumentF)#[7031][:100]\n",
    "#textList[9999][:200]"
   ]
  },
  {
   "cell_type": "code",
   "execution_count": 203,
   "metadata": {
    "collapsed": false
   },
   "outputs": [
    {
     "data": {
      "text/plain": [
       "u'usb hub insid snes cartridg fun project start play retro game snes nes emul pc game nt feel comput screen tv fun extens cabl gamepad lie place usb insid snes cartridg kart everyon eveybodi love game h'"
      ]
     },
     "execution_count": 203,
     "metadata": {},
     "output_type": "execute_result"
    }
   ],
   "source": [
    "newdocumentB[1967][:200]"
   ]
  },
  {
   "cell_type": "code",
   "execution_count": 233,
   "metadata": {
    "collapsed": false
   },
   "outputs": [
    {
     "data": {
      "text/plain": [
       "13500"
      ]
     },
     "execution_count": 233,
     "metadata": {},
     "output_type": "execute_result"
    }
   ],
   "source": [
    "testL = newdocumentsA+newdocumentB+newdocumentC+newdocumentD+newdocumentE+newdocumentF\n",
    "len(testL)#newdocumentC[999][:100]#textList[7031][:200]"
   ]
  },
  {
   "cell_type": "code",
   "execution_count": 215,
   "metadata": {
    "collapsed": false
   },
   "outputs": [],
   "source": [
    "with open(\"newdocumentABC.pickle\", 'wb') as f:\n",
    "    pkl.dump(testL, f)"
   ]
  },
  {
   "cell_type": "code",
   "execution_count": 208,
   "metadata": {
    "collapsed": false
   },
   "outputs": [
    {
     "name": "stdout",
     "output_type": "stream",
     "text": [
      "10000\n"
     ]
    },
    {
     "data": {
      "text/plain": [
       "u'warm touch screen glove go buy glove acryl spandex note materi work check comment lick lick tip take'"
      ]
     },
     "execution_count": 208,
     "metadata": {},
     "output_type": "execute_result"
    }
   ],
   "source": [
    "# retrieve dumped parsed documents\n",
    "with open(\"newdocumentABC.pickle\", 'rb') as f:\n",
    "    testL2 = pkl.load(f)\n",
    "print len(testL2)\n",
    "testL2[9999][:100]"
   ]
  },
  {
   "cell_type": "code",
   "execution_count": 125,
   "metadata": {
    "collapsed": false
   },
   "outputs": [
    {
     "data": {
      "text/plain": [
       "[('having', 'VBG'), ('munchies', 'NNS'), ('arduino', 'RB'), ('the', 'DT')]"
      ]
     },
     "execution_count": 125,
     "metadata": {},
     "output_type": "execute_result"
    }
   ],
   "source": [
    "nltk.pos_tag([\"having\", \"munchies\", \"arduino\",\"the\"])"
   ]
  },
  {
   "cell_type": "code",
   "execution_count": null,
   "metadata": {
    "collapsed": true
   },
   "outputs": [],
   "source": []
  },
  {
   "cell_type": "code",
   "execution_count": 105,
   "metadata": {
    "collapsed": false
   },
   "outputs": [],
   "source": [
    "corpusFreq = nltk.FreqDist(corpus)\n",
    "#verbcount = nltk.FreqDist(verbs)\n",
    "#nounscount = nltk.FreqDist(nouns)"
   ]
  },
  {
   "cell_type": "code",
   "execution_count": 106,
   "metadata": {
    "collapsed": false
   },
   "outputs": [
    {
     "data": {
      "image/png": "[encoded data removed]",
      "text/plain": [
       "<matplotlib.figure.Figure at 0x127d9ab50>"
      ]
     },
     "metadata": {},
     "output_type": "display_data"
    }
   ],
   "source": [
    "corpusFreq.plot(40)\n",
    "#verbcount.plot(30, cumulative = False)"
   ]
  },
  {
   "cell_type": "code",
   "execution_count": null,
   "metadata": {
    "collapsed": true
   },
   "outputs": [],
   "source": []
  },
  {
   "cell_type": "code",
   "execution_count": null,
   "metadata": {
    "collapsed": false,
    "scrolled": true
   },
   "outputs": [],
   "source": [
    "text = nltk.Text(tokens)\n",
    "freq1 = nltk.FreqDist(ch.lower() for ch in text if ch.isalpha())\n",
    "freq1.plot(70,cumulative = True)"
   ]
  },
  {
   "cell_type": "code",
   "execution_count": null,
   "metadata": {
    "collapsed": false
   },
   "outputs": [],
   "source": [
    "raw = \" \".join(des2)\n",
    "tokens = nltk.word_tokenize(raw)\n",
    "lengths = [(len(fdr),fdr) for fdr in tokens ]\n",
    "lengths.sort(reverse=True)\n",
    "lengths"
   ]
  },
  {
   "cell_type": "code",
   "execution_count": null,
   "metadata": {
    "collapsed": false
   },
   "outputs": [],
   "source": [
    "raw = \" \".join(des2)\n",
    "tokens = nltk.word_tokenize(raw)\n",
    "regtok = [tok for tok in tokens if len(tok)<16 and tok.isalnum()]\n",
    "regtok"
   ]
  },
  {
   "cell_type": "code",
   "execution_count": null,
   "metadata": {
    "collapsed": false
   },
   "outputs": [],
   "source": [
    "text = nltk.pos_tag(tokens)\n",
    "verbs = [v[0] for v in text if v[1] == \"VB\"]\n",
    "verbs = nltk.word_tokenize(\" \".join(verbs))"
   ]
  },
  {
   "cell_type": "code",
   "execution_count": null,
   "metadata": {
    "collapsed": false
   },
   "outputs": [],
   "source": [
    "verbing = re.findall(\" (\\w+ing) \",\" \".join(des2))"
   ]
  },
  {
   "cell_type": "code",
   "execution_count": null,
   "metadata": {
    "collapsed": false
   },
   "outputs": [],
   "source": [
    "sorted([(verbing.count(l),l) for l in verbing], reverse=True)"
   ]
  },
  {
   "cell_type": "code",
   "execution_count": null,
   "metadata": {
    "collapsed": false
   },
   "outputs": [],
   "source": [
    "verbs = nltk.FreqDist(\" \".join(verbs))\n"
   ]
  },
  {
   "cell_type": "code",
   "execution_count": null,
   "metadata": {
    "collapsed": true
   },
   "outputs": [],
   "source": [
    "from sklearn.feature_extraction.text import TfidfVectorizer\n",
    "from sklearn.metrics.pairwise import cosine_similarity"
   ]
  },
  {
   "cell_type": "code",
   "execution_count": 234,
   "metadata": {
    "collapsed": false
   },
   "outputs": [
    {
     "data": {
      "text/plain": [
       "10000"
      ]
     },
     "execution_count": 234,
     "metadata": {},
     "output_type": "execute_result"
    }
   ],
   "source": [
    "documents = textList[:10000]\n",
    "len(documents)"
   ]
  },
  {
   "cell_type": "code",
   "execution_count": 235,
   "metadata": {
    "collapsed": false
   },
   "outputs": [
    {
     "data": {
      "text/plain": [
       "(10000, 103285)"
      ]
     },
     "execution_count": 235,
     "metadata": {},
     "output_type": "execute_result"
    }
   ],
   "source": [
    "tfidf_vectorizer = TfidfVectorizer()\n",
    "tfidf_matrix = tfidf_vectorizer.fit_transform(documents)\n",
    "tfidf_matrix.shape"
   ]
  },
  {
   "cell_type": "code",
   "execution_count": 236,
   "metadata": {
    "collapsed": false
   },
   "outputs": [
    {
     "data": {
      "text/plain": [
       "array([[ 1.        ,  0.3146106 ,  0.41084762, ...,  0.11555132,\n",
       "         0.28750901,  0.09608209],\n",
       "       [ 0.3146106 ,  1.        ,  0.20572423, ...,  0.08313831,\n",
       "         0.19503859,  0.05724038],\n",
       "       [ 0.41084762,  0.20572423,  1.        , ...,  0.08022494,\n",
       "         0.17754916,  0.07096804],\n",
       "       ..., \n",
       "       [ 0.11575513,  0.08079367,  0.08349012, ...,  0.03133151,\n",
       "         0.10339419,  0.02928314],\n",
       "       [ 0.3328301 ,  0.20203016,  0.20923492, ...,  0.06989738,\n",
       "         0.17143612,  0.06813452],\n",
       "       [ 0.43021878,  0.28181834,  0.28673892, ...,  0.15262198,\n",
       "         0.29829492,  0.1119714 ]])"
      ]
     },
     "execution_count": 236,
     "metadata": {},
     "output_type": "execute_result"
    }
   ],
   "source": [
    "cosARRAY = cosine_similarity(tfidf_matrix[0:34], tfidf_matrix)\n",
    "cosARRAY "
   ]
  },
  {
   "cell_type": "code",
   "execution_count": 248,
   "metadata": {
    "collapsed": false
   },
   "outputs": [
    {
     "data": {
      "text/plain": [
       "[7, 4741, 1509, 3869, 6219, 3562, 4047, 7624, 1399, 5896]"
      ]
     },
     "execution_count": 248,
     "metadata": {},
     "output_type": "execute_result"
    }
   ],
   "source": [
    "# INDEX of the most similar projects\n",
    "s = cosARRAY[7]\n",
    "indices = sorted(range(len(s)), reverse = True, key=lambda k: s[k])\n",
    "indices[:10]"
   ]
  },
  {
   "cell_type": "code",
   "execution_count": 250,
   "metadata": {
    "collapsed": false
   },
   "outputs": [
    {
     "name": "stdout",
     "output_type": "stream",
     "text": [
      "1.0\n",
      "0.654069978093\n"
     ]
    }
   ],
   "source": [
    "print cosARRAY[7][7]\n",
    "print cosARRAY[7][4741]"
   ]
  },
  {
   "cell_type": "code",
   "execution_count": 268,
   "metadata": {
    "collapsed": false
   },
   "outputs": [
    {
     "name": "stdout",
     "output_type": "stream",
     "text": [
      "2\n",
      "21\n",
      "6\n",
      "16\n",
      "2\n",
      "5\n"
     ]
    }
   ],
   "source": [
    "for t in dataDF.iloc[[7,4741, 1509, 3869, 6219, 3562]].fulltext:\n",
    "#for t in dataDF.iloc[[7,4744, 1549, 3849, 6249, 3542]].fulltext:\n",
    "    print t.count('led ')"
   ]
  },
  {
   "cell_type": "code",
   "execution_count": null,
   "metadata": {
    "collapsed": true
   },
   "outputs": [],
   "source": [
    "dataDF"
   ]
  },
  {
   "cell_type": "code",
   "execution_count": null,
   "metadata": {
    "collapsed": true
   },
   "outputs": [],
   "source": []
  }
 ],
 "metadata": {
  "kernelspec": {
   "display_name": "Python 2",
   "language": "python",
   "name": "python2"
  },
  "language_info": {
   "codemirror_mode": {
    "name": "ipython",
    "version": 2
   },
   "file_extension": ".py",
   "mimetype": "text/x-python",
   "name": "python",
   "nbconvert_exporter": "python",
   "pygments_lexer": "ipython2",
   "version": "2.7.10"
  }
 },
 "nbformat": 4,
 "nbformat_minor": 0
}
